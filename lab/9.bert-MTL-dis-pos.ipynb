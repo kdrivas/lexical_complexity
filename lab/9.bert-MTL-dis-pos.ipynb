{
 "cells": [
  {
   "cell_type": "code",
   "execution_count": 1,
   "metadata": {
    "scrolled": true
   },
   "outputs": [
    {
     "name": "stderr",
     "output_type": "stream",
     "text": [
      "Using TensorFlow backend.\n"
     ]
    },
    {
     "name": "stdout",
     "output_type": "stream",
     "text": [
      "INFO: Pandarallel will run on 12 workers.\n",
      "INFO: Pandarallel will use Memory file system to transfer data between the main process and workers.\n"
     ]
    }
   ],
   "source": [
    "from pathlib import Path\n",
    "import pandas as pd\n",
    "from torch.utils.data import DataLoader\n",
    "import torch\n",
    "from tqdm import tqdm\n",
    "import numpy as np\n",
    "import itertools\n",
    "import random\n",
    "import spacy\n",
    "\n",
    "from keras.preprocessing.sequence import pad_sequences\n",
    "\n",
    "from transformers import BertTokenizer\n",
    "from transformers import BertModel, AdamW, BertConfig\n",
    "from transformers import get_linear_schedule_with_warmup\n",
    "from transformers import DistilBertModel, AdamW\n",
    "from transformers import BertForSequenceClassification\n",
    "\n",
    "from sklearn.preprocessing import LabelEncoder\n",
    "from sklearn.metrics import mean_absolute_error, r2_score, mean_squared_error\n",
    "from sklearn.linear_model import LinearRegression \n",
    "from sklearn.preprocessing import StandardScaler\n",
    "from sklearn.model_selection import StratifiedKFold\n",
    "from pandarallel import pandarallel\n",
    "pandarallel.initialize()\n",
    "\n",
    "import os\n",
    "os.chdir('..')\n",
    "\n",
    "from src.data_lexical import LexDataset, read_lexical_corpus\n",
    "from src.data_disambiguation import DisDataset, read_disambiguation_corpus\n",
    "from src.model import BertForSharedTaskBaseline\n",
    "from src.training import train, evaluate, forward_func_custom_bert"
   ]
  },
  {
   "cell_type": "code",
   "execution_count": 33,
   "metadata": {},
   "outputs": [],
   "source": [
    "import math\n",
    "import os\n",
    "import warnings\n",
    "from dataclasses import dataclass\n",
    "from typing import Optional, Tuple\n",
    "\n",
    "import torch\n",
    "import torch.utils.checkpoint\n",
    "from torch import nn\n",
    "from torch.nn import CrossEntropyLoss, MSELoss\n",
    "from transformers import BertPreTrainedModel, BertModel\n",
    "from transformers.modeling_outputs import SequenceClassifierOutput\n",
    "\n",
    "\n",
    "class BertTaggingForSharedTaskMultitask(BertPreTrainedModel):\n",
    "\n",
    "    _keys_to_ignore_on_load_unexpected = [r\"pooler\"]\n",
    "\n",
    "    def __init__(self, config):\n",
    "        super().__init__(config)\n",
    "        self.vocab_tag = 10\n",
    "        self.embed_dim = 7\n",
    "        \n",
    "        self.num_labels_first_task = 1 # Regression\n",
    "        self.num_labels_second_task = config.num_labels # Word sense disambiguation\n",
    "\n",
    "        self.bert = BertModel(config)\n",
    "        self.dropout_first = nn.Dropout(config.hidden_dropout_prob)\n",
    "        self.dropout_second = nn.Dropout(config.hidden_dropout_prob)\n",
    "        self.embed_first = nn.Embedding(self.vocab_tag, self.embed_dim)\n",
    "        \n",
    "        self.classifier_first = nn.Linear(config.hidden_size + self.embed_dim, self.num_labels_first_task)\n",
    "        self.classifier_second = nn.Linear(config.hidden_size, self.num_labels_second_task)\n",
    "\n",
    "        self.init_weights()\n",
    "        \n",
    "\n",
    "    def forward(\n",
    "        self,\n",
    "        input_ids=None,\n",
    "        target_positions=None,\n",
    "        task_id=1,\n",
    "        attention_mask=None,\n",
    "        token_type_ids=None,\n",
    "        pos_tags=None,\n",
    "        position_ids=None,\n",
    "        head_mask=None,\n",
    "        inputs_embeds=None,\n",
    "        labels=None,\n",
    "        output_attentions=None,\n",
    "        output_hidden_states=None,\n",
    "        return_dict=None,\n",
    "    ):\n",
    "        r\"\"\"\n",
    "        labels (:obj:`torch.LongTensor` of shape :obj:`(batch_size, sequence_length)`, `optional`):\n",
    "            Labels for computing the token classification loss. Indices should be in ``[0, ..., config.num_labels -\n",
    "            1]``.\n",
    "        \"\"\"\n",
    "        return_dict = return_dict if return_dict is not None else self.config.use_return_dict\n",
    "\n",
    "        outputs = self.bert(\n",
    "            input_ids,\n",
    "            attention_mask=attention_mask,\n",
    "            token_type_ids=token_type_ids,\n",
    "            position_ids=position_ids,\n",
    "            head_mask=head_mask,\n",
    "            inputs_embeds=inputs_embeds,\n",
    "            output_attentions=output_attentions,\n",
    "            output_hidden_states=output_hidden_states,\n",
    "            return_dict=return_dict,\n",
    "        )\n",
    "\n",
    "        if task_id == 1:\n",
    "            #pooled_output = outputs[0][torch.arange(outputs[0].size(0)), target_positions]\n",
    "            pooled_output = outputs[1]\n",
    "            pooled_output = self.dropout_first(pooled_output)\n",
    "            pos_tag_embeds = self.embed_first(pos_tags)\n",
    "            print(pos_tag_embeds.shape, pooled_output.shape)\n",
    "            cat_output = torch.cat((pos_tag_embeds, pooled_output), dim=1)\n",
    "            print(cat_output.shape)\n",
    "            logits = self.classifier_first(cat_output)\n",
    "\n",
    "            loss = None\n",
    "            if labels is not None:\n",
    "                if self.num_labels_first_task == 1:\n",
    "                    #  We are doing regression\n",
    "                    loss_fct = MSELoss()\n",
    "                    loss = loss_fct(logits.view(-1), labels.view(-1))\n",
    "                else:\n",
    "                    loss_fct = CrossEntropyLoss()\n",
    "                    loss = loss_fct(logits.view(-1, self.num_labels), labels.view(-1))\n",
    "\n",
    "            if not return_dict:\n",
    "                output = (logits,) + outputs[2:]\n",
    "                return ((loss,) + output) if loss is not None else output\n",
    "\n",
    "            return SequenceClassifierOutput(\n",
    "                loss=loss,\n",
    "                logits=logits,\n",
    "                hidden_states=outputs.hidden_states,\n",
    "                attentions=outputs.attentions,\n",
    "            )\n",
    "        elif task_id == 2:\n",
    "            sequence_output = outputs[0]\n",
    "\n",
    "            sequence_output = self.dropout_second(sequence_output)\n",
    "            logits = self.classifier_second(sequence_output)\n",
    "\n",
    "            loss = None\n",
    "            if labels is not None:\n",
    "                loss_fct = CrossEntropyLoss()\n",
    "                # Only keep active parts of the loss\n",
    "                if attention_mask is not None:\n",
    "                    active_loss = attention_mask.view(-1) == 1\n",
    "                    active_logits = logits.view(-1, self.num_labels_second_task)\n",
    "                    active_labels = torch.where(\n",
    "                        active_loss, labels.view(-1), torch.tensor(loss_fct.ignore_index).type_as(labels)\n",
    "                    )\n",
    "                    loss = loss_fct(active_logits, active_labels)\n",
    "                else:\n",
    "                    loss = loss_fct(logits.view(-1, self.num_labels_second_task), labels.view(-1))\n",
    "\n",
    "            if not return_dict:\n",
    "                output = (logits,) + outputs[2:]\n",
    "                return ((loss,) + output) if loss is not None else output\n",
    "\n",
    "            return TokenClassifierOutput(\n",
    "                loss=loss,\n",
    "                logits=logits,\n",
    "                hidden_states=outputs.hidden_states,\n",
    "                attentions=outputs.attentions,\n",
    "            )\n"
   ]
  },
  {
   "cell_type": "code",
   "execution_count": 3,
   "metadata": {},
   "outputs": [],
   "source": [
    "def forward_func_multitask_same_bert(batch, device, model, additional_params):\n",
    "\n",
    "    # Clear gradients\n",
    "    model.zero_grad()    \n",
    "    \n",
    "    \n",
    "    b_input_ids = batch['task_1']['input_ids'].to(device)\n",
    "    b_input_mask = batch['task_1']['attention_mask'].to(device)\n",
    "    b_labels = batch['task_1']['labels'].to(device)\n",
    "    b_pos_tags = batch['task_1']['pos_tag'].to(device)\n",
    "    b_positions =  batch['task_1']['target_positions'].to(device)\n",
    "      \n",
    "    loss_1, logits = model(b_input_ids, \n",
    "                             b_positions,\n",
    "                             task_id=1,\n",
    "                             token_type_ids=None, \n",
    "                             pos_tags=b_pos_tags,\n",
    "                             attention_mask=b_input_mask, \n",
    "                             labels=b_labels)\n",
    "    \n",
    "    b_input_ids = batch['task_2']['input_ids'].to(device)\n",
    "    b_input_mask = batch['task_2']['attention_mask'].to(device)\n",
    "    b_labels = batch['task_2']['labels'].to(device)\n",
    "\n",
    "    loss_2, _ = model(b_input_ids, \n",
    "                             task_id=2,\n",
    "                             token_type_ids=None, \n",
    "                             attention_mask=b_input_mask, \n",
    "                             labels=b_labels)\n",
    "    \n",
    "    return 0.7 * loss_1 + 0.3 * loss_2, logits"
   ]
  },
  {
   "cell_type": "code",
   "execution_count": 4,
   "metadata": {},
   "outputs": [],
   "source": [
    "def forward_func_multitask_bert(batch, device, model, additional_params):\n",
    "\n",
    "    # Clear gradients\n",
    "    model.zero_grad()      \n",
    "    b_input_ids = batch['input_ids'].to(device)\n",
    "    b_input_mask = batch['attention_mask'].to(device)\n",
    "        \n",
    "    if additional_params['task_id'] == 1:\n",
    "        b_labels = batch['labels'].to(device)\n",
    "        b_positions =  batch['target_positions'].to(device)\n",
    "      \n",
    "        loss, logits = model(b_input_ids, \n",
    "                             b_positions,\n",
    "                             task_id=1,\n",
    "                             token_type_ids=None, \n",
    "                             attention_mask=b_input_mask, \n",
    "                             labels=b_labels)\n",
    "    elif additional_params['task_id'] == 2:\n",
    "        b_labels = batch['labels'].to(device)\n",
    "\n",
    "        loss, logits = model(b_input_ids, \n",
    "                             task_id=2,\n",
    "                             token_type_ids=None, \n",
    "                             attention_mask=b_input_mask, \n",
    "                             labels=b_labels)\n",
    "    return loss, logits"
   ]
  },
  {
   "cell_type": "code",
   "execution_count": 5,
   "metadata": {},
   "outputs": [],
   "source": [
    "from xml.dom import minidom\n",
    "from bs4 import BeautifulSoup\n",
    "from pathlib import Path\n",
    "import pandas as pd\n",
    "import numpy as np\n",
    "import torch\n",
    "\n",
    "class ComposeMultiDataset(torch.utils.data.Dataset):\n",
    "    def __init__(self, encodings_dis, labels_dis, encodings_lex, labels_lex, positions_lex, pos_tags_lex):\n",
    "        self.encodings_dis = encodings_dis\n",
    "        self.labels_dis = labels_dis\n",
    "        \n",
    "        self.encodings_lex = encodings_lex\n",
    "        self.labels_lex = labels_lex\n",
    "        self.pos_tags_lex = pos_tags_lex\n",
    "        self.positions_lex = positions_lex\n",
    "\n",
    "    def __getitem__(self, idx):\n",
    "        item = {}\n",
    "        \n",
    "        task_1 = {key: torch.tensor(val[idx]) for key, val in self.encodings_lex.items()}\n",
    "        task_1['labels'] = torch.tensor(self.labels_lex[idx])\n",
    "        task_1['pos_tag'] = torch.tensor(self.pos_tags_lex[idx])\n",
    "        task_1['target_positions'] = torch.tensor(self.positions_lex[idx])\n",
    "        \n",
    "        task_2 = {key: torch.tensor(val[idx]) for key, val in self.encodings_dis.items()}\n",
    "        task_2['labels'] = torch.tensor(self.labels_dis[idx])\n",
    "        \n",
    "        item['task_2'] = task_2\n",
    "        item['task_1'] = task_1\n",
    "        return item\n",
    "\n",
    "    def __len__(self):\n",
    "        return len(self.labels_dis)\n",
    "    \n",
    "class ComposeDataset(torch.utils.data.Dataset):\n",
    "    def __init__(self, encodings, labels, positions, pos_tags):\n",
    "        self.encodings = encodings\n",
    "        self.labels = labels\n",
    "        self.positions = positions\n",
    "        self.pos_tags = pos_tags\n",
    "\n",
    "    def __getitem__(self, idx):\n",
    "        item = {key: torch.tensor(val[idx]) for key, val in self.encodings.items()}\n",
    "        item['labels'] = torch.tensor(self.labels[idx])\n",
    "        item['pos_tag'] = torch.tensor(self.pos_tags[idx])\n",
    "        item['target_positions'] = torch.tensor(self.positions[idx])\n",
    "        return item\n",
    "\n",
    "    def __len__(self):\n",
    "        return len(self.labels)"
   ]
  },
  {
   "cell_type": "code",
   "execution_count": 6,
   "metadata": {},
   "outputs": [],
   "source": [
    "from pathlib import Path\n",
    "import pandas as pd\n",
    "import pandarallel\n",
    "import numpy as np\n",
    "import torch\n",
    "\n",
    "import spacy\n",
    "\n",
    "def get_meta(sentence, ref, nlp, option):\n",
    "    try:\n",
    "        temp = []\n",
    "        doc = nlp(sentence)\n",
    "        for token in doc:\n",
    "            if option == 'pos':\n",
    "                temp.append(token.pos_)\n",
    "            else:\n",
    "                temp.append(token.text)\n",
    "        return temp        \n",
    "    except:\n",
    "        return []"
   ]
  },
  {
   "cell_type": "code",
   "execution_count": 7,
   "metadata": {},
   "outputs": [],
   "source": [
    "epochs = 1\n",
    "seed_val = 2\n",
    "results_window = {}\n",
    "max_len = 25\n",
    "stop_at = 5\n",
    "cuda_card = 1\n",
    "nlp = spacy.load(\"en_core_web_sm\")"
   ]
  },
  {
   "cell_type": "code",
   "execution_count": 8,
   "metadata": {},
   "outputs": [],
   "source": [
    "data_sent_dis, data_senses_dis = read_disambiguation_corpus(max_len=max_len)"
   ]
  },
  {
   "cell_type": "code",
   "execution_count": 13,
   "metadata": {},
   "outputs": [],
   "source": [
    "tag_values = list(set(list(itertools.chain(*data_senses_dis))))\n",
    "tag_values.append(\"PAD\")\n",
    "tag2idx = {t: i for i, t in enumerate(tag_values)}"
   ]
  },
  {
   "cell_type": "code",
   "execution_count": 10,
   "metadata": {},
   "outputs": [
    {
     "name": "stdout",
     "output_type": "stream",
     "text": [
      "Loading BERT tokenizer...\n"
     ]
    }
   ],
   "source": [
    "# Load the BERT tokenizer.\n",
    "print('Loading BERT tokenizer...')\n",
    "tokenizer = BertTokenizer.from_pretrained('bert-base-uncased', do_lower_case=True)"
   ]
  },
  {
   "cell_type": "code",
   "execution_count": null,
   "metadata": {
    "scrolled": true
   },
   "outputs": [
    {
     "name": "stdout",
     "output_type": "stream",
     "text": [
      "Window size of  0\n",
      "Starting a new fold ...\n"
     ]
    },
    {
     "name": "stderr",
     "output_type": "stream",
     "text": [
      "Some weights of the model checkpoint at bert-base-uncased were not used when initializing BertTaggingForSharedTaskMultitask: ['cls.predictions.bias', 'cls.predictions.transform.dense.weight', 'cls.predictions.transform.dense.bias', 'cls.predictions.decoder.weight', 'cls.seq_relationship.weight', 'cls.seq_relationship.bias', 'cls.predictions.transform.LayerNorm.weight', 'cls.predictions.transform.LayerNorm.bias']\n",
      "- This IS expected if you are initializing BertTaggingForSharedTaskMultitask from the checkpoint of a model trained on another task or with another architecture (e.g. initializing a BertForSequenceClassification model from a BertForPretraining model).\n",
      "- This IS NOT expected if you are initializing BertTaggingForSharedTaskMultitask from the checkpoint of a model that you expect to be exactly identical (initializing a BertForSequenceClassification model from a BertForSequenceClassification model).\n",
      "Some weights of BertTaggingForSharedTaskMultitask were not initialized from the model checkpoint at bert-base-uncased and are newly initialized: ['embed_first.weight', 'classifier_first.weight', 'classifier_first.bias', 'classifier_second.weight', 'classifier_second.bias']\n",
      "You should probably TRAIN this model on a down-stream task to be able to use it for predictions and inference.\n",
      "/home/krivas/anaconda3/lib/python3.7/site-packages/ipykernel_launcher.py:101: VisibleDeprecationWarning: Creating an ndarray from ragged nested sequences (which is a list-or-tuple of lists-or-tuples-or ndarrays with different lengths or shapes) is deprecated. If you meant to do this, you must specify 'dtype=object' when creating the ndarray\n"
     ]
    },
    {
     "name": "stdout",
     "output_type": "stream",
     "text": [
      "\n",
      "======== Epoch 1 / 1 ========\n",
      "Training...\n",
      "torch.Size([16, 7]) torch.Size([16, 768])\n",
      "torch.Size([16, 775])\n",
      "torch.Size([16, 7]) torch.Size([16, 768])\n",
      "torch.Size([16, 775])\n"
     ]
    }
   ],
   "source": [
    "import random\n",
    "import numpy as np\n",
    "from transformers import get_linear_schedule_with_warmup\n",
    "\n",
    "for window_x in [0]:\n",
    "    print('Window size of ', window_x)\n",
    "    #data_texts, data_corpus, data_labels, sentence_raw, target_words, positions, _, pos_tags = read_lexical_corpus('data/raw/lcp_single_train.tsv',\n",
    "    #                                                                        nlp,\n",
    "    #                                                                       return_complete_sent=False,\n",
    "    #                                                                       window_size=window_x + 1)\n",
    "    \n",
    "    #test_texts, _, test_labels, sentences_test, test_target_words, test_positions, _, test_pos_tags= read_lexical_corpus('data/raw/lcp_single_trial.xlsx',\n",
    "    #                                                                        nlp,\n",
    "    #                                                                       return_complete_sent=False,\n",
    "    #                                                                       window_size=window_x + 1)\n",
    "    \n",
    "    le = LabelEncoder()\n",
    "    le.fit(pos_tags)\n",
    "    pos_tags_f = le.transform(pos_tags)\n",
    "    test_pos_tags_f = le.transform(test_pos_tags)\n",
    "    \n",
    "    #torch.cuda.manual_seed_all(seed_val)\n",
    "\n",
    "    kf = StratifiedKFold(8, shuffle=True, random_state=0)\n",
    "\n",
    "    history_preds_val = []\n",
    "    history_preds_test = []\n",
    "    history_samples_val = []\n",
    "    history_samples_test = []\n",
    "    history_input = []\n",
    "    history_input_test = []\n",
    "    history_target = []\n",
    "    history_target_test = []\n",
    "    history_index = []\n",
    "    history_index_test = []\n",
    "    history_labels_val = []\n",
    "    history_labels_test = []\n",
    "    history_occur_text = []\n",
    "    history_occur_target = []\n",
    "    ix_fold = 0\n",
    "\n",
    "    for train_index, val_index in kf.split(data_texts, data_corpus):\n",
    "        print('Starting a new fold ...')\n",
    "        \n",
    "        train_index = list(train_index)\n",
    "        random.seed(seed_val)\n",
    "        random.shuffle(train_index)\n",
    "        train_index = np.array(train_index)\n",
    "\n",
    "        train_texts_lex, train_labels_lex, train_positions_lex, train_target_words_lex, train_pos_tags = data_texts[train_index], data_labels[train_index], positions[train_index], target_words[train_index], pos_tags_f[train_index]\n",
    "        val_texts_lex, val_labels_lex, val_positions_lex, val_target_words_lex, val_pos_tags = data_texts[val_index], data_labels[val_index], positions[val_index], target_words[val_index], pos_tags_f[val_index]\n",
    "\n",
    "        train_encodings_lex = tokenizer(list(train_texts_lex), truncation=True, padding=True)\n",
    "\n",
    "        val_encodings_lex = tokenizer(list(val_texts_lex), truncation=True, padding=True)\n",
    "        val_dataset_lex = ComposeDataset(val_encodings_lex, val_labels_lex, val_positions_lex, val_pos_tags)\n",
    "        val_loader_lex = DataLoader(val_dataset_lex, batch_size=1)\n",
    "        \n",
    "        test_encodings = tokenizer(list(test_texts), truncation=True, padding=True)\n",
    "        test_dataset = ComposeDataset(test_encodings, test_labels, test_positions, test_pos_tags_f)\n",
    "        test_loader = DataLoader(test_dataset, batch_size=1)\n",
    "        \n",
    "        all_text = ' '.join(train_texts_lex)\n",
    "        occurence_text = [all_text.count(w) for w in val_target_words_lex]\n",
    "        \n",
    "        occurence_target = [train_target_words_lex.tolist().count(w) for w in val_target_words_lex]\n",
    "        \n",
    "        #device = torch.device(f\"cuda:{cuda_card}\")\n",
    "        device = torch.device(f\"cpu\")\n",
    "        \n",
    "        model = BertTaggingForSharedTaskMultitask.from_pretrained(\n",
    "            \"bert-base-uncased\", \n",
    "            num_labels = len(tag2idx), \n",
    "            output_attentions = False, \n",
    "            output_hidden_states = False, \n",
    "        )\n",
    "        #model.cuda(cuda_card)\n",
    "\n",
    "        optimizer = AdamW(model.parameters(),\n",
    "                          lr = 2e-5, \n",
    "                          eps = 1e-8\n",
    "                        )\n",
    "\n",
    "        random.seed(seed_val)\n",
    "        #torch.manual_seed(seed_val)\n",
    "\n",
    "        tracking_metrics_val = []\n",
    "        tracking_logits_val = []\n",
    "\n",
    "        tracking_metrics_test = []\n",
    "        tracking_logits_test = []\n",
    "        \n",
    "        early_stopping = 0\n",
    "        best_metric = 1000000\n",
    "        \n",
    "        for epoch_i in range(0, epochs):\n",
    "            np.random.seed(epoch_i)\n",
    "            sample_data_sent = np.random.choice(data_sent_dis, len(train_texts_lex), replace=False)\n",
    "            \n",
    "            np.random.seed(epoch_i)\n",
    "            sample_data_sense = np.random.choice(data_senses_dis, len(train_texts_lex), replace=False)\n",
    "            \n",
    "            train_encodings_dis = tokenizer(list(sample_data_sent), truncation=True, padding=True, max_length=max_len)\n",
    "            data_tags_dis = pad_sequences([[tag2idx.get(l) for l in lab] for lab in sample_data_sense],\n",
    "                     maxlen=max_len, value=tag2idx[\"PAD\"], padding=\"post\",\n",
    "                     dtype=\"long\", truncating=\"post\")\n",
    "            \n",
    "            train_dataset_multi = ComposeMultiDataset(train_encodings_dis, data_tags_dis, train_encodings_lex, train_labels_lex, train_positions_lex, train_pos_tags)\n",
    "            train_loader_multi = DataLoader(train_dataset_multi, batch_size=16)\n",
    "            \n",
    "            total_steps = len(train_loader_multi) * epochs\n",
    "            scheduler = get_linear_schedule_with_warmup(optimizer, \n",
    "                                                    num_warmup_steps = 0, # Default value in run_glue.py\n",
    "                                                    num_training_steps = total_steps)           \n",
    "            print()\n",
    "            print('======== Epoch {:} / {:} ========'.format(epoch_i + 1, epochs))\n",
    "            train(device, model, train_loader_multi, forward_func_multitask_same_bert, optimizer, scheduler, {})\n",
    "            \n",
    "            _, val_logits, val_metric = evaluate(device, model, val_loader_lex, forward_func_multitask_bert, {'task_id': 1})\n",
    "            _, test_logits, test_metric = evaluate(device, model, test_loader, forward_func_multitask_bert, {'task_id': 1})\n",
    "\n",
    "            tracking_metrics_val.append(val_metric)\n",
    "            tracking_logits_val.append(val_logits)\n",
    "\n",
    "            tracking_metrics_test.append(test_metric)\n",
    "            tracking_logits_test.append(test_logits)\n",
    "            \n",
    "            if val_metric > best_metric:\n",
    "                early_stopping += 1\n",
    "            else:\n",
    "                best_metric = val_metric\n",
    "                early_stopping = 0\n",
    "                \n",
    "            if early_stopping == stop_at:\n",
    "                break\n",
    "            \n",
    "        index_min = np.argmin(tracking_metrics_val)\n",
    "            \n",
    "        history_labels_val.extend(val_labels_lex)\n",
    "        history_labels_test.extend(test_labels)\n",
    "        history_preds_val.extend(tracking_logits_val[index_min])\n",
    "        history_preds_test.extend(tracking_logits_test[index_min])\n",
    "        history_samples_val.extend(val_texts_lex)\n",
    "        history_samples_test.extend(test_texts)\n",
    "        history_input.extend(sentence_raw[val_index])\n",
    "        history_input_test.extend(sentences_test)\n",
    "        history_target.extend(target_words[val_index])\n",
    "        history_target_test.extend(test_target_words)\n",
    "        history_index.extend(([ix_fold] * len(val_index)))\n",
    "        history_index_test.extend(([ix_fold] * len(test_texts)))\n",
    "        history_occur_text.extend(occurence_text)\n",
    "        history_occur_target.extend(occurence_target)\n",
    "        ix_fold += 1\n",
    "\n",
    "        print(\"\")\n",
    "        print(\"Training complete!\")\n",
    "        \n",
    "        del model\n",
    "        torch.cuda.empty_cache()\n",
    "        \n",
    "    results_val = pd.DataFrame()\n",
    "    results_val['samples'] = history_samples_val\n",
    "    results_val['preds'] = history_preds_val\n",
    "    results_val['true'] = history_labels_val\n",
    "    results_val['raw'] = history_input\n",
    "    results_val['raw'] = results_val['raw'].astype(str)\n",
    "    results_val['target'] = history_target\n",
    "    results_val['index'] = history_index\n",
    "    results_val['occur_text'] = history_occur_text\n",
    "    results_val['occur_target'] = history_occur_target\n",
    "    results_val['particion'] = 'val'\n",
    "    \n",
    "    results_test = pd.DataFrame()\n",
    "    results_test['samples'] = history_samples_test\n",
    "    results_test['preds'] = history_preds_test\n",
    "    results_test['true'] = history_labels_test\n",
    "    results_test['raw'] = history_input_test\n",
    "    results_test['raw'] = results_test['raw'].astype(str)\n",
    "    results_test['index'] = history_index_test\n",
    "    results_test['target'] = history_target_test\n",
    "    results_test['particion'] = 'test'\n",
    "\n",
    "    results = pd.concat((results_val, results_test), axis=0)\n",
    "    \n",
    "    results_window[window_x] = results"
   ]
  },
  {
   "cell_type": "code",
   "execution_count": 22,
   "metadata": {},
   "outputs": [],
   "source": [
    "a = torch.ones((16,7))\n",
    "b = torch.zeros((16,768))"
   ]
  },
  {
   "cell_type": "code",
   "execution_count": 24,
   "metadata": {},
   "outputs": [
    {
     "data": {
      "text/plain": [
       "torch.Size([16, 775])"
      ]
     },
     "execution_count": 24,
     "metadata": {},
     "output_type": "execute_result"
    }
   ],
   "source": [
    "torch.cat((a, b), dim=1).shape"
   ]
  },
  {
   "cell_type": "code",
   "execution_count": 14,
   "metadata": {},
   "outputs": [],
   "source": [
    "for window_ix in results_window:\n",
    "    results_window[window_ix]['mae'] = results_window[window_ix].apply(lambda x: mean_absolute_error([x.preds],[x.true]), axis=1)\n",
    "    results_window[window_ix]['mse'] = results_window[window_ix].apply(lambda x: mean_squared_error([x.preds],[x.true]), axis=1)\n",
    "    results_window[window_ix]['discrete_occur'] = results_window[window_ix].apply(lambda x: x.occur_target if (x.occur_target == 0 or x.occur_target == 1) else 2, axis=1)\n",
    "    "
   ]
  },
  {
   "cell_type": "code",
   "execution_count": 16,
   "metadata": {},
   "outputs": [
    {
     "name": "stdout",
     "output_type": "stream",
     "text": [
      "Window of 0\n",
      "Valid:\n",
      "MAE --- Mean: 0.0648  Std: 0.0019\n",
      "MSE --- Mean: 0.007  Std: 0.0004\n",
      "Test:\n",
      "MAE --- Mean: 0.0699  Std: 0.0021\n",
      "MSE --- Mean: 0.0084  Std: 0.0005\n",
      "\n",
      "Window of 1\n",
      "Valid:\n",
      "MAE --- Mean: 0.0653  Std: 0.0013\n",
      "MSE --- Mean: 0.0071  Std: 0.0003\n",
      "Test:\n",
      "MAE --- Mean: 0.0697  Std: 0.0012\n",
      "MSE --- Mean: 0.0082  Std: 0.0003\n",
      "\n",
      "Window of 2\n",
      "Valid:\n",
      "MAE --- Mean: 0.0663  Std: 0.0025\n",
      "MSE --- Mean: 0.0073  Std: 0.0005\n",
      "Test:\n",
      "MAE --- Mean: 0.0717  Std: 0.0025\n",
      "MSE --- Mean: 0.009  Std: 0.0006\n",
      "\n"
     ]
    }
   ],
   "source": [
    "for window_ix in results_window:\n",
    "    print('Window of', window_ix)\n",
    "    mae = results_window[window_ix].loc[results_window[window_ix].particion == 'val'].groupby(['index']).mae.mean()\n",
    "    mse = results_window[window_ix].loc[results_window[window_ix].particion == 'val'].groupby(['index']).mse.mean()\n",
    "    #r_2 = results_window[window_ix].groupby(['index']).\n",
    "    print('Valid:')    \n",
    "    print('MAE --- Mean:', round(np.mean(mae), 4), ' Std:', round(np.std(mae), 4))\n",
    "    print('MSE --- Mean:', round(np.mean(mse), 4), ' Std:', round(np.std(mse), 4))\n",
    "    \n",
    "    mae = results_window[window_ix].loc[results_window[window_ix].particion == 'test'].groupby(['index']).mae.mean()\n",
    "    mse = results_window[window_ix].loc[results_window[window_ix].particion == 'test'].groupby(['index']).mse.mean()\n",
    "    #r_2 = results_window[window_ix].groupby(['index']).\n",
    "    print('Test:')    \n",
    "    print('MAE --- Mean:', round(np.mean(mae), 4), ' Std:', round(np.std(mae), 4))\n",
    "    print('MSE --- Mean:', round(np.mean(mse), 4), ' Std:', round(np.std(mse), 4))\n",
    "    \n",
    "    print()\n"
   ]
  },
  {
   "cell_type": "code",
   "execution_count": 17,
   "metadata": {
    "scrolled": true
   },
   "outputs": [
    {
     "name": "stdout",
     "output_type": "stream",
     "text": [
      "Window of 0\n",
      "   discrete_occur  mse_mean   mse_std  mae_mean   mae_std\n",
      "0             0.0  0.008805  0.000725  0.072507  0.002715\n",
      "1             1.0  0.007251  0.001411  0.066397  0.006672\n",
      "2             2.0  0.006975  0.000362  0.064284  0.001879\n",
      "\n",
      "Window of 1\n",
      "   discrete_occur  mse_mean   mse_std  mae_mean   mae_std\n",
      "0             0.0  0.008781  0.001115  0.071537  0.002624\n",
      "1             1.0  0.007376  0.001335  0.066468  0.006236\n",
      "2             2.0  0.007033  0.000325  0.065016  0.001517\n",
      "\n",
      "Window of 2\n",
      "   discrete_occur  mse_mean   mse_std  mae_mean   mae_std\n",
      "0             0.0  0.008924  0.001490  0.072380  0.004318\n",
      "1             1.0  0.007930  0.001333  0.069626  0.006046\n",
      "2             2.0  0.007346  0.000395  0.065982  0.002297\n",
      "\n"
     ]
    }
   ],
   "source": [
    "for window_ix in results_window:\n",
    "    df_temp = results_window[window_ix].groupby(['index', 'discrete_occur']).agg({'mse': 'mean',\n",
    "                                                                         'mae': 'mean'}).reset_index()\n",
    "    df_temp = df_temp.groupby('discrete_occur').agg({'mse': ['mean', 'std'],\n",
    "                                          'mae': ['mean', 'std']}).reset_index()\n",
    "    df_temp.columns = ['_'.join(col).strip('_') for col in df_temp.columns]\n",
    "    print('Window of', window_ix)\n",
    "    print(df_temp)\n",
    "    print()"
   ]
  },
  {
   "cell_type": "code",
   "execution_count": 18,
   "metadata": {},
   "outputs": [],
   "source": [
    "import spacy\n",
    "\n",
    "def find_pos(sentence, ref):\n",
    "    try:\n",
    "        doc = nlp(sentence)\n",
    "        for token in doc:\n",
    "            if token.text == ref:\n",
    "                return token.pos_\n",
    "        return np.nan            \n",
    "    except:\n",
    "        return np.nan"
   ]
  },
  {
   "cell_type": "code",
   "execution_count": 19,
   "metadata": {},
   "outputs": [
    {
     "name": "stdout",
     "output_type": "stream",
     "text": [
      "0\n",
      "1\n",
      "2\n"
     ]
    }
   ],
   "source": [
    "for window_ix in results_window:\n",
    "    print(window_ix)\n",
    "    results_window[window_ix]['pos_label'] =  results_window[window_ix].apply(lambda x: find_pos(x.raw, x.target), axis=1)\n",
    "    "
   ]
  },
  {
   "cell_type": "code",
   "execution_count": 20,
   "metadata": {},
   "outputs": [
    {
     "name": "stdout",
     "output_type": "stream",
     "text": [
      "Window size of: 0\n"
     ]
    },
    {
     "data": {
      "image/png": "[encoded data removed]",
      "text/plain": [
       "<Figure size 432x288 with 1 Axes>"
      ]
     },
     "metadata": {
      "needs_background": "light"
     },
     "output_type": "display_data"
    },
    {
     "name": "stdout",
     "output_type": "stream",
     "text": [
      "Window size of: 1\n"
     ]
    },
    {
     "data": {
      "image/png": "[encoded data removed]",
      "text/plain": [
       "<Figure size 432x288 with 1 Axes>"
      ]
     },
     "metadata": {
      "needs_background": "light"
     },
     "output_type": "display_data"
    },
    {
     "name": "stdout",
     "output_type": "stream",
     "text": [
      "Window size of: 2\n"
     ]
    },
    {
     "data": {
      "image/png": "[encoded data removed]",
      "text/plain": [
       "<Figure size 432x288 with 1 Axes>"
      ]
     },
     "metadata": {
      "needs_background": "light"
     },
     "output_type": "display_data"
    }
   ],
   "source": [
    "import seaborn as sns\n",
    "import matplotlib.pyplot as plt\n",
    "\n",
    "%matplotlib inline\n",
    "\n",
    "for window_ix in results_window:\n",
    "    print('Window size of:', window_ix)\n",
    "    sns.lineplot(x='pos_label', y='mae', data=results_window[window_ix].loc[(results_window[window_ix].pos_label.notnull()) &\n",
    "                                                                           (results_window[window_ix].particion == 'val')], \n",
    "                    ci=98, \n",
    "                    markers='o')\n",
    "    sns.lineplot(x='pos_label', y='mae', data=results_window[window_ix].loc[(results_window[window_ix].pos_label.notnull()) &\n",
    "                                                                           (results_window[window_ix].particion == 'test')], \n",
    "                    ci=98, \n",
    "                    markers='o')\n",
    "    plt.legend(['Val', 'Test'])\n",
    "    plt.show()"
   ]
  },
  {
   "cell_type": "code",
   "execution_count": null,
   "metadata": {},
   "outputs": [],
   "source": []
  }
 ],
 "metadata": {
  "kernelspec": {
   "display_name": "Python 3",
   "language": "python",
   "name": "python3"
  },
  "language_info": {
   "codemirror_mode": {
    "name": "ipython",
    "version": 3
   },
   "file_extension": ".py",
   "mimetype": "text/x-python",
   "name": "python",
   "nbconvert_exporter": "python",
   "pygments_lexer": "ipython3",
   "version": "3.7.3"
  }
 },
 "nbformat": 4,
 "nbformat_minor": 4
}
