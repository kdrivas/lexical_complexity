{
 "cells": [
  {
   "cell_type": "code",
   "execution_count": 2,
   "metadata": {},
   "outputs": [
    {
     "name": "stdout",
     "output_type": "stream",
     "text": [
      "INFO: Pandarallel will run on 12 workers.\n",
      "INFO: Pandarallel will use Memory file system to transfer data between the main process and workers.\n"
     ]
    }
   ],
   "source": [
    "from pathlib import Path\n",
    "import pandas as pd\n",
    "from torch.utils.data import DataLoader\n",
    "import torch\n",
    "from tqdm import tqdm\n",
    "import numpy as np\n",
    "\n",
    "from transformers import BertTokenizer\n",
    "from transformers import BertModel, AdamW, BertConfig\n",
    "from transformers import get_linear_schedule_with_warmup\n",
    "from transformers import DistilBertModel, AdamW\n",
    "from transformers import BertForSequenceClassification\n",
    "import random\n",
    "\n",
    "from sklearn.metrics import mean_absolute_error, r2_score, mean_squared_error\n",
    "from sklearn.linear_model import LinearRegression \n",
    "from sklearn.preprocessing import StandardScaler\n",
    "from sklearn.model_selection import StratifiedKFold\n",
    "from sklearn.model_selection import train_test_split\n",
    "from pandarallel import pandarallel\n",
    "pandarallel.initialize()\n",
    "\n",
    "import os\n",
    "os.chdir('..')\n",
    "\n",
    "from src.data_lexical import LexDataset, read_lexical_corpus\n",
    "from src.model import BertForSharedTaskBaseline\n",
    "from src.training import train, evaluate, forward_func_custom_bert"
   ]
  },
  {
   "cell_type": "code",
   "execution_count": 3,
   "metadata": {},
   "outputs": [
    {
     "name": "stdout",
     "output_type": "stream",
     "text": [
      "Loading BERT tokenizer...\n"
     ]
    }
   ],
   "source": [
    "# Load the BERT tokenizer.\n",
    "print('Loading BERT tokenizer...')\n",
    "tokenizer = BertTokenizer.from_pretrained('bert-base-uncased', do_lower_case=True)"
   ]
  },
  {
   "cell_type": "code",
   "execution_count": 4,
   "metadata": {},
   "outputs": [],
   "source": [
    "epochs = 20\n",
    "seed_val = 2\n",
    "results_window = {}\n",
    "max_len = 25\n",
    "stop_at = 5\n",
    "cuda_card = 0"
   ]
  },
  {
   "cell_type": "code",
   "execution_count": 18,
   "metadata": {
    "scrolled": true
   },
   "outputs": [
    {
     "name": "stdout",
     "output_type": "stream",
     "text": [
      "Window size of  0\n"
     ]
    },
    {
     "ename": "NameError",
     "evalue": "name 'hola' is not defined",
     "output_type": "error",
     "traceback": [
      "\u001b[0;31m---------------------------------------------------------------------------\u001b[0m",
      "\u001b[0;31mNameError\u001b[0m                                 Traceback (most recent call last)",
      "\u001b[0;32m<ipython-input-18-3620c1f51e97>\u001b[0m in \u001b[0;36m<module>\u001b[0;34m\u001b[0m\n\u001b[1;32m     35\u001b[0m     \u001b[0;31m#val_index = np.load('val_tmp.npy')\u001b[0m\u001b[0;34m\u001b[0m\u001b[0;34m\u001b[0m\u001b[0;34m\u001b[0m\u001b[0m\n\u001b[1;32m     36\u001b[0m     \u001b[0;31m#train_index = np.load('train_tmp.npy')\u001b[0m\u001b[0;34m\u001b[0m\u001b[0;34m\u001b[0m\u001b[0;34m\u001b[0m\u001b[0m\n\u001b[0;32m---> 37\u001b[0;31m     \u001b[0mprint\u001b[0m\u001b[0;34m(\u001b[0m\u001b[0mhola\u001b[0m\u001b[0;34m)\u001b[0m\u001b[0;34m\u001b[0m\u001b[0;34m\u001b[0m\u001b[0m\n\u001b[0m\u001b[1;32m     38\u001b[0m     \u001b[0mtrain_texts\u001b[0m\u001b[0;34m,\u001b[0m \u001b[0mtrain_labels\u001b[0m\u001b[0;34m,\u001b[0m \u001b[0mtrain_positions\u001b[0m\u001b[0;34m,\u001b[0m \u001b[0mtrain_target_words\u001b[0m \u001b[0;34m=\u001b[0m \u001b[0mdata_texts\u001b[0m\u001b[0;34m[\u001b[0m\u001b[0mtrain_index\u001b[0m\u001b[0;34m]\u001b[0m\u001b[0;34m,\u001b[0m \u001b[0mdata_labels\u001b[0m\u001b[0;34m[\u001b[0m\u001b[0mtrain_index\u001b[0m\u001b[0;34m]\u001b[0m\u001b[0;34m,\u001b[0m \u001b[0mpositions\u001b[0m\u001b[0;34m[\u001b[0m\u001b[0mtrain_index\u001b[0m\u001b[0;34m]\u001b[0m\u001b[0;34m,\u001b[0m \u001b[0mtarget_words\u001b[0m\u001b[0;34m[\u001b[0m\u001b[0mtrain_index\u001b[0m\u001b[0;34m]\u001b[0m\u001b[0;34m\u001b[0m\u001b[0;34m\u001b[0m\u001b[0m\n\u001b[1;32m     39\u001b[0m     \u001b[0mval_texts\u001b[0m\u001b[0;34m,\u001b[0m \u001b[0mval_labels\u001b[0m\u001b[0;34m,\u001b[0m \u001b[0mval_positions\u001b[0m\u001b[0;34m,\u001b[0m \u001b[0mval_target_words\u001b[0m \u001b[0;34m=\u001b[0m \u001b[0mdata_texts\u001b[0m\u001b[0;34m[\u001b[0m\u001b[0mval_index\u001b[0m\u001b[0;34m]\u001b[0m\u001b[0;34m,\u001b[0m \u001b[0mdata_labels\u001b[0m\u001b[0;34m[\u001b[0m\u001b[0mval_index\u001b[0m\u001b[0;34m]\u001b[0m\u001b[0;34m,\u001b[0m \u001b[0mpositions\u001b[0m\u001b[0;34m[\u001b[0m\u001b[0mval_index\u001b[0m\u001b[0;34m]\u001b[0m\u001b[0;34m,\u001b[0m \u001b[0mtarget_words\u001b[0m\u001b[0;34m[\u001b[0m\u001b[0mval_index\u001b[0m\u001b[0;34m]\u001b[0m\u001b[0;34m\u001b[0m\u001b[0;34m\u001b[0m\u001b[0m\n",
      "\u001b[0;31mNameError\u001b[0m: name 'hola' is not defined"
     ]
    }
   ],
   "source": [
    "import random\n",
    "import numpy as np\n",
    "from transformers import get_linear_schedule_with_warmup\n",
    "\n",
    "for window_x in [0]:\n",
    "    print('Window size of ', window_x)\n",
    "    data_texts, data_corpus, data_labels, sentence_raw, target_words, positions = read_lexical_corpus('data/raw/lcp_single_train.tsv',\n",
    "                                                                           return_complete_sent=False,\n",
    "                                                                           window_size=window_x + 1)\n",
    "    \n",
    "    test_texts, _, test_labels, sentences_test, test_target_words, test_positions = read_lexical_corpus('data/raw/lcp_single_trial.xlsx',\n",
    "                                                                           return_complete_sent=False,\n",
    "                                                                           window_size=window_x + 1)\n",
    "    \n",
    "    torch.cuda.manual_seed_all(seed_val)\n",
    "\n",
    "    train_index, val_index = train_test_split(list(range(0, len(data_texts))), test_size=0.12, random_state=10, shuffle=True)\n",
    "    train_index, val_index = np.array(train_index), np.array(val_index)\n",
    "    \n",
    "    history_preds_val = []\n",
    "    history_preds_test = []\n",
    "    history_samples_val = []\n",
    "    history_samples_test = []\n",
    "    history_input = []\n",
    "    history_input_test = []\n",
    "    history_target = []\n",
    "    history_target_test = []\n",
    "    history_index = []\n",
    "    history_labels_val = []\n",
    "    history_labels_test = []\n",
    "    history_occur_text = []\n",
    "    history_occur_target = []\n",
    "    ix_fold = 0\n",
    "\n",
    "    #val_index = np.load('val_tmp.npy')\n",
    "    #train_index = np.load('train_tmp.npy')\n",
    "    print(hola)\n",
    "    train_texts, train_labels, train_positions, train_target_words = data_texts[train_index], data_labels[train_index], positions[train_index], target_words[train_index]\n",
    "    val_texts, val_labels, val_positions, val_target_words = data_texts[val_index], data_labels[val_index], positions[val_index], target_words[val_index]\n",
    "\n",
    "    train_encodings = tokenizer(list(train_texts), truncation=True, padding=True)\n",
    "    train_dataset = LexDataset(train_encodings, train_labels, train_positions)\n",
    "    train_loader = DataLoader(train_dataset, batch_size=16)\n",
    "\n",
    "    val_encodings = tokenizer(list(val_texts), truncation=True, padding=True)\n",
    "    val_dataset = LexDataset(val_encodings, val_labels, val_positions)\n",
    "    val_loader = DataLoader(val_dataset, batch_size=1)\n",
    "    \n",
    "    test_encodings = tokenizer(list(test_texts), truncation=True, padding=True)\n",
    "    test_dataset = LexDataset(test_encodings, test_labels, test_positions)\n",
    "    test_loader = DataLoader(test_dataset, batch_size=1)\n",
    "        \n",
    "    all_text = ' '.join(train_texts)\n",
    "    occurence_text = [all_text.count(w) for w in val_target_words]\n",
    "        \n",
    "    occurence_target = [train_target_words.tolist().count(w) for w in val_target_words]\n",
    "        \n",
    "    device = torch.device(f\"cuda:{cuda_card}\")\n",
    "        \n",
    "    model = BertForSharedTaskBaseline.from_pretrained(\n",
    "        \"bert-base-uncased\", \n",
    "        num_labels = 1, \n",
    "        output_attentions = False, \n",
    "        output_hidden_states = False, \n",
    "    )\n",
    "    model.cuda(cuda_card)\n",
    "\n",
    "    optimizer = AdamW(model.parameters(),\n",
    "                          lr = 2e-5, \n",
    "                          eps = 1e-8\n",
    "                        )\n",
    "\n",
    "    total_steps = len(train_loader) * epochs\n",
    "    scheduler = get_linear_schedule_with_warmup(optimizer, \n",
    "                                                num_warmup_steps = 0, # Default value in run_glue.py\n",
    "                                                num_training_steps = total_steps)\n",
    "\n",
    "    random.seed(seed_val)\n",
    "    np.random.seed(seed_val)\n",
    "    torch.manual_seed(seed_val)\n",
    "        \n",
    "    tracking_metrics_val = []\n",
    "    tracking_logits_val = []\n",
    "    \n",
    "    tracking_metrics_test = []\n",
    "    tracking_logits_test = []\n",
    "    \n",
    "    early_stopping = 0\n",
    "    best_metric = 1000000\n",
    "        \n",
    "    for epoch_i in range(0, epochs):\n",
    "        print()\n",
    "        print('======== Epoch {:} / {:} ========'.format(epoch_i + 1, epochs))\n",
    "        train(device, model, train_loader, forward_func_custom_bert, optimizer, scheduler)\n",
    "        \n",
    "        _, val_logits, val_metric = evaluate(device, model, val_loader, forward_func_custom_bert)\n",
    "        _, test_logits, test_metric = evaluate(device, model, test_loader, forward_func_custom_bert)\n",
    "\n",
    "        tracking_metrics_val.append(val_metric)\n",
    "        tracking_logits_val.append(val_logits)\n",
    "        \n",
    "        tracking_metrics_test.append(test_metric)\n",
    "        tracking_logits_test.append(test_logits)\n",
    "        \n",
    "        if val_metric > best_metric:\n",
    "            early_stopping += 1\n",
    "        else:\n",
    "            best_metric = val_metric\n",
    "            early_stopping = 0\n",
    "                \n",
    "        if early_stopping == stop_at:\n",
    "            break\n",
    "            \n",
    "        index_min = np.argmin(tracking_metrics_val)\n",
    "            \n",
    "    history_labels_val.extend(val_labels)\n",
    "    history_labels_test.extend(test_labels)\n",
    "    history_preds_val.extend(tracking_logits_val[index_min])\n",
    "    history_preds_test.extend(tracking_logits_test[index_min])\n",
    "    history_samples_val.extend(val_texts)\n",
    "    history_samples_test.extend(test_texts)\n",
    "    history_input.extend(sentence_raw[val_index])\n",
    "    history_input_test.extend(sentences_test)\n",
    "    history_target.extend(target_words[val_index])\n",
    "    history_target_test.extend(test_target_words)\n",
    "    history_index.extend(([ix_fold] * len(val_index)))\n",
    "    history_occur_text.extend(occurence_text)\n",
    "    history_occur_target.extend(occurence_target)\n",
    "    ix_fold += 1\n",
    "\n",
    "    print(\"\")\n",
    "    print(\"Training complete!\")\n",
    "        \n",
    "    del model\n",
    "    torch.cuda.empty_cache()\n",
    "        \n",
    "    results_val = pd.DataFrame()\n",
    "    results_val['samples'] = history_samples_val\n",
    "    results_val['preds'] = history_preds_val\n",
    "    results_val['true'] = history_labels_val\n",
    "    results_val['raw'] = history_input\n",
    "    results_val['raw'] = results_val['raw'].astype(str)\n",
    "    results_val['target'] = history_target\n",
    "    results_val['index'] = history_index\n",
    "    results_val['occur_text'] = history_occur_text\n",
    "    results_val['occur_target'] = history_occur_target\n",
    "    results_val['particion'] = 'val'\n",
    "    \n",
    "    results_test = pd.DataFrame()\n",
    "    results_test['samples'] = history_samples_test\n",
    "    results_test['preds'] = history_preds_test\n",
    "    results_test['true'] = history_labels_test\n",
    "    results_test['raw'] = history_input_test\n",
    "    results_test['raw'] = results_test['raw'].astype(str)\n",
    "    results_test['index'] = 0\n",
    "    results_test['target'] = history_target_test\n",
    "    results_test['particion'] = 'test'\n",
    "\n",
    "    results = pd.concat((results_val, results_test), axis=0)\n",
    "    results_window[window_x] = results"
   ]
  },
  {
   "cell_type": "code",
   "execution_count": 7,
   "metadata": {
    "scrolled": true
   },
   "outputs": [
    {
     "data": {
      "text/plain": [
       "(6147, 1085)"
      ]
     },
     "execution_count": 7,
     "metadata": {},
     "output_type": "execute_result"
    }
   ],
   "source": [
    "len(train_texts), len(val_texts)"
   ]
  },
  {
   "cell_type": "code",
   "execution_count": 11,
   "metadata": {},
   "outputs": [
    {
     "data": {
      "text/plain": [
       "(868, 868)"
      ]
     },
     "execution_count": 11,
     "metadata": {},
     "output_type": "execute_result"
    }
   ],
   "source": [
    "len(val_index), len(set(val_index))"
   ]
  },
  {
   "cell_type": "code",
   "execution_count": 14,
   "metadata": {},
   "outputs": [],
   "source": [
    "val_index_tmp = np.load('val_tmp.npy')\n",
    "train_index_tmp = np.load('train_tmp.npy')\n",
    "    "
   ]
  },
  {
   "cell_type": "code",
   "execution_count": 16,
   "metadata": {
    "scrolled": true
   },
   "outputs": [
    {
     "data": {
      "text/plain": [
       "array([   0,    1,    2, ..., 7228, 7229, 7231])"
      ]
     },
     "execution_count": 16,
     "metadata": {},
     "output_type": "execute_result"
    }
   ],
   "source": [
    "train_index_tmp"
   ]
  },
  {
   "cell_type": "code",
   "execution_count": 19,
   "metadata": {},
   "outputs": [
    {
     "data": {
      "text/plain": [
       "array([ 851, 1080, 4565, ..., 1344, 4623, 1289])"
      ]
     },
     "execution_count": 19,
     "metadata": {},
     "output_type": "execute_result"
    }
   ],
   "source": [
    "train_index"
   ]
  },
  {
   "cell_type": "code",
   "execution_count": 20,
   "metadata": {},
   "outputs": [],
   "source": [
    "a = list(range(0,1000))\n",
    "b = [1] * 300 + [2] * 300 + [3] * 200 + [4] * 200"
   ]
  },
  {
   "cell_type": "code",
   "execution_count": 26,
   "metadata": {},
   "outputs": [],
   "source": [
    "from sklearn.model_selection import KFold\n",
    "kf = KFold(8, shuffle=True, random_state=0)\n",
    "for train_index, val_index in kf.split(a, b):\n",
    "    break"
   ]
  },
  {
   "cell_type": "code",
   "execution_count": 85,
   "metadata": {
    "scrolled": true
   },
   "outputs": [],
   "source": [
    "import random\n"
   ]
  },
  {
   "cell_type": "code",
   "execution_count": 86,
   "metadata": {},
   "outputs": [
    {
     "data": {
      "text/plain": [
       "array([670, 449,  70, 474, 626, 495, 673, 293, 711, 157, 469, 477, 646,\n",
       "       556, 755, 296, 529, 414, 242, 178, 680, 865, 811, 877, 303, 747,\n",
       "       872, 208, 546, 249, 786, 144, 774, 454, 596, 492,  88, 184, 229,\n",
       "       276,  69, 177, 314, 575, 500,  51, 731, 396, 361, 949, 960, 763,\n",
       "       739, 346, 922, 657, 806, 597, 942, 139, 570, 613, 273,  43, 605,\n",
       "       250, 884, 577, 690, 631,  61, 275,  54, 929, 107, 166, 825, 121,\n",
       "       321, 426, 964, 222, 664, 245, 927, 931,  46, 977, 517, 781, 879,\n",
       "       179, 704, 687,  99, 845, 707, 563, 326, 733, 647, 838, 504, 438,\n",
       "       703, 699, 847,  93, 419, 460, 580, 748, 225, 915, 863,  96, 180,\n",
       "       759, 411, 700, 189, 455, 678, 336, 653, 355, 342, 511, 907, 594,\n",
       "       400, 969, 696, 972, 286, 359, 176, 590, 168, 235, 160, 418, 102,\n",
       "       375, 564, 555, 117,  58, 661, 246,  92, 928, 338, 407, 629, 944,\n",
       "        76, 930, 765, 870, 354,   5, 941, 253, 762, 424, 498,  67, 237,\n",
       "       871, 815, 241, 287, 818, 986, 533, 483, 676, 688, 349, 689, 465,\n",
       "        12, 770,  83, 767, 694, 882,  19, 620, 615, 403, 127, 451, 794,\n",
       "       997, 153, 990, 537, 967, 387,  28, 195, 191, 519,  78, 507, 486,\n",
       "       402, 552, 984, 665, 924, 995, 126, 645,  90, 600, 446, 443, 159,\n",
       "       994, 527, 193, 911, 300, 487, 274, 846, 112, 566, 912, 753, 209,\n",
       "       315, 350, 630, 397, 671, 551, 165, 289, 373, 621, 434,  33,  35,\n",
       "       624, 692, 347, 365, 970, 776, 925, 752, 204, 606, 816, 792,  39,\n",
       "       453, 132, 217,  91, 536, 292, 352, 985,  57, 136, 125, 530, 550,\n",
       "       775, 254, 467, 263, 358, 380, 471, 525, 221, 194, 503, 304, 860,\n",
       "       462, 889, 856, 608, 989, 814, 440, 841, 163, 312, 891, 155,  98,\n",
       "       744, 333, 534,  86, 980, 544, 390, 186, 712, 598, 572, 801, 291,\n",
       "        66, 999, 505, 128, 472, 258, 185, 162,  30, 393, 257, 602, 954,\n",
       "       951, 187, 746, 850, 476, 591, 134, 106, 340, 305, 172, 910, 271,\n",
       "        32, 461, 394, 203, 509, 842,  56, 562,  40, 835, 233, 399, 622,\n",
       "        26, 714,  37, 345, 259, 207, 595, 218, 256, 979, 913, 543, 158,\n",
       "       445, 756,  85, 897, 406, 308, 797, 919, 659, 799, 371, 741, 328,\n",
       "       702, 592, 324, 612, 829, 581, 650, 716, 901, 831, 560, 663, 113,\n",
       "       219, 547, 201, 798, 288, 817, 377,  50, 238, 682, 329, 415, 210,\n",
       "       439, 488, 685, 604, 579, 807, 625, 427, 656,  81, 538, 120, 435,\n",
       "       114,  62, 320, 337, 215, 761, 464, 722, 192, 173, 425, 482, 348,\n",
       "       757, 395, 573, 729, 743, 285, 589, 742,  10, 934, 628, 410, 118,\n",
       "       745, 858, 720,  59, 896, 749, 839, 383, 388, 623, 149, 277,   6,\n",
       "       892, 559, 899, 769, 772, 610, 441, 667, 212,  94, 431, 992, 130,\n",
       "       379, 914, 652,  21, 463,   7, 376, 974, 101, 735, 234, 447, 616,\n",
       "       886,  42, 940, 524, 506, 156, 916, 853,   9, 804, 240, 861, 834,\n",
       "       800, 943, 309, 417, 855, 116, 830, 297, 171, 200, 724, 684, 343,\n",
       "       429, 398, 965, 491, 161, 948,  68, 119, 837, 334, 938, 392, 206,\n",
       "        25, 662, 820, 840,  47, 372, 649, 669, 535, 369, 939, 966, 848,\n",
       "       691, 768, 888, 420, 422, 812, 991, 648, 867, 683, 323,  79,  18,\n",
       "       953, 908, 715, 244, 878, 921, 281, 135, 721, 330, 773, 725, 459,\n",
       "       322, 836, 952, 658, 677, 561, 164, 190, 335, 444, 567, 713,   4,\n",
       "        95, 983,  16,   0, 143, 821, 442, 619, 146, 548, 718, 332, 124,\n",
       "       822, 945, 169, 368, 660, 603, 900, 479, 448, 174, 917,  53, 764,\n",
       "       152, 599, 475, 803, 100, 181, 344, 480, 793, 437, 973, 854,  36,\n",
       "       618,  11, 651,  44, 875, 844, 266, 668, 211, 282, 137, 493, 751,\n",
       "       243, 726, 224, 302, 450, 510, 364, 327, 750, 502, 109, 905, 728,\n",
       "         3, 549, 280, 686, 430, 269, 920, 409,   2, 813, 826, 632, 199,\n",
       "       727, 824, 351, 182, 522, 540, 866, 893, 301, 468, 150, 129, 539,\n",
       "       473, 307,  41, 362, 458, 339, 935, 903, 421,  63, 641, 697, 777,\n",
       "       732, 404, 947,  73, 571,  74,  64, 363, 470, 499,  89,  72, 609,\n",
       "       758, 360, 810, 565, 520, 988, 133, 593, 433, 138, 490,  17, 754,\n",
       "       228,  22,  34, 787, 975,   8,  71, 154, 260, 512, 849, 864, 617,\n",
       "       526, 890, 423, 681, 968, 226, 516, 223, 514, 734, 894, 679, 827,\n",
       "       541, 869, 779, 220, 227, 384, 294, 832, 213, 633, 478, 771, 357,\n",
       "       778, 268,  24, 833, 167, 436, 976, 248,  82, 356, 508, 639, 115,\n",
       "       959, 528, 851, 151, 795, 532, 105, 828, 405,  75, 197, 104, 183,\n",
       "       574, 378, 416, 701, 961, 278, 805, 283, 586, 542, 188, 956, 998,\n",
       "        84, 730,  23, 484, 978, 695, 809, 381, 737, 607, 457, 370, 515,\n",
       "       655, 145, 216,  38, 518, 782, 123, 232, 843, 937, 584, 876, 887,\n",
       "        80, 808, 766, 709, 857,  29, 898, 198, 675, 611, 325, 428, 936,\n",
       "       950, 627, 885, 313, 719, 147, 674, 140,  49, 391, 205, 265, 705,\n",
       "       170, 723, 353, 955, 708, 717, 401,  13, 585, 881, 933,  48, 963,\n",
       "       148, 981, 962, 554,  20, 895, 374, 110, 557, 634, 802, 341, 111,\n",
       "       588, 521, 640, 642, 284, 852, 318, 932,  87, 637, 868, 290, 791,\n",
       "       131, 880,  15,  52])"
      ]
     },
     "execution_count": 86,
     "metadata": {},
     "output_type": "execute_result"
    }
   ],
   "source": [
    "train_index"
   ]
  },
  {
   "cell_type": "code",
   "execution_count": 10,
   "metadata": {
    "scrolled": true
   },
   "outputs": [],
   "source": [
    "for window_ix in results_window:\n",
    "    results_window[window_ix]['mae'] = results_window[window_ix].apply(lambda x: mean_absolute_error([x.preds],[x.true]), axis=1)\n",
    "    results_window[window_ix]['mse'] = results_window[window_ix].apply(lambda x: mean_squared_error([x.preds],[x.true]), axis=1)\n",
    "    results_window[window_ix]['discrete_occur'] = results_window[window_ix].apply(lambda x: x.occur_target if (x.occur_target == 0 or x.occur_target == 1) else 2, axis=1)\n",
    "    "
   ]
  },
  {
   "cell_type": "code",
   "execution_count": 11,
   "metadata": {},
   "outputs": [
    {
     "name": "stdout",
     "output_type": "stream",
     "text": [
      "Window of 0\n",
      "Valid:\n",
      "MAE --- Mean: 0.0659  Std: 0.0\n",
      "MSE --- Mean: 0.0072  Std: 0.0\n",
      "Test:\n",
      "MAE --- Mean: 0.0698  Std: 0.0\n",
      "MSE --- Mean: 0.0087  Std: 0.0\n",
      "\n",
      "Window of 1\n",
      "Valid:\n",
      "MAE --- Mean: 0.0695  Std: 0.0\n",
      "MSE --- Mean: 0.008  Std: 0.0\n",
      "Test:\n",
      "MAE --- Mean: 0.0747  Std: 0.0\n",
      "MSE --- Mean: 0.0104  Std: 0.0\n",
      "\n",
      "Window of 2\n",
      "Valid:\n",
      "MAE --- Mean: 0.0734  Std: 0.0\n",
      "MSE --- Mean: 0.0091  Std: 0.0\n",
      "Test:\n",
      "MAE --- Mean: 0.0804  Std: 0.0\n",
      "MSE --- Mean: 0.0122  Std: 0.0\n",
      "\n"
     ]
    }
   ],
   "source": [
    "for window_ix in results_window:\n",
    "    print('Window of', window_ix)\n",
    "    mae = results_window[window_ix].loc[results_window[window_ix].particion == 'val'].groupby(['index']).mae.mean()\n",
    "    mse = results_window[window_ix].loc[results_window[window_ix].particion == 'val'].groupby(['index']).mse.mean()\n",
    "    #r_2 = results_window[window_ix].groupby(['index']).\n",
    "    print('Valid:')    \n",
    "    print('MAE --- Mean:', round(np.mean(mae), 4), ' Std:', round(np.std(mae), 4))\n",
    "    print('MSE --- Mean:', round(np.mean(mse), 4), ' Std:', round(np.std(mse), 4))\n",
    "    \n",
    "    mae = results_window[window_ix].loc[results_window[window_ix].particion == 'test'].groupby(['index']).mae.mean()\n",
    "    mse = results_window[window_ix].loc[results_window[window_ix].particion == 'test'].groupby(['index']).mse.mean()\n",
    "    #r_2 = results_window[window_ix].groupby(['index']).\n",
    "    print('Test:')    \n",
    "    print('MAE --- Mean:', round(np.mean(mae), 4), ' Std:', round(np.std(mae), 4))\n",
    "    print('MSE --- Mean:', round(np.mean(mse), 4), ' Std:', round(np.std(mse), 4))\n",
    "    \n",
    "    #print('R2  --- Mean:', round(np.mean(r_2), 4), ' Std:', round(np.std(r_2), 4))\n",
    "    print()\n"
   ]
  },
  {
   "cell_type": "code",
   "execution_count": 12,
   "metadata": {},
   "outputs": [],
   "source": [
    "import spacy\n",
    "\n",
    "nlp = spacy.load(\"en_core_web_sm\")\n",
    "def find_pos(sentence, ref):\n",
    "    try:\n",
    "        doc = nlp(sentence)\n",
    "        for token in doc:\n",
    "            if token.text == ref:\n",
    "                return token.pos_\n",
    "        return np.nan            \n",
    "    except:\n",
    "        return np.nan"
   ]
  },
  {
   "cell_type": "code",
   "execution_count": 13,
   "metadata": {},
   "outputs": [
    {
     "name": "stdout",
     "output_type": "stream",
     "text": [
      "0\n",
      "1\n",
      "2\n"
     ]
    }
   ],
   "source": [
    "for window_ix in results_window:\n",
    "    print(window_ix)\n",
    "    results_window[window_ix]['pos_label'] =  results_window[window_ix].apply(lambda x: find_pos(x.raw, x.target), axis=1)\n",
    "    "
   ]
  },
  {
   "cell_type": "code",
   "execution_count": 15,
   "metadata": {},
   "outputs": [
    {
     "name": "stdout",
     "output_type": "stream",
     "text": [
      "Window size of: 0\n"
     ]
    },
    {
     "data": {
      "image/png": "[encoded data removed]",
      "text/plain": [
       "<Figure size 432x288 with 1 Axes>"
      ]
     },
     "metadata": {
      "needs_background": "light"
     },
     "output_type": "display_data"
    },
    {
     "name": "stdout",
     "output_type": "stream",
     "text": [
      "Window size of: 1\n"
     ]
    },
    {
     "data": {
      "image/png": "[encoded data removed]",
      "text/plain": [
       "<Figure size 432x288 with 1 Axes>"
      ]
     },
     "metadata": {
      "needs_background": "light"
     },
     "output_type": "display_data"
    },
    {
     "name": "stdout",
     "output_type": "stream",
     "text": [
      "Window size of: 2\n"
     ]
    },
    {
     "data": {
      "image/png": "[encoded data removed]",
      "text/plain": [
       "<Figure size 432x288 with 1 Axes>"
      ]
     },
     "metadata": {
      "needs_background": "light"
     },
     "output_type": "display_data"
    }
   ],
   "source": [
    "import seaborn as sns\n",
    "import matplotlib.pyplot as plt\n",
    "\n",
    "%matplotlib inline\n",
    "\n",
    "for window_ix in results_window:\n",
    "    print('Window size of:', window_ix)\n",
    "    sns.lineplot(x='pos_label', y='mae', data=results_window[window_ix].loc[(results_window[window_ix].pos_label.notnull()) &\n",
    "                                                                           (results_window[window_ix].particion == 'val')], \n",
    "                    ci=98, \n",
    "                    markers='o')\n",
    "    sns.lineplot(x='pos_label', y='mae', data=results_window[window_ix].loc[(results_window[window_ix].pos_label.notnull()) &\n",
    "                                                                           (results_window[window_ix].particion == 'test')], \n",
    "                    ci=98, \n",
    "                    markers='o')\n",
    "    plt.legend(['Val', 'Test'])\n",
    "    plt.show()"
   ]
  },
  {
   "cell_type": "code",
   "execution_count": null,
   "metadata": {},
   "outputs": [],
   "source": []
  }
 ],
 "metadata": {
  "kernelspec": {
   "display_name": "Python 3",
   "language": "python",
   "name": "python3"
  },
  "language_info": {
   "codemirror_mode": {
    "name": "ipython",
    "version": 3
   },
   "file_extension": ".py",
   "mimetype": "text/x-python",
   "name": "python",
   "nbconvert_exporter": "python",
   "pygments_lexer": "ipython3",
   "version": "3.7.3"
  }
 },
 "nbformat": 4,
 "nbformat_minor": 4
}
