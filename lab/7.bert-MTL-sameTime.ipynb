{
 "cells": [
  {
   "cell_type": "code",
   "execution_count": 1,
   "metadata": {
    "scrolled": true
   },
   "outputs": [
    {
     "name": "stderr",
     "output_type": "stream",
     "text": [
      "Using TensorFlow backend.\n"
     ]
    },
    {
     "name": "stdout",
     "output_type": "stream",
     "text": [
      "INFO: Pandarallel will run on 12 workers.\n",
      "INFO: Pandarallel will use Memory file system to transfer data between the main process and workers.\n"
     ]
    }
   ],
   "source": [
    "from pathlib import Path\n",
    "import pandas as pd\n",
    "from torch.utils.data import DataLoader\n",
    "import torch\n",
    "from tqdm import tqdm\n",
    "import numpy as np\n",
    "import itertools\n",
    "import random\n",
    "\n",
    "from keras.preprocessing.sequence import pad_sequences\n",
    "\n",
    "from transformers import BertTokenizer\n",
    "from transformers import BertModel, AdamW, BertConfig\n",
    "from transformers import get_linear_schedule_with_warmup\n",
    "from transformers import DistilBertModel, AdamW\n",
    "from transformers import BertForSequenceClassification\n",
    "\n",
    "from sklearn.metrics import mean_absolute_error, r2_score, mean_squared_error\n",
    "from sklearn.linear_model import LinearRegression \n",
    "from sklearn.preprocessing import StandardScaler\n",
    "from sklearn.model_selection import StratifiedKFold\n",
    "from pandarallel import pandarallel\n",
    "pandarallel.initialize()\n",
    "\n",
    "import os\n",
    "os.chdir('..')\n",
    "\n",
    "from src.data_lexical import LexDataset, read_lexical_corpus\n",
    "from src.data_disambiguation import DisDataset, read_disambiguation_corpus\n",
    "from src.model import BertForSharedTaskBaseline\n",
    "from src.training import train, evaluate, forward_func_custom_bert"
   ]
  },
  {
   "cell_type": "code",
   "execution_count": 2,
   "metadata": {},
   "outputs": [],
   "source": [
    "import math\n",
    "import os\n",
    "import warnings\n",
    "from dataclasses import dataclass\n",
    "from typing import Optional, Tuple\n",
    "\n",
    "import torch\n",
    "import torch.utils.checkpoint\n",
    "from torch import nn\n",
    "from torch.nn import CrossEntropyLoss, MSELoss\n",
    "from transformers import BertPreTrainedModel, BertModel\n",
    "from transformers.modeling_outputs import SequenceClassifierOutput\n",
    "\n",
    "\n",
    "class BertForSharedTaskMultitask(BertPreTrainedModel):\n",
    "\n",
    "    _keys_to_ignore_on_load_unexpected = [r\"pooler\"]\n",
    "\n",
    "    def __init__(self, config):\n",
    "        super().__init__(config)\n",
    "        self.num_labels_first_task = 1 # Regression\n",
    "        self.num_labels_second_task = config.num_labels # Word sense disambiguation\n",
    "\n",
    "        self.bert = BertModel(config)\n",
    "        self.dropout_first = nn.Dropout(config.hidden_dropout_prob)\n",
    "        self.dropout_second = nn.Dropout(config.hidden_dropout_prob)\n",
    "        \n",
    "        self.classifier_first = nn.Linear(config.hidden_size, self.num_labels_first_task)\n",
    "        self.classifier_second = nn.Linear(config.hidden_size, self.num_labels_second_task)\n",
    "\n",
    "        self.init_weights()\n",
    "        \n",
    "\n",
    "    def forward(\n",
    "        self,\n",
    "        input_ids=None,\n",
    "        target_positions=None,\n",
    "        task_id=1,\n",
    "        attention_mask=None,\n",
    "        token_type_ids=None,\n",
    "        position_ids=None,\n",
    "        head_mask=None,\n",
    "        inputs_embeds=None,\n",
    "        labels=None,\n",
    "        output_attentions=None,\n",
    "        output_hidden_states=None,\n",
    "        return_dict=None,\n",
    "    ):\n",
    "        r\"\"\"\n",
    "        labels (:obj:`torch.LongTensor` of shape :obj:`(batch_size, sequence_length)`, `optional`):\n",
    "            Labels for computing the token classification loss. Indices should be in ``[0, ..., config.num_labels -\n",
    "            1]``.\n",
    "        \"\"\"\n",
    "        return_dict = return_dict if return_dict is not None else self.config.use_return_dict\n",
    "\n",
    "        outputs = self.bert(\n",
    "            input_ids,\n",
    "            attention_mask=attention_mask,\n",
    "            token_type_ids=token_type_ids,\n",
    "            position_ids=position_ids,\n",
    "            head_mask=head_mask,\n",
    "            inputs_embeds=inputs_embeds,\n",
    "            output_attentions=output_attentions,\n",
    "            output_hidden_states=output_hidden_states,\n",
    "            return_dict=return_dict,\n",
    "        )\n",
    "\n",
    "        if task_id == 1:\n",
    "            pooled_output = outputs[0][torch.arange(outputs[0].size(0)), target_positions]\n",
    "            pooled_output = self.dropout_first(pooled_output)\n",
    "            logits = self.classifier_first(pooled_output)\n",
    "\n",
    "            loss = None\n",
    "            if labels is not None:\n",
    "                if self.num_labels_first_task == 1:\n",
    "                    #  We are doing regression\n",
    "                    loss_fct = MSELoss()\n",
    "                    loss = loss_fct(logits.view(-1), labels.view(-1))\n",
    "                else:\n",
    "                    loss_fct = CrossEntropyLoss()\n",
    "                    loss = loss_fct(logits.view(-1, self.num_labels), labels.view(-1))\n",
    "\n",
    "            if not return_dict:\n",
    "                output = (logits,) + outputs[2:]\n",
    "                return ((loss,) + output) if loss is not None else output\n",
    "\n",
    "            return SequenceClassifierOutput(\n",
    "                loss=loss,\n",
    "                logits=logits,\n",
    "                hidden_states=outputs.hidden_states,\n",
    "                attentions=outputs.attentions,\n",
    "            )\n",
    "        elif task_id == 2:\n",
    "            sequence_output = outputs[0]\n",
    "\n",
    "            sequence_output = self.dropout_second(sequence_output)\n",
    "            logits = self.classifier_second(sequence_output)\n",
    "\n",
    "            loss = None\n",
    "            if labels is not None:\n",
    "                loss_fct = CrossEntropyLoss()\n",
    "                # Only keep active parts of the loss\n",
    "                if attention_mask is not None:\n",
    "                    active_loss = attention_mask.view(-1) == 1\n",
    "                    active_logits = logits.view(-1, self.num_labels_second_task)\n",
    "                    active_labels = torch.where(\n",
    "                        active_loss, labels.view(-1), torch.tensor(loss_fct.ignore_index).type_as(labels)\n",
    "                    )\n",
    "                    loss = loss_fct(active_logits, active_labels)\n",
    "                else:\n",
    "                    loss = loss_fct(logits.view(-1, self.num_labels_second_task), labels.view(-1))\n",
    "\n",
    "            if not return_dict:\n",
    "                output = (logits,) + outputs[2:]\n",
    "                return ((loss,) + output) if loss is not None else output\n",
    "\n",
    "            return TokenClassifierOutput(\n",
    "                loss=loss,\n",
    "                logits=logits,\n",
    "                hidden_states=outputs.hidden_states,\n",
    "                attentions=outputs.attentions,\n",
    "            )\n"
   ]
  },
  {
   "cell_type": "code",
   "execution_count": 3,
   "metadata": {},
   "outputs": [],
   "source": [
    "def forward_func_multitask_same_bert(batch, device, model, additional_params):\n",
    "\n",
    "    # Clear gradients\n",
    "    model.zero_grad()    \n",
    "    \n",
    "    \n",
    "    b_input_ids = batch['task_1']['input_ids'].to(device)\n",
    "    b_input_mask = batch['task_1']['attention_mask'].to(device)\n",
    "    b_labels = batch['task_1']['labels'].to(device)\n",
    "    b_positions =  batch['task_1']['target_positions'].to(device)\n",
    "      \n",
    "    loss_1, logits = model(b_input_ids, \n",
    "                             b_positions,\n",
    "                             task_id=1,\n",
    "                             token_type_ids=None, \n",
    "                             attention_mask=b_input_mask, \n",
    "                             labels=b_labels)\n",
    "    \n",
    "    b_input_ids = batch['task_2']['input_ids'].to(device)\n",
    "    b_input_mask = batch['task_2']['attention_mask'].to(device)\n",
    "    b_labels = batch['task_2']['labels'].to(device)\n",
    "\n",
    "    loss_2, _ = model(b_input_ids, \n",
    "                             task_id=2,\n",
    "                             token_type_ids=None, \n",
    "                             attention_mask=b_input_mask, \n",
    "                             labels=b_labels)\n",
    "    \n",
    "    return 0.8 * loss_1 + 0.2 * loss_2, logits"
   ]
  },
  {
   "cell_type": "code",
   "execution_count": 4,
   "metadata": {},
   "outputs": [],
   "source": [
    "def forward_func_multitask_bert(batch, device, model, additional_params):\n",
    "\n",
    "    # Clear gradients\n",
    "    model.zero_grad()      \n",
    "    b_input_ids = batch['input_ids'].to(device)\n",
    "    b_input_mask = batch['attention_mask'].to(device)\n",
    "        \n",
    "    if additional_params['task_id'] == 1:\n",
    "        b_labels = batch['labels'].to(device)\n",
    "        b_positions =  batch['target_positions'].to(device)\n",
    "      \n",
    "        loss, logits = model(b_input_ids, \n",
    "                             b_positions,\n",
    "                             task_id=1,\n",
    "                             token_type_ids=None, \n",
    "                             attention_mask=b_input_mask, \n",
    "                             labels=b_labels)\n",
    "    elif additional_params['task_id'] == 2:\n",
    "        b_labels = batch['labels'].to(device)\n",
    "\n",
    "        loss, logits = model(b_input_ids, \n",
    "                             task_id=2,\n",
    "                             token_type_ids=None, \n",
    "                             attention_mask=b_input_mask, \n",
    "                             labels=b_labels)\n",
    "    return loss, logits"
   ]
  },
  {
   "cell_type": "code",
   "execution_count": 5,
   "metadata": {},
   "outputs": [],
   "source": [
    "epochs = 43\n",
    "seed_val = 42\n",
    "results_window = {}\n",
    "max_len = 22\n",
    "stop_at = 7"
   ]
  },
  {
   "cell_type": "code",
   "execution_count": 6,
   "metadata": {},
   "outputs": [],
   "source": [
    "data_sent_dis, data_senses_dis = read_disambiguation_corpus(max_len=max_len)"
   ]
  },
  {
   "cell_type": "code",
   "execution_count": 7,
   "metadata": {},
   "outputs": [
    {
     "data": {
      "text/plain": [
       "7932"
      ]
     },
     "execution_count": 7,
     "metadata": {},
     "output_type": "execute_result"
    }
   ],
   "source": [
    "len(data_sent_dis)"
   ]
  },
  {
   "cell_type": "code",
   "execution_count": 8,
   "metadata": {},
   "outputs": [],
   "source": [
    "tag_values = list(set(list(itertools.chain(*data_senses_dis))))\n",
    "tag_values.append(\"PAD\")\n",
    "tag2idx = {t: i for i, t in enumerate(tag_values)}"
   ]
  },
  {
   "cell_type": "code",
   "execution_count": 9,
   "metadata": {},
   "outputs": [
    {
     "name": "stdout",
     "output_type": "stream",
     "text": [
      "Loading BERT tokenizer...\n"
     ]
    }
   ],
   "source": [
    "# Load the BERT tokenizer.\n",
    "print('Loading BERT tokenizer...')\n",
    "tokenizer = BertTokenizer.from_pretrained('bert-base-uncased', do_lower_case=True)"
   ]
  },
  {
   "cell_type": "code",
   "execution_count": 10,
   "metadata": {},
   "outputs": [],
   "source": [
    "from xml.dom import minidom\n",
    "from bs4 import BeautifulSoup\n",
    "from pathlib import Path\n",
    "import pandas as pd\n",
    "import numpy as np\n",
    "import torch\n",
    "\n",
    "class MultiDataset(torch.utils.data.Dataset):\n",
    "    def __init__(self, encodings_dis, labels_dis, encodings_lex, labels_lex, positions_lex):\n",
    "        self.encodings_dis = encodings_dis\n",
    "        self.labels_dis = labels_dis\n",
    "        \n",
    "        self.encodings_lex = encodings_lex\n",
    "        self.labels_lex = labels_lex\n",
    "        self.positions_lex = positions_lex\n",
    "\n",
    "    def __getitem__(self, idx):\n",
    "        item = {}\n",
    "        \n",
    "        task_1 = {key: torch.tensor(val[idx]) for key, val in self.encodings_lex.items()}\n",
    "        task_1['labels'] = torch.tensor(self.labels_lex[idx])\n",
    "        task_1['target_positions'] = torch.tensor(self.positions_lex[idx])\n",
    "        \n",
    "        task_2 = {key: torch.tensor(val[idx]) for key, val in self.encodings_dis.items()}\n",
    "        task_2['labels'] = torch.tensor(self.labels_dis[idx])\n",
    "        \n",
    "        item['task_2'] = task_2\n",
    "        item['task_1'] = task_1\n",
    "        return item\n",
    "\n",
    "    def __len__(self):\n",
    "        return len(self.labels_dis)"
   ]
  },
  {
   "cell_type": "code",
   "execution_count": null,
   "metadata": {
    "scrolled": true
   },
   "outputs": [
    {
     "name": "stdout",
     "output_type": "stream",
     "text": [
      "Window size of  0\n",
      "Starting a new fold ...\n"
     ]
    },
    {
     "name": "stderr",
     "output_type": "stream",
     "text": [
      "Some weights of the model checkpoint at bert-base-uncased were not used when initializing BertForSharedTaskMultitask: ['cls.predictions.bias', 'cls.predictions.transform.dense.weight', 'cls.predictions.transform.dense.bias', 'cls.predictions.decoder.weight', 'cls.seq_relationship.weight', 'cls.seq_relationship.bias', 'cls.predictions.transform.LayerNorm.weight', 'cls.predictions.transform.LayerNorm.bias']\n",
      "- This IS expected if you are initializing BertForSharedTaskMultitask from the checkpoint of a model trained on another task or with another architecture (e.g. initializing a BertForSequenceClassification model from a BertForPretraining model).\n",
      "- This IS NOT expected if you are initializing BertForSharedTaskMultitask from the checkpoint of a model that you expect to be exactly identical (initializing a BertForSequenceClassification model from a BertForSequenceClassification model).\n",
      "Some weights of BertForSharedTaskMultitask were not initialized from the model checkpoint at bert-base-uncased and are newly initialized: ['classifier_first.weight', 'classifier_first.bias', 'classifier_second.weight', 'classifier_second.bias']\n",
      "You should probably TRAIN this model on a down-stream task to be able to use it for predictions and inference.\n",
      "/home/krivas/anaconda3/lib/python3.7/site-packages/ipykernel_launcher.py:69: VisibleDeprecationWarning: Creating an ndarray from ragged nested sequences (which is a list-or-tuple of lists-or-tuples-or ndarrays with different lengths or shapes) is deprecated. If you meant to do this, you must specify 'dtype=object' when creating the ndarray\n"
     ]
    },
    {
     "name": "stdout",
     "output_type": "stream",
     "text": [
      "\n",
      "======== Epoch 1 / 43 ========\n",
      "Training...\n",
      "\n",
      "  Average training loss: 0.353784\n",
      "\n",
      "Running Validation...\n",
      "  Metric: 0.270030\n",
      "  Validation Loss: 0.086451\n"
     ]
    },
    {
     "name": "stderr",
     "output_type": "stream",
     "text": [
      "/home/krivas/anaconda3/lib/python3.7/site-packages/ipykernel_launcher.py:69: VisibleDeprecationWarning: Creating an ndarray from ragged nested sequences (which is a list-or-tuple of lists-or-tuples-or ndarrays with different lengths or shapes) is deprecated. If you meant to do this, you must specify 'dtype=object' when creating the ndarray\n"
     ]
    },
    {
     "name": "stdout",
     "output_type": "stream",
     "text": [
      "\n",
      "======== Epoch 2 / 43 ========\n",
      "Training...\n",
      "\n",
      "  Average training loss: 0.221082\n",
      "\n",
      "Running Validation...\n",
      "  Metric: 0.283222\n",
      "  Validation Loss: 0.093466\n"
     ]
    },
    {
     "name": "stderr",
     "output_type": "stream",
     "text": [
      "/home/krivas/anaconda3/lib/python3.7/site-packages/ipykernel_launcher.py:69: VisibleDeprecationWarning: Creating an ndarray from ragged nested sequences (which is a list-or-tuple of lists-or-tuples-or ndarrays with different lengths or shapes) is deprecated. If you meant to do this, you must specify 'dtype=object' when creating the ndarray\n"
     ]
    },
    {
     "name": "stdout",
     "output_type": "stream",
     "text": [
      "\n",
      "======== Epoch 3 / 43 ========\n",
      "Training...\n",
      "\n",
      "  Average training loss: 0.206544\n",
      "\n",
      "Running Validation...\n",
      "  Metric: 0.266429\n",
      "  Validation Loss: 0.083501\n"
     ]
    },
    {
     "name": "stderr",
     "output_type": "stream",
     "text": [
      "/home/krivas/anaconda3/lib/python3.7/site-packages/ipykernel_launcher.py:69: VisibleDeprecationWarning: Creating an ndarray from ragged nested sequences (which is a list-or-tuple of lists-or-tuples-or ndarrays with different lengths or shapes) is deprecated. If you meant to do this, you must specify 'dtype=object' when creating the ndarray\n"
     ]
    },
    {
     "name": "stdout",
     "output_type": "stream",
     "text": [
      "\n",
      "======== Epoch 4 / 43 ========\n",
      "Training...\n",
      "\n",
      "  Average training loss: 0.193271\n",
      "\n",
      "Running Validation...\n",
      "  Metric: 0.258765\n",
      "  Validation Loss: 0.078449\n"
     ]
    },
    {
     "name": "stderr",
     "output_type": "stream",
     "text": [
      "/home/krivas/anaconda3/lib/python3.7/site-packages/ipykernel_launcher.py:69: VisibleDeprecationWarning: Creating an ndarray from ragged nested sequences (which is a list-or-tuple of lists-or-tuples-or ndarrays with different lengths or shapes) is deprecated. If you meant to do this, you must specify 'dtype=object' when creating the ndarray\n"
     ]
    },
    {
     "name": "stdout",
     "output_type": "stream",
     "text": [
      "\n",
      "======== Epoch 5 / 43 ========\n",
      "Training...\n",
      "\n",
      "  Average training loss: 0.180161\n",
      "\n",
      "Running Validation...\n",
      "  Metric: 0.240882\n",
      "  Validation Loss: 0.068244\n"
     ]
    },
    {
     "name": "stderr",
     "output_type": "stream",
     "text": [
      "/home/krivas/anaconda3/lib/python3.7/site-packages/ipykernel_launcher.py:69: VisibleDeprecationWarning: Creating an ndarray from ragged nested sequences (which is a list-or-tuple of lists-or-tuples-or ndarrays with different lengths or shapes) is deprecated. If you meant to do this, you must specify 'dtype=object' when creating the ndarray\n"
     ]
    },
    {
     "name": "stdout",
     "output_type": "stream",
     "text": [
      "\n",
      "======== Epoch 6 / 43 ========\n",
      "Training...\n",
      "\n",
      "  Average training loss: 0.171308\n",
      "\n",
      "Running Validation...\n",
      "  Metric: 0.214580\n",
      "  Validation Loss: 0.055024\n"
     ]
    },
    {
     "name": "stderr",
     "output_type": "stream",
     "text": [
      "/home/krivas/anaconda3/lib/python3.7/site-packages/ipykernel_launcher.py:69: VisibleDeprecationWarning: Creating an ndarray from ragged nested sequences (which is a list-or-tuple of lists-or-tuples-or ndarrays with different lengths or shapes) is deprecated. If you meant to do this, you must specify 'dtype=object' when creating the ndarray\n"
     ]
    },
    {
     "name": "stdout",
     "output_type": "stream",
     "text": [
      "\n",
      "======== Epoch 7 / 43 ========\n",
      "Training...\n",
      "\n",
      "  Average training loss: 0.163119\n",
      "\n",
      "Running Validation...\n",
      "  Metric: 0.202749\n",
      "  Validation Loss: 0.048967\n"
     ]
    },
    {
     "name": "stderr",
     "output_type": "stream",
     "text": [
      "/home/krivas/anaconda3/lib/python3.7/site-packages/ipykernel_launcher.py:69: VisibleDeprecationWarning: Creating an ndarray from ragged nested sequences (which is a list-or-tuple of lists-or-tuples-or ndarrays with different lengths or shapes) is deprecated. If you meant to do this, you must specify 'dtype=object' when creating the ndarray\n"
     ]
    },
    {
     "name": "stdout",
     "output_type": "stream",
     "text": [
      "\n",
      "======== Epoch 8 / 43 ========\n",
      "Training...\n",
      "\n",
      "  Average training loss: 0.155956\n",
      "\n",
      "Running Validation...\n",
      "  Metric: 0.196293\n",
      "  Validation Loss: 0.046380\n"
     ]
    },
    {
     "name": "stderr",
     "output_type": "stream",
     "text": [
      "/home/krivas/anaconda3/lib/python3.7/site-packages/ipykernel_launcher.py:69: VisibleDeprecationWarning: Creating an ndarray from ragged nested sequences (which is a list-or-tuple of lists-or-tuples-or ndarrays with different lengths or shapes) is deprecated. If you meant to do this, you must specify 'dtype=object' when creating the ndarray\n"
     ]
    },
    {
     "name": "stdout",
     "output_type": "stream",
     "text": [
      "\n",
      "======== Epoch 9 / 43 ========\n",
      "Training...\n",
      "\n",
      "  Average training loss: 0.149379\n",
      "\n",
      "Running Validation...\n",
      "  Metric: 0.184493\n",
      "  Validation Loss: 0.041444\n"
     ]
    },
    {
     "name": "stderr",
     "output_type": "stream",
     "text": [
      "/home/krivas/anaconda3/lib/python3.7/site-packages/ipykernel_launcher.py:69: VisibleDeprecationWarning: Creating an ndarray from ragged nested sequences (which is a list-or-tuple of lists-or-tuples-or ndarrays with different lengths or shapes) is deprecated. If you meant to do this, you must specify 'dtype=object' when creating the ndarray\n"
     ]
    },
    {
     "name": "stdout",
     "output_type": "stream",
     "text": [
      "\n",
      "======== Epoch 10 / 43 ========\n",
      "Training...\n",
      "\n",
      "  Average training loss: 0.141830\n",
      "\n",
      "Running Validation...\n",
      "  Metric: 0.178330\n",
      "  Validation Loss: 0.038835\n"
     ]
    },
    {
     "name": "stderr",
     "output_type": "stream",
     "text": [
      "/home/krivas/anaconda3/lib/python3.7/site-packages/ipykernel_launcher.py:69: VisibleDeprecationWarning: Creating an ndarray from ragged nested sequences (which is a list-or-tuple of lists-or-tuples-or ndarrays with different lengths or shapes) is deprecated. If you meant to do this, you must specify 'dtype=object' when creating the ndarray\n"
     ]
    },
    {
     "name": "stdout",
     "output_type": "stream",
     "text": [
      "\n",
      "======== Epoch 11 / 43 ========\n",
      "Training...\n",
      "\n",
      "  Average training loss: 0.136087\n",
      "\n",
      "Running Validation...\n",
      "  Metric: 0.174773\n",
      "  Validation Loss: 0.037368\n"
     ]
    },
    {
     "name": "stderr",
     "output_type": "stream",
     "text": [
      "/home/krivas/anaconda3/lib/python3.7/site-packages/ipykernel_launcher.py:69: VisibleDeprecationWarning: Creating an ndarray from ragged nested sequences (which is a list-or-tuple of lists-or-tuples-or ndarrays with different lengths or shapes) is deprecated. If you meant to do this, you must specify 'dtype=object' when creating the ndarray\n"
     ]
    },
    {
     "name": "stdout",
     "output_type": "stream",
     "text": [
      "\n",
      "======== Epoch 12 / 43 ========\n",
      "Training...\n",
      "\n",
      "  Average training loss: 0.128905\n",
      "\n",
      "Running Validation...\n",
      "  Metric: 0.162481\n",
      "  Validation Loss: 0.033052\n"
     ]
    },
    {
     "name": "stderr",
     "output_type": "stream",
     "text": [
      "/home/krivas/anaconda3/lib/python3.7/site-packages/ipykernel_launcher.py:69: VisibleDeprecationWarning: Creating an ndarray from ragged nested sequences (which is a list-or-tuple of lists-or-tuples-or ndarrays with different lengths or shapes) is deprecated. If you meant to do this, you must specify 'dtype=object' when creating the ndarray\n"
     ]
    },
    {
     "name": "stdout",
     "output_type": "stream",
     "text": [
      "\n",
      "======== Epoch 13 / 43 ========\n",
      "Training...\n",
      "\n",
      "  Average training loss: 0.122102\n",
      "\n",
      "Running Validation...\n",
      "  Metric: 0.155432\n",
      "  Validation Loss: 0.030445\n"
     ]
    },
    {
     "name": "stderr",
     "output_type": "stream",
     "text": [
      "/home/krivas/anaconda3/lib/python3.7/site-packages/ipykernel_launcher.py:69: VisibleDeprecationWarning: Creating an ndarray from ragged nested sequences (which is a list-or-tuple of lists-or-tuples-or ndarrays with different lengths or shapes) is deprecated. If you meant to do this, you must specify 'dtype=object' when creating the ndarray\n"
     ]
    },
    {
     "name": "stdout",
     "output_type": "stream",
     "text": [
      "\n",
      "======== Epoch 14 / 43 ========\n",
      "Training...\n",
      "\n",
      "  Average training loss: 0.115519\n",
      "\n",
      "Running Validation...\n",
      "  Metric: 0.147919\n",
      "  Validation Loss: 0.027949\n"
     ]
    },
    {
     "name": "stderr",
     "output_type": "stream",
     "text": [
      "/home/krivas/anaconda3/lib/python3.7/site-packages/ipykernel_launcher.py:69: VisibleDeprecationWarning: Creating an ndarray from ragged nested sequences (which is a list-or-tuple of lists-or-tuples-or ndarrays with different lengths or shapes) is deprecated. If you meant to do this, you must specify 'dtype=object' when creating the ndarray\n"
     ]
    },
    {
     "name": "stdout",
     "output_type": "stream",
     "text": [
      "\n",
      "======== Epoch 15 / 43 ========\n",
      "Training...\n",
      "\n",
      "  Average training loss: 0.108233\n",
      "\n",
      "Running Validation...\n",
      "  Metric: 0.141089\n",
      "  Validation Loss: 0.025775\n"
     ]
    },
    {
     "name": "stderr",
     "output_type": "stream",
     "text": [
      "/home/krivas/anaconda3/lib/python3.7/site-packages/ipykernel_launcher.py:69: VisibleDeprecationWarning: Creating an ndarray from ragged nested sequences (which is a list-or-tuple of lists-or-tuples-or ndarrays with different lengths or shapes) is deprecated. If you meant to do this, you must specify 'dtype=object' when creating the ndarray\n"
     ]
    },
    {
     "name": "stdout",
     "output_type": "stream",
     "text": [
      "\n",
      "======== Epoch 16 / 43 ========\n",
      "Training...\n",
      "\n",
      "  Average training loss: 0.102385\n",
      "\n",
      "Running Validation...\n",
      "  Metric: 0.152635\n",
      "  Validation Loss: 0.029443\n"
     ]
    },
    {
     "name": "stderr",
     "output_type": "stream",
     "text": [
      "/home/krivas/anaconda3/lib/python3.7/site-packages/ipykernel_launcher.py:69: VisibleDeprecationWarning: Creating an ndarray from ragged nested sequences (which is a list-or-tuple of lists-or-tuples-or ndarrays with different lengths or shapes) is deprecated. If you meant to do this, you must specify 'dtype=object' when creating the ndarray\n"
     ]
    },
    {
     "name": "stdout",
     "output_type": "stream",
     "text": [
      "\n",
      "======== Epoch 17 / 43 ========\n",
      "Training...\n",
      "\n",
      "  Average training loss: 0.096358\n",
      "\n",
      "Running Validation...\n",
      "  Metric: 0.142102\n",
      "  Validation Loss: 0.026218\n"
     ]
    },
    {
     "name": "stderr",
     "output_type": "stream",
     "text": [
      "/home/krivas/anaconda3/lib/python3.7/site-packages/ipykernel_launcher.py:69: VisibleDeprecationWarning: Creating an ndarray from ragged nested sequences (which is a list-or-tuple of lists-or-tuples-or ndarrays with different lengths or shapes) is deprecated. If you meant to do this, you must specify 'dtype=object' when creating the ndarray\n"
     ]
    },
    {
     "name": "stdout",
     "output_type": "stream",
     "text": [
      "\n",
      "======== Epoch 18 / 43 ========\n",
      "Training...\n",
      "\n",
      "  Average training loss: 0.091208\n",
      "\n",
      "Running Validation...\n",
      "  Metric: 0.140670\n",
      "  Validation Loss: 0.025614\n"
     ]
    },
    {
     "name": "stderr",
     "output_type": "stream",
     "text": [
      "/home/krivas/anaconda3/lib/python3.7/site-packages/ipykernel_launcher.py:69: VisibleDeprecationWarning: Creating an ndarray from ragged nested sequences (which is a list-or-tuple of lists-or-tuples-or ndarrays with different lengths or shapes) is deprecated. If you meant to do this, you must specify 'dtype=object' when creating the ndarray\n"
     ]
    },
    {
     "name": "stdout",
     "output_type": "stream",
     "text": [
      "\n",
      "======== Epoch 19 / 43 ========\n",
      "Training...\n",
      "\n",
      "  Average training loss: 0.086201\n",
      "\n",
      "Running Validation...\n",
      "  Metric: 0.134884\n",
      "  Validation Loss: 0.023789\n"
     ]
    },
    {
     "name": "stderr",
     "output_type": "stream",
     "text": [
      "/home/krivas/anaconda3/lib/python3.7/site-packages/ipykernel_launcher.py:69: VisibleDeprecationWarning: Creating an ndarray from ragged nested sequences (which is a list-or-tuple of lists-or-tuples-or ndarrays with different lengths or shapes) is deprecated. If you meant to do this, you must specify 'dtype=object' when creating the ndarray\n"
     ]
    },
    {
     "name": "stdout",
     "output_type": "stream",
     "text": [
      "\n",
      "======== Epoch 20 / 43 ========\n",
      "Training...\n",
      "\n",
      "  Average training loss: 0.080537\n",
      "\n",
      "Running Validation...\n",
      "  Metric: 0.125391\n",
      "  Validation Loss: 0.021129\n"
     ]
    },
    {
     "name": "stderr",
     "output_type": "stream",
     "text": [
      "/home/krivas/anaconda3/lib/python3.7/site-packages/ipykernel_launcher.py:69: VisibleDeprecationWarning: Creating an ndarray from ragged nested sequences (which is a list-or-tuple of lists-or-tuples-or ndarrays with different lengths or shapes) is deprecated. If you meant to do this, you must specify 'dtype=object' when creating the ndarray\n"
     ]
    },
    {
     "name": "stdout",
     "output_type": "stream",
     "text": [
      "\n",
      "======== Epoch 21 / 43 ========\n",
      "Training...\n",
      "\n",
      "  Average training loss: 0.075741\n",
      "\n",
      "Running Validation...\n",
      "  Metric: 0.125381\n",
      "  Validation Loss: 0.021162\n"
     ]
    },
    {
     "name": "stderr",
     "output_type": "stream",
     "text": [
      "/home/krivas/anaconda3/lib/python3.7/site-packages/ipykernel_launcher.py:69: VisibleDeprecationWarning: Creating an ndarray from ragged nested sequences (which is a list-or-tuple of lists-or-tuples-or ndarrays with different lengths or shapes) is deprecated. If you meant to do this, you must specify 'dtype=object' when creating the ndarray\n"
     ]
    },
    {
     "name": "stdout",
     "output_type": "stream",
     "text": [
      "\n",
      "======== Epoch 22 / 43 ========\n",
      "Training...\n",
      "\n",
      "  Average training loss: 0.070824\n",
      "\n",
      "Running Validation...\n",
      "  Metric: 0.128512\n",
      "  Validation Loss: 0.022170\n"
     ]
    },
    {
     "name": "stderr",
     "output_type": "stream",
     "text": [
      "/home/krivas/anaconda3/lib/python3.7/site-packages/ipykernel_launcher.py:69: VisibleDeprecationWarning: Creating an ndarray from ragged nested sequences (which is a list-or-tuple of lists-or-tuples-or ndarrays with different lengths or shapes) is deprecated. If you meant to do this, you must specify 'dtype=object' when creating the ndarray\n"
     ]
    },
    {
     "name": "stdout",
     "output_type": "stream",
     "text": [
      "\n",
      "======== Epoch 23 / 43 ========\n",
      "Training...\n",
      "\n",
      "  Average training loss: 0.068209\n",
      "\n",
      "Running Validation...\n",
      "  Metric: 0.132360\n",
      "  Validation Loss: 0.023323\n"
     ]
    },
    {
     "name": "stderr",
     "output_type": "stream",
     "text": [
      "/home/krivas/anaconda3/lib/python3.7/site-packages/ipykernel_launcher.py:69: VisibleDeprecationWarning: Creating an ndarray from ragged nested sequences (which is a list-or-tuple of lists-or-tuples-or ndarrays with different lengths or shapes) is deprecated. If you meant to do this, you must specify 'dtype=object' when creating the ndarray\n"
     ]
    },
    {
     "name": "stdout",
     "output_type": "stream",
     "text": [
      "\n",
      "======== Epoch 24 / 43 ========\n",
      "Training...\n",
      "\n",
      "  Average training loss: 0.063964\n",
      "\n",
      "Running Validation...\n",
      "  Metric: 0.116925\n",
      "  Validation Loss: 0.018750\n"
     ]
    },
    {
     "name": "stderr",
     "output_type": "stream",
     "text": [
      "/home/krivas/anaconda3/lib/python3.7/site-packages/ipykernel_launcher.py:69: VisibleDeprecationWarning: Creating an ndarray from ragged nested sequences (which is a list-or-tuple of lists-or-tuples-or ndarrays with different lengths or shapes) is deprecated. If you meant to do this, you must specify 'dtype=object' when creating the ndarray\n"
     ]
    },
    {
     "name": "stdout",
     "output_type": "stream",
     "text": [
      "\n",
      "======== Epoch 25 / 43 ========\n",
      "Training...\n",
      "\n",
      "  Average training loss: 0.060681\n",
      "\n",
      "Running Validation...\n",
      "  Metric: 0.109539\n",
      "  Validation Loss: 0.016859\n"
     ]
    },
    {
     "name": "stderr",
     "output_type": "stream",
     "text": [
      "/home/krivas/anaconda3/lib/python3.7/site-packages/ipykernel_launcher.py:69: VisibleDeprecationWarning: Creating an ndarray from ragged nested sequences (which is a list-or-tuple of lists-or-tuples-or ndarrays with different lengths or shapes) is deprecated. If you meant to do this, you must specify 'dtype=object' when creating the ndarray\n"
     ]
    },
    {
     "name": "stdout",
     "output_type": "stream",
     "text": [
      "\n",
      "======== Epoch 26 / 43 ========\n",
      "Training...\n",
      "\n",
      "  Average training loss: 0.056684\n",
      "\n",
      "Running Validation...\n",
      "  Metric: 0.107674\n",
      "  Validation Loss: 0.016396\n"
     ]
    },
    {
     "name": "stderr",
     "output_type": "stream",
     "text": [
      "/home/krivas/anaconda3/lib/python3.7/site-packages/ipykernel_launcher.py:69: VisibleDeprecationWarning: Creating an ndarray from ragged nested sequences (which is a list-or-tuple of lists-or-tuples-or ndarrays with different lengths or shapes) is deprecated. If you meant to do this, you must specify 'dtype=object' when creating the ndarray\n"
     ]
    },
    {
     "name": "stdout",
     "output_type": "stream",
     "text": [
      "\n",
      "======== Epoch 27 / 43 ========\n",
      "Training...\n",
      "\n",
      "  Average training loss: 0.053379\n",
      "\n",
      "Running Validation...\n",
      "  Metric: 0.110303\n",
      "  Validation Loss: 0.016984\n"
     ]
    },
    {
     "name": "stderr",
     "output_type": "stream",
     "text": [
      "/home/krivas/anaconda3/lib/python3.7/site-packages/ipykernel_launcher.py:69: VisibleDeprecationWarning: Creating an ndarray from ragged nested sequences (which is a list-or-tuple of lists-or-tuples-or ndarrays with different lengths or shapes) is deprecated. If you meant to do this, you must specify 'dtype=object' when creating the ndarray\n"
     ]
    },
    {
     "name": "stdout",
     "output_type": "stream",
     "text": [
      "\n",
      "======== Epoch 28 / 43 ========\n",
      "Training...\n",
      "\n",
      "  Average training loss: 0.050781\n",
      "\n",
      "Running Validation...\n",
      "  Metric: 0.107932\n",
      "  Validation Loss: 0.016399\n",
      "\n",
      "Training complete!\n",
      "Starting a new fold ...\n"
     ]
    },
    {
     "name": "stderr",
     "output_type": "stream",
     "text": [
      "Some weights of the model checkpoint at bert-base-uncased were not used when initializing BertForSharedTaskMultitask: ['cls.predictions.bias', 'cls.predictions.transform.dense.weight', 'cls.predictions.transform.dense.bias', 'cls.predictions.decoder.weight', 'cls.seq_relationship.weight', 'cls.seq_relationship.bias', 'cls.predictions.transform.LayerNorm.weight', 'cls.predictions.transform.LayerNorm.bias']\n",
      "- This IS expected if you are initializing BertForSharedTaskMultitask from the checkpoint of a model trained on another task or with another architecture (e.g. initializing a BertForSequenceClassification model from a BertForPretraining model).\n",
      "- This IS NOT expected if you are initializing BertForSharedTaskMultitask from the checkpoint of a model that you expect to be exactly identical (initializing a BertForSequenceClassification model from a BertForSequenceClassification model).\n",
      "Some weights of BertForSharedTaskMultitask were not initialized from the model checkpoint at bert-base-uncased and are newly initialized: ['classifier_first.weight', 'classifier_first.bias', 'classifier_second.weight', 'classifier_second.bias']\n",
      "You should probably TRAIN this model on a down-stream task to be able to use it for predictions and inference.\n",
      "/home/krivas/anaconda3/lib/python3.7/site-packages/ipykernel_launcher.py:69: VisibleDeprecationWarning: Creating an ndarray from ragged nested sequences (which is a list-or-tuple of lists-or-tuples-or ndarrays with different lengths or shapes) is deprecated. If you meant to do this, you must specify 'dtype=object' when creating the ndarray\n"
     ]
    },
    {
     "name": "stdout",
     "output_type": "stream",
     "text": [
      "\n",
      "======== Epoch 1 / 43 ========\n",
      "Training...\n",
      "\n",
      "  Average training loss: 0.352590\n",
      "\n",
      "Running Validation...\n",
      "  Metric: 0.274812\n",
      "  Validation Loss: 0.088317\n"
     ]
    },
    {
     "name": "stderr",
     "output_type": "stream",
     "text": [
      "/home/krivas/anaconda3/lib/python3.7/site-packages/ipykernel_launcher.py:69: VisibleDeprecationWarning: Creating an ndarray from ragged nested sequences (which is a list-or-tuple of lists-or-tuples-or ndarrays with different lengths or shapes) is deprecated. If you meant to do this, you must specify 'dtype=object' when creating the ndarray\n"
     ]
    },
    {
     "name": "stdout",
     "output_type": "stream",
     "text": [
      "\n",
      "======== Epoch 2 / 43 ========\n",
      "Training...\n",
      "\n",
      "  Average training loss: 0.221215\n",
      "\n",
      "Running Validation...\n",
      "  Metric: 0.286018\n",
      "  Validation Loss: 0.094249\n"
     ]
    },
    {
     "name": "stderr",
     "output_type": "stream",
     "text": [
      "/home/krivas/anaconda3/lib/python3.7/site-packages/ipykernel_launcher.py:69: VisibleDeprecationWarning: Creating an ndarray from ragged nested sequences (which is a list-or-tuple of lists-or-tuples-or ndarrays with different lengths or shapes) is deprecated. If you meant to do this, you must specify 'dtype=object' when creating the ndarray\n"
     ]
    },
    {
     "name": "stdout",
     "output_type": "stream",
     "text": [
      "\n",
      "======== Epoch 3 / 43 ========\n",
      "Training...\n",
      "\n",
      "  Average training loss: 0.206186\n",
      "\n",
      "Running Validation...\n",
      "  Metric: 0.265499\n",
      "  Validation Loss: 0.082092\n"
     ]
    },
    {
     "name": "stderr",
     "output_type": "stream",
     "text": [
      "/home/krivas/anaconda3/lib/python3.7/site-packages/ipykernel_launcher.py:69: VisibleDeprecationWarning: Creating an ndarray from ragged nested sequences (which is a list-or-tuple of lists-or-tuples-or ndarrays with different lengths or shapes) is deprecated. If you meant to do this, you must specify 'dtype=object' when creating the ndarray\n"
     ]
    },
    {
     "name": "stdout",
     "output_type": "stream",
     "text": [
      "\n",
      "======== Epoch 4 / 43 ========\n",
      "Training...\n",
      "\n",
      "  Average training loss: 0.192815\n",
      "\n",
      "Running Validation...\n",
      "  Metric: 0.248711\n",
      "  Validation Loss: 0.072655\n"
     ]
    },
    {
     "name": "stderr",
     "output_type": "stream",
     "text": [
      "/home/krivas/anaconda3/lib/python3.7/site-packages/ipykernel_launcher.py:69: VisibleDeprecationWarning: Creating an ndarray from ragged nested sequences (which is a list-or-tuple of lists-or-tuples-or ndarrays with different lengths or shapes) is deprecated. If you meant to do this, you must specify 'dtype=object' when creating the ndarray\n"
     ]
    },
    {
     "name": "stdout",
     "output_type": "stream",
     "text": [
      "\n",
      "======== Epoch 5 / 43 ========\n",
      "Training...\n",
      "\n",
      "  Average training loss: 0.180520\n",
      "\n",
      "Running Validation...\n",
      "  Metric: 0.220295\n",
      "  Validation Loss: 0.057906\n"
     ]
    },
    {
     "name": "stderr",
     "output_type": "stream",
     "text": [
      "/home/krivas/anaconda3/lib/python3.7/site-packages/ipykernel_launcher.py:69: VisibleDeprecationWarning: Creating an ndarray from ragged nested sequences (which is a list-or-tuple of lists-or-tuples-or ndarrays with different lengths or shapes) is deprecated. If you meant to do this, you must specify 'dtype=object' when creating the ndarray\n"
     ]
    },
    {
     "name": "stdout",
     "output_type": "stream",
     "text": [
      "\n",
      "======== Epoch 6 / 43 ========\n",
      "Training...\n",
      "\n",
      "  Average training loss: 0.171177\n",
      "\n",
      "Running Validation...\n",
      "  Metric: 0.220297\n",
      "  Validation Loss: 0.057544\n"
     ]
    },
    {
     "name": "stderr",
     "output_type": "stream",
     "text": [
      "/home/krivas/anaconda3/lib/python3.7/site-packages/ipykernel_launcher.py:69: VisibleDeprecationWarning: Creating an ndarray from ragged nested sequences (which is a list-or-tuple of lists-or-tuples-or ndarrays with different lengths or shapes) is deprecated. If you meant to do this, you must specify 'dtype=object' when creating the ndarray\n"
     ]
    },
    {
     "name": "stdout",
     "output_type": "stream",
     "text": [
      "\n",
      "======== Epoch 7 / 43 ========\n",
      "Training...\n",
      "\n",
      "  Average training loss: 0.163313\n",
      "\n",
      "Running Validation...\n",
      "  Metric: 0.212348\n",
      "  Validation Loss: 0.053517\n"
     ]
    },
    {
     "name": "stderr",
     "output_type": "stream",
     "text": [
      "/home/krivas/anaconda3/lib/python3.7/site-packages/ipykernel_launcher.py:69: VisibleDeprecationWarning: Creating an ndarray from ragged nested sequences (which is a list-or-tuple of lists-or-tuples-or ndarrays with different lengths or shapes) is deprecated. If you meant to do this, you must specify 'dtype=object' when creating the ndarray\n"
     ]
    },
    {
     "name": "stdout",
     "output_type": "stream",
     "text": [
      "\n",
      "======== Epoch 8 / 43 ========\n",
      "Training...\n",
      "\n",
      "  Average training loss: 0.156117\n",
      "\n",
      "Running Validation...\n",
      "  Metric: 0.189571\n",
      "  Validation Loss: 0.043561\n"
     ]
    },
    {
     "name": "stderr",
     "output_type": "stream",
     "text": [
      "/home/krivas/anaconda3/lib/python3.7/site-packages/ipykernel_launcher.py:69: VisibleDeprecationWarning: Creating an ndarray from ragged nested sequences (which is a list-or-tuple of lists-or-tuples-or ndarrays with different lengths or shapes) is deprecated. If you meant to do this, you must specify 'dtype=object' when creating the ndarray\n"
     ]
    },
    {
     "name": "stdout",
     "output_type": "stream",
     "text": [
      "\n",
      "======== Epoch 9 / 43 ========\n",
      "Training...\n",
      "\n",
      "  Average training loss: 0.148911\n",
      "\n",
      "Running Validation...\n",
      "  Metric: 0.171640\n",
      "  Validation Loss: 0.036591\n"
     ]
    },
    {
     "name": "stderr",
     "output_type": "stream",
     "text": [
      "/home/krivas/anaconda3/lib/python3.7/site-packages/ipykernel_launcher.py:69: VisibleDeprecationWarning: Creating an ndarray from ragged nested sequences (which is a list-or-tuple of lists-or-tuples-or ndarrays with different lengths or shapes) is deprecated. If you meant to do this, you must specify 'dtype=object' when creating the ndarray\n"
     ]
    },
    {
     "name": "stdout",
     "output_type": "stream",
     "text": [
      "\n",
      "======== Epoch 10 / 43 ========\n",
      "Training...\n",
      "\n",
      "  Average training loss: 0.141605\n",
      "\n",
      "Running Validation...\n",
      "  Metric: 0.171315\n",
      "  Validation Loss: 0.036335\n"
     ]
    },
    {
     "name": "stderr",
     "output_type": "stream",
     "text": [
      "/home/krivas/anaconda3/lib/python3.7/site-packages/ipykernel_launcher.py:69: VisibleDeprecationWarning: Creating an ndarray from ragged nested sequences (which is a list-or-tuple of lists-or-tuples-or ndarrays with different lengths or shapes) is deprecated. If you meant to do this, you must specify 'dtype=object' when creating the ndarray\n"
     ]
    },
    {
     "name": "stdout",
     "output_type": "stream",
     "text": [
      "\n",
      "======== Epoch 11 / 43 ========\n",
      "Training...\n",
      "\n",
      "  Average training loss: 0.135412\n",
      "\n",
      "Running Validation...\n",
      "  Metric: 0.162764\n",
      "  Validation Loss: 0.033327\n"
     ]
    },
    {
     "name": "stderr",
     "output_type": "stream",
     "text": [
      "/home/krivas/anaconda3/lib/python3.7/site-packages/ipykernel_launcher.py:69: VisibleDeprecationWarning: Creating an ndarray from ragged nested sequences (which is a list-or-tuple of lists-or-tuples-or ndarrays with different lengths or shapes) is deprecated. If you meant to do this, you must specify 'dtype=object' when creating the ndarray\n"
     ]
    },
    {
     "name": "stdout",
     "output_type": "stream",
     "text": [
      "\n",
      "======== Epoch 12 / 43 ========\n",
      "Training...\n",
      "\n",
      "  Average training loss: 0.127207\n",
      "\n",
      "Running Validation...\n",
      "  Metric: 0.159799\n",
      "  Validation Loss: 0.032422\n"
     ]
    },
    {
     "name": "stderr",
     "output_type": "stream",
     "text": [
      "/home/krivas/anaconda3/lib/python3.7/site-packages/ipykernel_launcher.py:69: VisibleDeprecationWarning: Creating an ndarray from ragged nested sequences (which is a list-or-tuple of lists-or-tuples-or ndarrays with different lengths or shapes) is deprecated. If you meant to do this, you must specify 'dtype=object' when creating the ndarray\n"
     ]
    },
    {
     "name": "stdout",
     "output_type": "stream",
     "text": [
      "\n",
      "======== Epoch 13 / 43 ========\n",
      "Training...\n",
      "\n",
      "  Average training loss: 0.120262\n",
      "\n",
      "Running Validation...\n",
      "  Metric: 0.153090\n",
      "  Validation Loss: 0.030104\n"
     ]
    },
    {
     "name": "stderr",
     "output_type": "stream",
     "text": [
      "/home/krivas/anaconda3/lib/python3.7/site-packages/ipykernel_launcher.py:69: VisibleDeprecationWarning: Creating an ndarray from ragged nested sequences (which is a list-or-tuple of lists-or-tuples-or ndarrays with different lengths or shapes) is deprecated. If you meant to do this, you must specify 'dtype=object' when creating the ndarray\n"
     ]
    },
    {
     "name": "stdout",
     "output_type": "stream",
     "text": [
      "\n",
      "======== Epoch 14 / 43 ========\n",
      "Training...\n",
      "\n",
      "  Average training loss: 0.113273\n",
      "\n",
      "Running Validation...\n",
      "  Metric: 0.153991\n",
      "  Validation Loss: 0.030605\n"
     ]
    },
    {
     "name": "stderr",
     "output_type": "stream",
     "text": [
      "/home/krivas/anaconda3/lib/python3.7/site-packages/ipykernel_launcher.py:69: VisibleDeprecationWarning: Creating an ndarray from ragged nested sequences (which is a list-or-tuple of lists-or-tuples-or ndarrays with different lengths or shapes) is deprecated. If you meant to do this, you must specify 'dtype=object' when creating the ndarray\n"
     ]
    },
    {
     "name": "stdout",
     "output_type": "stream",
     "text": [
      "\n",
      "======== Epoch 15 / 43 ========\n",
      "Training...\n",
      "\n",
      "  Average training loss: 0.106326\n",
      "\n",
      "Running Validation...\n",
      "  Metric: 0.149440\n",
      "  Validation Loss: 0.028934\n"
     ]
    },
    {
     "name": "stderr",
     "output_type": "stream",
     "text": [
      "/home/krivas/anaconda3/lib/python3.7/site-packages/ipykernel_launcher.py:69: VisibleDeprecationWarning: Creating an ndarray from ragged nested sequences (which is a list-or-tuple of lists-or-tuples-or ndarrays with different lengths or shapes) is deprecated. If you meant to do this, you must specify 'dtype=object' when creating the ndarray\n"
     ]
    },
    {
     "name": "stdout",
     "output_type": "stream",
     "text": [
      "\n",
      "======== Epoch 16 / 43 ========\n",
      "Training...\n",
      "\n",
      "  Average training loss: 0.099236\n",
      "\n",
      "Running Validation...\n",
      "  Metric: 0.143805\n",
      "  Validation Loss: 0.027208\n"
     ]
    },
    {
     "name": "stderr",
     "output_type": "stream",
     "text": [
      "/home/krivas/anaconda3/lib/python3.7/site-packages/ipykernel_launcher.py:69: VisibleDeprecationWarning: Creating an ndarray from ragged nested sequences (which is a list-or-tuple of lists-or-tuples-or ndarrays with different lengths or shapes) is deprecated. If you meant to do this, you must specify 'dtype=object' when creating the ndarray\n"
     ]
    },
    {
     "name": "stdout",
     "output_type": "stream",
     "text": [
      "\n",
      "======== Epoch 17 / 43 ========\n",
      "Training...\n",
      "\n",
      "  Average training loss: 0.093353\n",
      "\n",
      "Running Validation...\n",
      "  Metric: 0.144156\n",
      "  Validation Loss: 0.027439\n"
     ]
    },
    {
     "name": "stderr",
     "output_type": "stream",
     "text": [
      "/home/krivas/anaconda3/lib/python3.7/site-packages/ipykernel_launcher.py:69: VisibleDeprecationWarning: Creating an ndarray from ragged nested sequences (which is a list-or-tuple of lists-or-tuples-or ndarrays with different lengths or shapes) is deprecated. If you meant to do this, you must specify 'dtype=object' when creating the ndarray\n"
     ]
    },
    {
     "name": "stdout",
     "output_type": "stream",
     "text": [
      "\n",
      "======== Epoch 18 / 43 ========\n",
      "Training...\n",
      "\n",
      "  Average training loss: 0.087732\n",
      "\n",
      "Running Validation...\n",
      "  Metric: 0.139262\n",
      "  Validation Loss: 0.025739\n"
     ]
    },
    {
     "name": "stderr",
     "output_type": "stream",
     "text": [
      "/home/krivas/anaconda3/lib/python3.7/site-packages/ipykernel_launcher.py:69: VisibleDeprecationWarning: Creating an ndarray from ragged nested sequences (which is a list-or-tuple of lists-or-tuples-or ndarrays with different lengths or shapes) is deprecated. If you meant to do this, you must specify 'dtype=object' when creating the ndarray\n"
     ]
    },
    {
     "name": "stdout",
     "output_type": "stream",
     "text": [
      "\n",
      "======== Epoch 19 / 43 ========\n",
      "Training...\n",
      "\n",
      "  Average training loss: 0.082932\n",
      "\n",
      "Running Validation...\n",
      "  Metric: 0.138967\n",
      "  Validation Loss: 0.025727\n"
     ]
    },
    {
     "name": "stderr",
     "output_type": "stream",
     "text": [
      "/home/krivas/anaconda3/lib/python3.7/site-packages/ipykernel_launcher.py:69: VisibleDeprecationWarning: Creating an ndarray from ragged nested sequences (which is a list-or-tuple of lists-or-tuples-or ndarrays with different lengths or shapes) is deprecated. If you meant to do this, you must specify 'dtype=object' when creating the ndarray\n"
     ]
    },
    {
     "name": "stdout",
     "output_type": "stream",
     "text": [
      "\n",
      "======== Epoch 20 / 43 ========\n",
      "Training...\n",
      "\n",
      "  Average training loss: 0.077882\n",
      "\n",
      "Running Validation...\n",
      "  Metric: 0.126088\n",
      "  Validation Loss: 0.021831\n"
     ]
    },
    {
     "name": "stderr",
     "output_type": "stream",
     "text": [
      "/home/krivas/anaconda3/lib/python3.7/site-packages/ipykernel_launcher.py:69: VisibleDeprecationWarning: Creating an ndarray from ragged nested sequences (which is a list-or-tuple of lists-or-tuples-or ndarrays with different lengths or shapes) is deprecated. If you meant to do this, you must specify 'dtype=object' when creating the ndarray\n"
     ]
    },
    {
     "name": "stdout",
     "output_type": "stream",
     "text": [
      "\n",
      "======== Epoch 21 / 43 ========\n",
      "Training...\n",
      "\n",
      "  Average training loss: 0.073092\n",
      "\n",
      "Running Validation...\n",
      "  Metric: 0.124168\n",
      "  Validation Loss: 0.021099\n"
     ]
    },
    {
     "name": "stderr",
     "output_type": "stream",
     "text": [
      "/home/krivas/anaconda3/lib/python3.7/site-packages/ipykernel_launcher.py:69: VisibleDeprecationWarning: Creating an ndarray from ragged nested sequences (which is a list-or-tuple of lists-or-tuples-or ndarrays with different lengths or shapes) is deprecated. If you meant to do this, you must specify 'dtype=object' when creating the ndarray\n"
     ]
    },
    {
     "name": "stdout",
     "output_type": "stream",
     "text": [
      "\n",
      "======== Epoch 22 / 43 ========\n",
      "Training...\n",
      "\n",
      "  Average training loss: 0.068123\n",
      "\n",
      "Running Validation...\n",
      "  Metric: 0.117492\n",
      "  Validation Loss: 0.019196\n"
     ]
    },
    {
     "name": "stderr",
     "output_type": "stream",
     "text": [
      "/home/krivas/anaconda3/lib/python3.7/site-packages/ipykernel_launcher.py:69: VisibleDeprecationWarning: Creating an ndarray from ragged nested sequences (which is a list-or-tuple of lists-or-tuples-or ndarrays with different lengths or shapes) is deprecated. If you meant to do this, you must specify 'dtype=object' when creating the ndarray\n"
     ]
    },
    {
     "name": "stdout",
     "output_type": "stream",
     "text": [
      "\n",
      "======== Epoch 23 / 43 ========\n",
      "Training...\n",
      "\n",
      "  Average training loss: 0.065729\n",
      "\n",
      "Running Validation...\n",
      "  Metric: 0.105926\n",
      "  Validation Loss: 0.016233\n"
     ]
    },
    {
     "name": "stderr",
     "output_type": "stream",
     "text": [
      "/home/krivas/anaconda3/lib/python3.7/site-packages/ipykernel_launcher.py:69: VisibleDeprecationWarning: Creating an ndarray from ragged nested sequences (which is a list-or-tuple of lists-or-tuples-or ndarrays with different lengths or shapes) is deprecated. If you meant to do this, you must specify 'dtype=object' when creating the ndarray\n"
     ]
    },
    {
     "name": "stdout",
     "output_type": "stream",
     "text": [
      "\n",
      "======== Epoch 24 / 43 ========\n",
      "Training...\n",
      "\n",
      "  Average training loss: 0.061539\n",
      "\n",
      "Running Validation...\n",
      "  Metric: 0.102010\n",
      "  Validation Loss: 0.015332\n"
     ]
    },
    {
     "name": "stderr",
     "output_type": "stream",
     "text": [
      "/home/krivas/anaconda3/lib/python3.7/site-packages/ipykernel_launcher.py:69: VisibleDeprecationWarning: Creating an ndarray from ragged nested sequences (which is a list-or-tuple of lists-or-tuples-or ndarrays with different lengths or shapes) is deprecated. If you meant to do this, you must specify 'dtype=object' when creating the ndarray\n"
     ]
    },
    {
     "name": "stdout",
     "output_type": "stream",
     "text": [
      "\n",
      "======== Epoch 25 / 43 ========\n",
      "Training...\n",
      "\n",
      "  Average training loss: 0.058372\n",
      "\n",
      "Running Validation...\n",
      "  Metric: 0.103333\n",
      "  Validation Loss: 0.015627\n"
     ]
    },
    {
     "name": "stderr",
     "output_type": "stream",
     "text": [
      "/home/krivas/anaconda3/lib/python3.7/site-packages/ipykernel_launcher.py:69: VisibleDeprecationWarning: Creating an ndarray from ragged nested sequences (which is a list-or-tuple of lists-or-tuples-or ndarrays with different lengths or shapes) is deprecated. If you meant to do this, you must specify 'dtype=object' when creating the ndarray\n"
     ]
    },
    {
     "name": "stdout",
     "output_type": "stream",
     "text": [
      "\n",
      "======== Epoch 26 / 43 ========\n",
      "Training...\n",
      "\n",
      "  Average training loss: 0.054635\n",
      "\n",
      "Running Validation...\n",
      "  Metric: 0.097041\n",
      "  Validation Loss: 0.014143\n"
     ]
    },
    {
     "name": "stderr",
     "output_type": "stream",
     "text": [
      "/home/krivas/anaconda3/lib/python3.7/site-packages/ipykernel_launcher.py:69: VisibleDeprecationWarning: Creating an ndarray from ragged nested sequences (which is a list-or-tuple of lists-or-tuples-or ndarrays with different lengths or shapes) is deprecated. If you meant to do this, you must specify 'dtype=object' when creating the ndarray\n"
     ]
    },
    {
     "name": "stdout",
     "output_type": "stream",
     "text": [
      "\n",
      "======== Epoch 27 / 43 ========\n",
      "Training...\n",
      "\n",
      "  Average training loss: 0.051056\n",
      "\n",
      "Running Validation...\n",
      "  Metric: 0.094443\n",
      "  Validation Loss: 0.013397\n"
     ]
    },
    {
     "name": "stderr",
     "output_type": "stream",
     "text": [
      "/home/krivas/anaconda3/lib/python3.7/site-packages/ipykernel_launcher.py:69: VisibleDeprecationWarning: Creating an ndarray from ragged nested sequences (which is a list-or-tuple of lists-or-tuples-or ndarrays with different lengths or shapes) is deprecated. If you meant to do this, you must specify 'dtype=object' when creating the ndarray\n"
     ]
    },
    {
     "name": "stdout",
     "output_type": "stream",
     "text": [
      "\n",
      "======== Epoch 28 / 43 ========\n",
      "Training...\n",
      "\n",
      "  Average training loss: 0.048574\n",
      "\n",
      "Running Validation...\n",
      "  Metric: 0.093306\n",
      "  Validation Loss: 0.013064\n"
     ]
    },
    {
     "name": "stderr",
     "output_type": "stream",
     "text": [
      "/home/krivas/anaconda3/lib/python3.7/site-packages/ipykernel_launcher.py:69: VisibleDeprecationWarning: Creating an ndarray from ragged nested sequences (which is a list-or-tuple of lists-or-tuples-or ndarrays with different lengths or shapes) is deprecated. If you meant to do this, you must specify 'dtype=object' when creating the ndarray\n"
     ]
    },
    {
     "name": "stdout",
     "output_type": "stream",
     "text": [
      "\n",
      "======== Epoch 29 / 43 ========\n",
      "Training...\n",
      "\n",
      "  Average training loss: 0.045749\n",
      "\n",
      "Running Validation...\n",
      "  Metric: 0.089843\n",
      "  Validation Loss: 0.012071\n"
     ]
    },
    {
     "name": "stderr",
     "output_type": "stream",
     "text": [
      "/home/krivas/anaconda3/lib/python3.7/site-packages/ipykernel_launcher.py:69: VisibleDeprecationWarning: Creating an ndarray from ragged nested sequences (which is a list-or-tuple of lists-or-tuples-or ndarrays with different lengths or shapes) is deprecated. If you meant to do this, you must specify 'dtype=object' when creating the ndarray\n"
     ]
    },
    {
     "name": "stdout",
     "output_type": "stream",
     "text": [
      "\n",
      "======== Epoch 30 / 43 ========\n",
      "Training...\n",
      "\n",
      "  Average training loss: 0.042546\n",
      "\n",
      "Running Validation...\n",
      "  Metric: 0.085243\n",
      "  Validation Loss: 0.011115\n"
     ]
    },
    {
     "name": "stderr",
     "output_type": "stream",
     "text": [
      "/home/krivas/anaconda3/lib/python3.7/site-packages/ipykernel_launcher.py:69: VisibleDeprecationWarning: Creating an ndarray from ragged nested sequences (which is a list-or-tuple of lists-or-tuples-or ndarrays with different lengths or shapes) is deprecated. If you meant to do this, you must specify 'dtype=object' when creating the ndarray\n"
     ]
    },
    {
     "name": "stdout",
     "output_type": "stream",
     "text": [
      "\n",
      "======== Epoch 31 / 43 ========\n",
      "Training...\n",
      "\n",
      "  Average training loss: 0.040659\n",
      "\n",
      "Running Validation...\n",
      "  Metric: 0.084399\n",
      "  Validation Loss: 0.010815\n"
     ]
    },
    {
     "name": "stderr",
     "output_type": "stream",
     "text": [
      "/home/krivas/anaconda3/lib/python3.7/site-packages/ipykernel_launcher.py:69: VisibleDeprecationWarning: Creating an ndarray from ragged nested sequences (which is a list-or-tuple of lists-or-tuples-or ndarrays with different lengths or shapes) is deprecated. If you meant to do this, you must specify 'dtype=object' when creating the ndarray\n"
     ]
    },
    {
     "name": "stdout",
     "output_type": "stream",
     "text": [
      "\n",
      "======== Epoch 32 / 43 ========\n",
      "Training...\n",
      "\n",
      "  Average training loss: 0.038603\n",
      "\n",
      "Running Validation...\n",
      "  Metric: 0.081375\n",
      "  Validation Loss: 0.010145\n"
     ]
    },
    {
     "name": "stderr",
     "output_type": "stream",
     "text": [
      "/home/krivas/anaconda3/lib/python3.7/site-packages/ipykernel_launcher.py:69: VisibleDeprecationWarning: Creating an ndarray from ragged nested sequences (which is a list-or-tuple of lists-or-tuples-or ndarrays with different lengths or shapes) is deprecated. If you meant to do this, you must specify 'dtype=object' when creating the ndarray\n"
     ]
    },
    {
     "name": "stdout",
     "output_type": "stream",
     "text": [
      "\n",
      "======== Epoch 33 / 43 ========\n",
      "Training...\n",
      "\n",
      "  Average training loss: 0.035757\n",
      "\n",
      "Running Validation...\n",
      "  Metric: 0.078984\n",
      "  Validation Loss: 0.009647\n"
     ]
    },
    {
     "name": "stderr",
     "output_type": "stream",
     "text": [
      "/home/krivas/anaconda3/lib/python3.7/site-packages/ipykernel_launcher.py:69: VisibleDeprecationWarning: Creating an ndarray from ragged nested sequences (which is a list-or-tuple of lists-or-tuples-or ndarrays with different lengths or shapes) is deprecated. If you meant to do this, you must specify 'dtype=object' when creating the ndarray\n"
     ]
    },
    {
     "name": "stdout",
     "output_type": "stream",
     "text": [
      "\n",
      "======== Epoch 34 / 43 ========\n",
      "Training...\n",
      "\n",
      "  Average training loss: 0.034062\n",
      "\n",
      "Running Validation...\n",
      "  Metric: 0.078438\n",
      "  Validation Loss: 0.009537\n"
     ]
    },
    {
     "name": "stderr",
     "output_type": "stream",
     "text": [
      "/home/krivas/anaconda3/lib/python3.7/site-packages/ipykernel_launcher.py:69: VisibleDeprecationWarning: Creating an ndarray from ragged nested sequences (which is a list-or-tuple of lists-or-tuples-or ndarrays with different lengths or shapes) is deprecated. If you meant to do this, you must specify 'dtype=object' when creating the ndarray\n"
     ]
    },
    {
     "name": "stdout",
     "output_type": "stream",
     "text": [
      "\n",
      "======== Epoch 35 / 43 ========\n",
      "Training...\n",
      "\n",
      "  Average training loss: 0.031956\n",
      "\n",
      "Running Validation...\n",
      "  Metric: 0.079681\n",
      "  Validation Loss: 0.009845\n"
     ]
    },
    {
     "name": "stderr",
     "output_type": "stream",
     "text": [
      "/home/krivas/anaconda3/lib/python3.7/site-packages/ipykernel_launcher.py:69: VisibleDeprecationWarning: Creating an ndarray from ragged nested sequences (which is a list-or-tuple of lists-or-tuples-or ndarrays with different lengths or shapes) is deprecated. If you meant to do this, you must specify 'dtype=object' when creating the ndarray\n"
     ]
    },
    {
     "name": "stdout",
     "output_type": "stream",
     "text": [
      "\n",
      "======== Epoch 36 / 43 ========\n",
      "Training...\n",
      "\n",
      "  Average training loss: 0.029589\n",
      "\n",
      "Running Validation...\n",
      "  Metric: 0.077576\n",
      "  Validation Loss: 0.009228\n"
     ]
    },
    {
     "name": "stderr",
     "output_type": "stream",
     "text": [
      "/home/krivas/anaconda3/lib/python3.7/site-packages/ipykernel_launcher.py:69: VisibleDeprecationWarning: Creating an ndarray from ragged nested sequences (which is a list-or-tuple of lists-or-tuples-or ndarrays with different lengths or shapes) is deprecated. If you meant to do this, you must specify 'dtype=object' when creating the ndarray\n"
     ]
    },
    {
     "name": "stdout",
     "output_type": "stream",
     "text": [
      "\n",
      "======== Epoch 37 / 43 ========\n",
      "Training...\n",
      "\n",
      "  Average training loss: 0.028555\n",
      "\n",
      "Running Validation...\n",
      "  Metric: 0.079603\n",
      "  Validation Loss: 0.009680\n",
      "\n",
      "Training complete!\n",
      "Starting a new fold ...\n"
     ]
    },
    {
     "name": "stderr",
     "output_type": "stream",
     "text": [
      "Some weights of the model checkpoint at bert-base-uncased were not used when initializing BertForSharedTaskMultitask: ['cls.predictions.bias', 'cls.predictions.transform.dense.weight', 'cls.predictions.transform.dense.bias', 'cls.predictions.decoder.weight', 'cls.seq_relationship.weight', 'cls.seq_relationship.bias', 'cls.predictions.transform.LayerNorm.weight', 'cls.predictions.transform.LayerNorm.bias']\n",
      "- This IS expected if you are initializing BertForSharedTaskMultitask from the checkpoint of a model trained on another task or with another architecture (e.g. initializing a BertForSequenceClassification model from a BertForPretraining model).\n",
      "- This IS NOT expected if you are initializing BertForSharedTaskMultitask from the checkpoint of a model that you expect to be exactly identical (initializing a BertForSequenceClassification model from a BertForSequenceClassification model).\n",
      "Some weights of BertForSharedTaskMultitask were not initialized from the model checkpoint at bert-base-uncased and are newly initialized: ['classifier_first.weight', 'classifier_first.bias', 'classifier_second.weight', 'classifier_second.bias']\n",
      "You should probably TRAIN this model on a down-stream task to be able to use it for predictions and inference.\n",
      "/home/krivas/anaconda3/lib/python3.7/site-packages/ipykernel_launcher.py:69: VisibleDeprecationWarning: Creating an ndarray from ragged nested sequences (which is a list-or-tuple of lists-or-tuples-or ndarrays with different lengths or shapes) is deprecated. If you meant to do this, you must specify 'dtype=object' when creating the ndarray\n"
     ]
    },
    {
     "name": "stdout",
     "output_type": "stream",
     "text": [
      "\n",
      "======== Epoch 1 / 43 ========\n",
      "Training...\n",
      "\n",
      "  Average training loss: 0.351171\n",
      "\n",
      "Running Validation...\n",
      "  Metric: 0.324515\n",
      "  Validation Loss: 0.119733\n"
     ]
    },
    {
     "name": "stderr",
     "output_type": "stream",
     "text": [
      "/home/krivas/anaconda3/lib/python3.7/site-packages/ipykernel_launcher.py:69: VisibleDeprecationWarning: Creating an ndarray from ragged nested sequences (which is a list-or-tuple of lists-or-tuples-or ndarrays with different lengths or shapes) is deprecated. If you meant to do this, you must specify 'dtype=object' when creating the ndarray\n"
     ]
    },
    {
     "name": "stdout",
     "output_type": "stream",
     "text": [
      "\n",
      "======== Epoch 2 / 43 ========\n",
      "Training...\n",
      "\n",
      "  Average training loss: 0.220581\n",
      "\n",
      "Running Validation...\n",
      "  Metric: 0.254385\n",
      "  Validation Loss: 0.076869\n"
     ]
    },
    {
     "name": "stderr",
     "output_type": "stream",
     "text": [
      "/home/krivas/anaconda3/lib/python3.7/site-packages/ipykernel_launcher.py:69: VisibleDeprecationWarning: Creating an ndarray from ragged nested sequences (which is a list-or-tuple of lists-or-tuples-or ndarrays with different lengths or shapes) is deprecated. If you meant to do this, you must specify 'dtype=object' when creating the ndarray\n"
     ]
    },
    {
     "name": "stdout",
     "output_type": "stream",
     "text": [
      "\n",
      "======== Epoch 3 / 43 ========\n",
      "Training...\n",
      "\n",
      "  Average training loss: 0.202252\n",
      "\n",
      "Running Validation...\n",
      "  Metric: 0.240062\n",
      "  Validation Loss: 0.068768\n"
     ]
    },
    {
     "name": "stderr",
     "output_type": "stream",
     "text": [
      "/home/krivas/anaconda3/lib/python3.7/site-packages/ipykernel_launcher.py:69: VisibleDeprecationWarning: Creating an ndarray from ragged nested sequences (which is a list-or-tuple of lists-or-tuples-or ndarrays with different lengths or shapes) is deprecated. If you meant to do this, you must specify 'dtype=object' when creating the ndarray\n"
     ]
    },
    {
     "name": "stdout",
     "output_type": "stream",
     "text": [
      "\n",
      "======== Epoch 4 / 43 ========\n",
      "Training...\n",
      "\n",
      "  Average training loss: 0.189337\n",
      "\n",
      "Running Validation...\n",
      "  Metric: 0.221078\n",
      "  Validation Loss: 0.059118\n"
     ]
    },
    {
     "name": "stderr",
     "output_type": "stream",
     "text": [
      "/home/krivas/anaconda3/lib/python3.7/site-packages/ipykernel_launcher.py:69: VisibleDeprecationWarning: Creating an ndarray from ragged nested sequences (which is a list-or-tuple of lists-or-tuples-or ndarrays with different lengths or shapes) is deprecated. If you meant to do this, you must specify 'dtype=object' when creating the ndarray\n"
     ]
    },
    {
     "name": "stdout",
     "output_type": "stream",
     "text": [
      "\n",
      "======== Epoch 5 / 43 ========\n",
      "Training...\n",
      "\n",
      "  Average training loss: 0.177012\n",
      "\n",
      "Running Validation...\n",
      "  Metric: 0.206645\n",
      "  Validation Loss: 0.051899\n"
     ]
    },
    {
     "name": "stderr",
     "output_type": "stream",
     "text": [
      "/home/krivas/anaconda3/lib/python3.7/site-packages/ipykernel_launcher.py:69: VisibleDeprecationWarning: Creating an ndarray from ragged nested sequences (which is a list-or-tuple of lists-or-tuples-or ndarrays with different lengths or shapes) is deprecated. If you meant to do this, you must specify 'dtype=object' when creating the ndarray\n"
     ]
    },
    {
     "name": "stdout",
     "output_type": "stream",
     "text": [
      "\n",
      "======== Epoch 6 / 43 ========\n",
      "Training...\n",
      "\n",
      "  Average training loss: 0.167857\n",
      "\n",
      "Running Validation...\n",
      "  Metric: 0.201078\n",
      "  Validation Loss: 0.048871\n"
     ]
    },
    {
     "name": "stderr",
     "output_type": "stream",
     "text": [
      "/home/krivas/anaconda3/lib/python3.7/site-packages/ipykernel_launcher.py:69: VisibleDeprecationWarning: Creating an ndarray from ragged nested sequences (which is a list-or-tuple of lists-or-tuples-or ndarrays with different lengths or shapes) is deprecated. If you meant to do this, you must specify 'dtype=object' when creating the ndarray\n"
     ]
    },
    {
     "name": "stdout",
     "output_type": "stream",
     "text": [
      "\n",
      "======== Epoch 7 / 43 ========\n",
      "Training...\n",
      "\n",
      "  Average training loss: 0.159983\n",
      "\n",
      "Running Validation...\n",
      "  Metric: 0.185851\n",
      "  Validation Loss: 0.042326\n"
     ]
    },
    {
     "name": "stderr",
     "output_type": "stream",
     "text": [
      "/home/krivas/anaconda3/lib/python3.7/site-packages/ipykernel_launcher.py:69: VisibleDeprecationWarning: Creating an ndarray from ragged nested sequences (which is a list-or-tuple of lists-or-tuples-or ndarrays with different lengths or shapes) is deprecated. If you meant to do this, you must specify 'dtype=object' when creating the ndarray\n"
     ]
    },
    {
     "name": "stdout",
     "output_type": "stream",
     "text": [
      "\n",
      "======== Epoch 8 / 43 ========\n",
      "Training...\n",
      "\n",
      "  Average training loss: 0.152375\n",
      "\n",
      "Running Validation...\n",
      "  Metric: 0.183329\n",
      "  Validation Loss: 0.041275\n"
     ]
    },
    {
     "name": "stderr",
     "output_type": "stream",
     "text": [
      "/home/krivas/anaconda3/lib/python3.7/site-packages/ipykernel_launcher.py:69: VisibleDeprecationWarning: Creating an ndarray from ragged nested sequences (which is a list-or-tuple of lists-or-tuples-or ndarrays with different lengths or shapes) is deprecated. If you meant to do this, you must specify 'dtype=object' when creating the ndarray\n"
     ]
    },
    {
     "name": "stdout",
     "output_type": "stream",
     "text": [
      "\n",
      "======== Epoch 9 / 43 ========\n",
      "Training...\n",
      "\n",
      "  Average training loss: 0.145154\n",
      "\n",
      "Running Validation...\n",
      "  Metric: 0.173852\n",
      "  Validation Loss: 0.037678\n"
     ]
    },
    {
     "name": "stderr",
     "output_type": "stream",
     "text": [
      "/home/krivas/anaconda3/lib/python3.7/site-packages/ipykernel_launcher.py:69: VisibleDeprecationWarning: Creating an ndarray from ragged nested sequences (which is a list-or-tuple of lists-or-tuples-or ndarrays with different lengths or shapes) is deprecated. If you meant to do this, you must specify 'dtype=object' when creating the ndarray\n"
     ]
    },
    {
     "name": "stdout",
     "output_type": "stream",
     "text": [
      "\n",
      "======== Epoch 10 / 43 ========\n",
      "Training...\n",
      "\n",
      "  Average training loss: 0.137992\n",
      "\n",
      "Running Validation...\n",
      "  Metric: 0.167327\n",
      "  Validation Loss: 0.035238\n"
     ]
    },
    {
     "name": "stderr",
     "output_type": "stream",
     "text": [
      "/home/krivas/anaconda3/lib/python3.7/site-packages/ipykernel_launcher.py:69: VisibleDeprecationWarning: Creating an ndarray from ragged nested sequences (which is a list-or-tuple of lists-or-tuples-or ndarrays with different lengths or shapes) is deprecated. If you meant to do this, you must specify 'dtype=object' when creating the ndarray\n"
     ]
    },
    {
     "name": "stdout",
     "output_type": "stream",
     "text": [
      "\n",
      "======== Epoch 11 / 43 ========\n",
      "Training...\n",
      "\n",
      "  Average training loss: 0.130810\n",
      "\n",
      "Running Validation...\n",
      "  Metric: 0.158842\n",
      "  Validation Loss: 0.032285\n"
     ]
    },
    {
     "name": "stderr",
     "output_type": "stream",
     "text": [
      "/home/krivas/anaconda3/lib/python3.7/site-packages/ipykernel_launcher.py:69: VisibleDeprecationWarning: Creating an ndarray from ragged nested sequences (which is a list-or-tuple of lists-or-tuples-or ndarrays with different lengths or shapes) is deprecated. If you meant to do this, you must specify 'dtype=object' when creating the ndarray\n"
     ]
    },
    {
     "name": "stdout",
     "output_type": "stream",
     "text": [
      "\n",
      "======== Epoch 12 / 43 ========\n",
      "Training...\n",
      "\n",
      "  Average training loss: 0.122731\n",
      "\n",
      "Running Validation...\n",
      "  Metric: 0.150514\n",
      "  Validation Loss: 0.029487\n"
     ]
    },
    {
     "name": "stderr",
     "output_type": "stream",
     "text": [
      "/home/krivas/anaconda3/lib/python3.7/site-packages/ipykernel_launcher.py:69: VisibleDeprecationWarning: Creating an ndarray from ragged nested sequences (which is a list-or-tuple of lists-or-tuples-or ndarrays with different lengths or shapes) is deprecated. If you meant to do this, you must specify 'dtype=object' when creating the ndarray\n"
     ]
    },
    {
     "name": "stdout",
     "output_type": "stream",
     "text": [
      "\n",
      "======== Epoch 13 / 43 ========\n",
      "Training...\n",
      "\n",
      "  Average training loss: 0.115971\n",
      "\n",
      "Running Validation...\n",
      "  Metric: 0.149778\n",
      "  Validation Loss: 0.029201\n"
     ]
    },
    {
     "name": "stderr",
     "output_type": "stream",
     "text": [
      "/home/krivas/anaconda3/lib/python3.7/site-packages/ipykernel_launcher.py:69: VisibleDeprecationWarning: Creating an ndarray from ragged nested sequences (which is a list-or-tuple of lists-or-tuples-or ndarrays with different lengths or shapes) is deprecated. If you meant to do this, you must specify 'dtype=object' when creating the ndarray\n"
     ]
    },
    {
     "name": "stdout",
     "output_type": "stream",
     "text": [
      "\n",
      "======== Epoch 14 / 43 ========\n",
      "Training...\n",
      "\n",
      "  Average training loss: 0.108653\n",
      "\n",
      "Running Validation...\n",
      "  Metric: 0.136863\n",
      "  Validation Loss: 0.025292\n"
     ]
    },
    {
     "name": "stderr",
     "output_type": "stream",
     "text": [
      "/home/krivas/anaconda3/lib/python3.7/site-packages/ipykernel_launcher.py:69: VisibleDeprecationWarning: Creating an ndarray from ragged nested sequences (which is a list-or-tuple of lists-or-tuples-or ndarrays with different lengths or shapes) is deprecated. If you meant to do this, you must specify 'dtype=object' when creating the ndarray\n"
     ]
    },
    {
     "name": "stdout",
     "output_type": "stream",
     "text": [
      "\n",
      "======== Epoch 15 / 43 ========\n",
      "Training...\n",
      "\n",
      "  Average training loss: 0.101667\n",
      "\n",
      "Running Validation...\n",
      "  Metric: 0.134161\n",
      "  Validation Loss: 0.024665\n"
     ]
    },
    {
     "name": "stderr",
     "output_type": "stream",
     "text": [
      "/home/krivas/anaconda3/lib/python3.7/site-packages/ipykernel_launcher.py:69: VisibleDeprecationWarning: Creating an ndarray from ragged nested sequences (which is a list-or-tuple of lists-or-tuples-or ndarrays with different lengths or shapes) is deprecated. If you meant to do this, you must specify 'dtype=object' when creating the ndarray\n"
     ]
    },
    {
     "name": "stdout",
     "output_type": "stream",
     "text": [
      "\n",
      "======== Epoch 16 / 43 ========\n",
      "Training...\n",
      "\n",
      "  Average training loss: 0.095509\n",
      "\n",
      "Running Validation...\n",
      "  Metric: 0.128297\n",
      "  Validation Loss: 0.022494\n"
     ]
    },
    {
     "name": "stderr",
     "output_type": "stream",
     "text": [
      "/home/krivas/anaconda3/lib/python3.7/site-packages/ipykernel_launcher.py:69: VisibleDeprecationWarning: Creating an ndarray from ragged nested sequences (which is a list-or-tuple of lists-or-tuples-or ndarrays with different lengths or shapes) is deprecated. If you meant to do this, you must specify 'dtype=object' when creating the ndarray\n"
     ]
    },
    {
     "name": "stdout",
     "output_type": "stream",
     "text": [
      "\n",
      "======== Epoch 17 / 43 ========\n",
      "Training...\n",
      "\n",
      "  Average training loss: 0.089861\n",
      "\n",
      "Running Validation...\n",
      "  Metric: 0.124170\n",
      "  Validation Loss: 0.021583\n"
     ]
    },
    {
     "name": "stderr",
     "output_type": "stream",
     "text": [
      "/home/krivas/anaconda3/lib/python3.7/site-packages/ipykernel_launcher.py:69: VisibleDeprecationWarning: Creating an ndarray from ragged nested sequences (which is a list-or-tuple of lists-or-tuples-or ndarrays with different lengths or shapes) is deprecated. If you meant to do this, you must specify 'dtype=object' when creating the ndarray\n"
     ]
    },
    {
     "name": "stdout",
     "output_type": "stream",
     "text": [
      "\n",
      "======== Epoch 18 / 43 ========\n",
      "Training...\n",
      "\n",
      "  Average training loss: 0.085031\n",
      "\n",
      "Running Validation...\n",
      "  Metric: 0.120350\n",
      "  Validation Loss: 0.020222\n"
     ]
    },
    {
     "name": "stderr",
     "output_type": "stream",
     "text": [
      "/home/krivas/anaconda3/lib/python3.7/site-packages/ipykernel_launcher.py:69: VisibleDeprecationWarning: Creating an ndarray from ragged nested sequences (which is a list-or-tuple of lists-or-tuples-or ndarrays with different lengths or shapes) is deprecated. If you meant to do this, you must specify 'dtype=object' when creating the ndarray\n"
     ]
    },
    {
     "name": "stdout",
     "output_type": "stream",
     "text": [
      "\n",
      "======== Epoch 19 / 43 ========\n",
      "Training...\n",
      "\n",
      "  Average training loss: 0.080175\n",
      "\n",
      "Running Validation...\n",
      "  Metric: 0.115025\n",
      "  Validation Loss: 0.018808\n"
     ]
    },
    {
     "name": "stderr",
     "output_type": "stream",
     "text": [
      "/home/krivas/anaconda3/lib/python3.7/site-packages/ipykernel_launcher.py:69: VisibleDeprecationWarning: Creating an ndarray from ragged nested sequences (which is a list-or-tuple of lists-or-tuples-or ndarrays with different lengths or shapes) is deprecated. If you meant to do this, you must specify 'dtype=object' when creating the ndarray\n"
     ]
    },
    {
     "name": "stdout",
     "output_type": "stream",
     "text": [
      "\n",
      "======== Epoch 20 / 43 ========\n",
      "Training...\n",
      "\n",
      "  Average training loss: 0.075075\n",
      "\n",
      "Running Validation...\n",
      "  Metric: 0.112623\n",
      "  Validation Loss: 0.018212\n"
     ]
    },
    {
     "name": "stderr",
     "output_type": "stream",
     "text": [
      "/home/krivas/anaconda3/lib/python3.7/site-packages/ipykernel_launcher.py:69: VisibleDeprecationWarning: Creating an ndarray from ragged nested sequences (which is a list-or-tuple of lists-or-tuples-or ndarrays with different lengths or shapes) is deprecated. If you meant to do this, you must specify 'dtype=object' when creating the ndarray\n"
     ]
    },
    {
     "name": "stdout",
     "output_type": "stream",
     "text": [
      "\n",
      "======== Epoch 21 / 43 ========\n",
      "Training...\n",
      "\n",
      "  Average training loss: 0.070564\n",
      "\n",
      "Running Validation...\n",
      "  Metric: 0.112989\n",
      "  Validation Loss: 0.018221\n"
     ]
    },
    {
     "name": "stderr",
     "output_type": "stream",
     "text": [
      "/home/krivas/anaconda3/lib/python3.7/site-packages/ipykernel_launcher.py:69: VisibleDeprecationWarning: Creating an ndarray from ragged nested sequences (which is a list-or-tuple of lists-or-tuples-or ndarrays with different lengths or shapes) is deprecated. If you meant to do this, you must specify 'dtype=object' when creating the ndarray\n"
     ]
    },
    {
     "name": "stdout",
     "output_type": "stream",
     "text": [
      "\n",
      "======== Epoch 22 / 43 ========\n",
      "Training...\n",
      "\n",
      "  Average training loss: 0.065546\n",
      "\n",
      "Running Validation...\n",
      "  Metric: 0.105787\n",
      "  Validation Loss: 0.016313\n"
     ]
    },
    {
     "name": "stderr",
     "output_type": "stream",
     "text": [
      "/home/krivas/anaconda3/lib/python3.7/site-packages/ipykernel_launcher.py:69: VisibleDeprecationWarning: Creating an ndarray from ragged nested sequences (which is a list-or-tuple of lists-or-tuples-or ndarrays with different lengths or shapes) is deprecated. If you meant to do this, you must specify 'dtype=object' when creating the ndarray\n"
     ]
    },
    {
     "name": "stdout",
     "output_type": "stream",
     "text": [
      "\n",
      "======== Epoch 23 / 43 ========\n",
      "Training...\n",
      "\n",
      "  Average training loss: 0.062979\n",
      "\n",
      "Running Validation...\n",
      "  Metric: 0.105108\n",
      "  Validation Loss: 0.016105\n"
     ]
    },
    {
     "name": "stderr",
     "output_type": "stream",
     "text": [
      "/home/krivas/anaconda3/lib/python3.7/site-packages/ipykernel_launcher.py:69: VisibleDeprecationWarning: Creating an ndarray from ragged nested sequences (which is a list-or-tuple of lists-or-tuples-or ndarrays with different lengths or shapes) is deprecated. If you meant to do this, you must specify 'dtype=object' when creating the ndarray\n"
     ]
    },
    {
     "name": "stdout",
     "output_type": "stream",
     "text": [
      "\n",
      "======== Epoch 24 / 43 ========\n",
      "Training...\n",
      "\n",
      "  Average training loss: 0.058859\n",
      "\n",
      "Running Validation...\n",
      "  Metric: 0.101800\n",
      "  Validation Loss: 0.015268\n"
     ]
    },
    {
     "name": "stderr",
     "output_type": "stream",
     "text": [
      "/home/krivas/anaconda3/lib/python3.7/site-packages/ipykernel_launcher.py:69: VisibleDeprecationWarning: Creating an ndarray from ragged nested sequences (which is a list-or-tuple of lists-or-tuples-or ndarrays with different lengths or shapes) is deprecated. If you meant to do this, you must specify 'dtype=object' when creating the ndarray\n"
     ]
    },
    {
     "name": "stdout",
     "output_type": "stream",
     "text": [
      "\n",
      "======== Epoch 25 / 43 ========\n",
      "Training...\n",
      "\n",
      "  Average training loss: 0.056101\n",
      "\n",
      "Running Validation...\n",
      "  Metric: 0.101114\n",
      "  Validation Loss: 0.015129\n"
     ]
    },
    {
     "name": "stderr",
     "output_type": "stream",
     "text": [
      "/home/krivas/anaconda3/lib/python3.7/site-packages/ipykernel_launcher.py:69: VisibleDeprecationWarning: Creating an ndarray from ragged nested sequences (which is a list-or-tuple of lists-or-tuples-or ndarrays with different lengths or shapes) is deprecated. If you meant to do this, you must specify 'dtype=object' when creating the ndarray\n"
     ]
    },
    {
     "name": "stdout",
     "output_type": "stream",
     "text": [
      "\n",
      "======== Epoch 26 / 43 ========\n",
      "Training...\n",
      "\n",
      "  Average training loss: 0.052470\n",
      "\n",
      "Running Validation...\n",
      "  Metric: 0.096609\n",
      "  Validation Loss: 0.013963\n"
     ]
    },
    {
     "name": "stderr",
     "output_type": "stream",
     "text": [
      "/home/krivas/anaconda3/lib/python3.7/site-packages/ipykernel_launcher.py:69: VisibleDeprecationWarning: Creating an ndarray from ragged nested sequences (which is a list-or-tuple of lists-or-tuples-or ndarrays with different lengths or shapes) is deprecated. If you meant to do this, you must specify 'dtype=object' when creating the ndarray\n"
     ]
    },
    {
     "name": "stdout",
     "output_type": "stream",
     "text": [
      "\n",
      "======== Epoch 27 / 43 ========\n",
      "Training...\n",
      "\n",
      "  Average training loss: 0.049273\n",
      "\n",
      "Running Validation...\n",
      "  Metric: 0.093336\n",
      "  Validation Loss: 0.013173\n"
     ]
    },
    {
     "name": "stderr",
     "output_type": "stream",
     "text": [
      "/home/krivas/anaconda3/lib/python3.7/site-packages/ipykernel_launcher.py:69: VisibleDeprecationWarning: Creating an ndarray from ragged nested sequences (which is a list-or-tuple of lists-or-tuples-or ndarrays with different lengths or shapes) is deprecated. If you meant to do this, you must specify 'dtype=object' when creating the ndarray\n"
     ]
    },
    {
     "name": "stdout",
     "output_type": "stream",
     "text": [
      "\n",
      "======== Epoch 28 / 43 ========\n",
      "Training...\n",
      "\n",
      "  Average training loss: 0.046871\n",
      "\n",
      "Running Validation...\n",
      "  Metric: 0.091148\n",
      "  Validation Loss: 0.012651\n"
     ]
    },
    {
     "name": "stderr",
     "output_type": "stream",
     "text": [
      "/home/krivas/anaconda3/lib/python3.7/site-packages/ipykernel_launcher.py:69: VisibleDeprecationWarning: Creating an ndarray from ragged nested sequences (which is a list-or-tuple of lists-or-tuples-or ndarrays with different lengths or shapes) is deprecated. If you meant to do this, you must specify 'dtype=object' when creating the ndarray\n"
     ]
    },
    {
     "name": "stdout",
     "output_type": "stream",
     "text": [
      "\n",
      "======== Epoch 29 / 43 ========\n",
      "Training...\n",
      "\n",
      "  Average training loss: 0.044212\n",
      "\n",
      "Running Validation...\n",
      "  Metric: 0.087953\n",
      "  Validation Loss: 0.011953\n"
     ]
    },
    {
     "name": "stderr",
     "output_type": "stream",
     "text": [
      "/home/krivas/anaconda3/lib/python3.7/site-packages/ipykernel_launcher.py:69: VisibleDeprecationWarning: Creating an ndarray from ragged nested sequences (which is a list-or-tuple of lists-or-tuples-or ndarrays with different lengths or shapes) is deprecated. If you meant to do this, you must specify 'dtype=object' when creating the ndarray\n"
     ]
    },
    {
     "name": "stdout",
     "output_type": "stream",
     "text": [
      "\n",
      "======== Epoch 30 / 43 ========\n",
      "Training...\n",
      "\n",
      "  Average training loss: 0.041612\n",
      "\n",
      "Running Validation...\n",
      "  Metric: 0.085203\n",
      "  Validation Loss: 0.011296\n"
     ]
    },
    {
     "name": "stderr",
     "output_type": "stream",
     "text": [
      "/home/krivas/anaconda3/lib/python3.7/site-packages/ipykernel_launcher.py:69: VisibleDeprecationWarning: Creating an ndarray from ragged nested sequences (which is a list-or-tuple of lists-or-tuples-or ndarrays with different lengths or shapes) is deprecated. If you meant to do this, you must specify 'dtype=object' when creating the ndarray\n"
     ]
    },
    {
     "name": "stdout",
     "output_type": "stream",
     "text": [
      "\n",
      "======== Epoch 31 / 43 ========\n",
      "Training...\n",
      "\n",
      "  Average training loss: 0.039655\n",
      "\n",
      "Running Validation...\n",
      "  Metric: 0.082819\n",
      "  Validation Loss: 0.010850\n"
     ]
    },
    {
     "name": "stderr",
     "output_type": "stream",
     "text": [
      "/home/krivas/anaconda3/lib/python3.7/site-packages/ipykernel_launcher.py:69: VisibleDeprecationWarning: Creating an ndarray from ragged nested sequences (which is a list-or-tuple of lists-or-tuples-or ndarrays with different lengths or shapes) is deprecated. If you meant to do this, you must specify 'dtype=object' when creating the ndarray\n"
     ]
    },
    {
     "name": "stdout",
     "output_type": "stream",
     "text": [
      "\n",
      "======== Epoch 32 / 43 ========\n",
      "Training...\n",
      "\n",
      "  Average training loss: 0.037305\n",
      "\n",
      "Running Validation...\n",
      "  Metric: 0.083203\n",
      "  Validation Loss: 0.010840\n"
     ]
    },
    {
     "name": "stderr",
     "output_type": "stream",
     "text": [
      "/home/krivas/anaconda3/lib/python3.7/site-packages/ipykernel_launcher.py:69: VisibleDeprecationWarning: Creating an ndarray from ragged nested sequences (which is a list-or-tuple of lists-or-tuples-or ndarrays with different lengths or shapes) is deprecated. If you meant to do this, you must specify 'dtype=object' when creating the ndarray\n"
     ]
    },
    {
     "name": "stdout",
     "output_type": "stream",
     "text": [
      "\n",
      "======== Epoch 33 / 43 ========\n",
      "Training...\n",
      "\n",
      "  Average training loss: 0.034879\n",
      "\n",
      "Running Validation...\n",
      "  Metric: 0.081600\n",
      "  Validation Loss: 0.010515\n"
     ]
    },
    {
     "name": "stderr",
     "output_type": "stream",
     "text": [
      "/home/krivas/anaconda3/lib/python3.7/site-packages/ipykernel_launcher.py:69: VisibleDeprecationWarning: Creating an ndarray from ragged nested sequences (which is a list-or-tuple of lists-or-tuples-or ndarrays with different lengths or shapes) is deprecated. If you meant to do this, you must specify 'dtype=object' when creating the ndarray\n"
     ]
    },
    {
     "name": "stdout",
     "output_type": "stream",
     "text": [
      "\n",
      "======== Epoch 34 / 43 ========\n",
      "Training...\n",
      "\n",
      "  Average training loss: 0.033278\n",
      "\n",
      "Running Validation...\n",
      "  Metric: 0.081233\n",
      "  Validation Loss: 0.010445\n"
     ]
    },
    {
     "name": "stderr",
     "output_type": "stream",
     "text": [
      "/home/krivas/anaconda3/lib/python3.7/site-packages/ipykernel_launcher.py:69: VisibleDeprecationWarning: Creating an ndarray from ragged nested sequences (which is a list-or-tuple of lists-or-tuples-or ndarrays with different lengths or shapes) is deprecated. If you meant to do this, you must specify 'dtype=object' when creating the ndarray\n"
     ]
    },
    {
     "name": "stdout",
     "output_type": "stream",
     "text": [
      "\n",
      "======== Epoch 35 / 43 ========\n",
      "Training...\n",
      "\n",
      "  Average training loss: 0.031169\n",
      "\n",
      "Running Validation...\n",
      "  Metric: 0.081876\n",
      "  Validation Loss: 0.010735\n"
     ]
    },
    {
     "name": "stderr",
     "output_type": "stream",
     "text": [
      "/home/krivas/anaconda3/lib/python3.7/site-packages/ipykernel_launcher.py:69: VisibleDeprecationWarning: Creating an ndarray from ragged nested sequences (which is a list-or-tuple of lists-or-tuples-or ndarrays with different lengths or shapes) is deprecated. If you meant to do this, you must specify 'dtype=object' when creating the ndarray\n"
     ]
    },
    {
     "name": "stdout",
     "output_type": "stream",
     "text": [
      "\n",
      "======== Epoch 36 / 43 ========\n",
      "Training...\n",
      "\n",
      "  Average training loss: 0.028550\n",
      "\n",
      "Running Validation...\n",
      "  Metric: 0.080598\n",
      "  Validation Loss: 0.010509\n"
     ]
    },
    {
     "name": "stderr",
     "output_type": "stream",
     "text": [
      "/home/krivas/anaconda3/lib/python3.7/site-packages/ipykernel_launcher.py:69: VisibleDeprecationWarning: Creating an ndarray from ragged nested sequences (which is a list-or-tuple of lists-or-tuples-or ndarrays with different lengths or shapes) is deprecated. If you meant to do this, you must specify 'dtype=object' when creating the ndarray\n"
     ]
    },
    {
     "name": "stdout",
     "output_type": "stream",
     "text": [
      "\n",
      "======== Epoch 37 / 43 ========\n",
      "Training...\n",
      "\n",
      "  Average training loss: 0.027562\n",
      "\n",
      "Running Validation...\n",
      "  Metric: 0.083200\n",
      "  Validation Loss: 0.010952\n"
     ]
    },
    {
     "name": "stderr",
     "output_type": "stream",
     "text": [
      "/home/krivas/anaconda3/lib/python3.7/site-packages/ipykernel_launcher.py:69: VisibleDeprecationWarning: Creating an ndarray from ragged nested sequences (which is a list-or-tuple of lists-or-tuples-or ndarrays with different lengths or shapes) is deprecated. If you meant to do this, you must specify 'dtype=object' when creating the ndarray\n"
     ]
    },
    {
     "name": "stdout",
     "output_type": "stream",
     "text": [
      "\n",
      "======== Epoch 38 / 43 ========\n",
      "Training...\n",
      "\n",
      "  Average training loss: 0.025692\n",
      "\n",
      "Running Validation...\n",
      "  Metric: 0.087404\n",
      "  Validation Loss: 0.011790\n"
     ]
    },
    {
     "name": "stderr",
     "output_type": "stream",
     "text": [
      "/home/krivas/anaconda3/lib/python3.7/site-packages/ipykernel_launcher.py:69: VisibleDeprecationWarning: Creating an ndarray from ragged nested sequences (which is a list-or-tuple of lists-or-tuples-or ndarrays with different lengths or shapes) is deprecated. If you meant to do this, you must specify 'dtype=object' when creating the ndarray\n"
     ]
    },
    {
     "name": "stdout",
     "output_type": "stream",
     "text": [
      "\n",
      "======== Epoch 39 / 43 ========\n",
      "Training...\n",
      "\n",
      "  Average training loss: 0.023758\n",
      "\n",
      "Running Validation...\n",
      "  Metric: 0.091482\n",
      "  Validation Loss: 0.012844\n"
     ]
    },
    {
     "name": "stderr",
     "output_type": "stream",
     "text": [
      "/home/krivas/anaconda3/lib/python3.7/site-packages/ipykernel_launcher.py:69: VisibleDeprecationWarning: Creating an ndarray from ragged nested sequences (which is a list-or-tuple of lists-or-tuples-or ndarrays with different lengths or shapes) is deprecated. If you meant to do this, you must specify 'dtype=object' when creating the ndarray\n"
     ]
    },
    {
     "name": "stdout",
     "output_type": "stream",
     "text": [
      "\n",
      "======== Epoch 40 / 43 ========\n",
      "Training...\n",
      "\n",
      "  Average training loss: 0.022409\n",
      "\n",
      "Running Validation...\n",
      "  Metric: 0.089035\n",
      "  Validation Loss: 0.012269\n",
      "\n",
      "Training complete!\n",
      "Starting a new fold ...\n"
     ]
    },
    {
     "name": "stderr",
     "output_type": "stream",
     "text": [
      "Some weights of the model checkpoint at bert-base-uncased were not used when initializing BertForSharedTaskMultitask: ['cls.predictions.bias', 'cls.predictions.transform.dense.weight', 'cls.predictions.transform.dense.bias', 'cls.predictions.decoder.weight', 'cls.seq_relationship.weight', 'cls.seq_relationship.bias', 'cls.predictions.transform.LayerNorm.weight', 'cls.predictions.transform.LayerNorm.bias']\n",
      "- This IS expected if you are initializing BertForSharedTaskMultitask from the checkpoint of a model trained on another task or with another architecture (e.g. initializing a BertForSequenceClassification model from a BertForPretraining model).\n",
      "- This IS NOT expected if you are initializing BertForSharedTaskMultitask from the checkpoint of a model that you expect to be exactly identical (initializing a BertForSequenceClassification model from a BertForSequenceClassification model).\n",
      "Some weights of BertForSharedTaskMultitask were not initialized from the model checkpoint at bert-base-uncased and are newly initialized: ['classifier_first.weight', 'classifier_first.bias', 'classifier_second.weight', 'classifier_second.bias']\n",
      "You should probably TRAIN this model on a down-stream task to be able to use it for predictions and inference.\n",
      "/home/krivas/anaconda3/lib/python3.7/site-packages/ipykernel_launcher.py:69: VisibleDeprecationWarning: Creating an ndarray from ragged nested sequences (which is a list-or-tuple of lists-or-tuples-or ndarrays with different lengths or shapes) is deprecated. If you meant to do this, you must specify 'dtype=object' when creating the ndarray\n"
     ]
    },
    {
     "name": "stdout",
     "output_type": "stream",
     "text": [
      "\n",
      "======== Epoch 1 / 43 ========\n",
      "Training...\n",
      "\n",
      "  Average training loss: 0.363365\n",
      "\n",
      "Running Validation...\n",
      "  Metric: 0.272892\n",
      "  Validation Loss: 0.087208\n"
     ]
    },
    {
     "name": "stderr",
     "output_type": "stream",
     "text": [
      "/home/krivas/anaconda3/lib/python3.7/site-packages/ipykernel_launcher.py:69: VisibleDeprecationWarning: Creating an ndarray from ragged nested sequences (which is a list-or-tuple of lists-or-tuples-or ndarrays with different lengths or shapes) is deprecated. If you meant to do this, you must specify 'dtype=object' when creating the ndarray\n"
     ]
    },
    {
     "name": "stdout",
     "output_type": "stream",
     "text": [
      "\n",
      "======== Epoch 2 / 43 ========\n",
      "Training...\n",
      "\n",
      "  Average training loss: 0.217448\n",
      "\n",
      "Running Validation...\n",
      "  Metric: 0.270389\n",
      "  Validation Loss: 0.084968\n"
     ]
    },
    {
     "name": "stderr",
     "output_type": "stream",
     "text": [
      "/home/krivas/anaconda3/lib/python3.7/site-packages/ipykernel_launcher.py:69: VisibleDeprecationWarning: Creating an ndarray from ragged nested sequences (which is a list-or-tuple of lists-or-tuples-or ndarrays with different lengths or shapes) is deprecated. If you meant to do this, you must specify 'dtype=object' when creating the ndarray\n"
     ]
    },
    {
     "name": "stdout",
     "output_type": "stream",
     "text": [
      "\n",
      "======== Epoch 3 / 43 ========\n",
      "Training...\n",
      "\n",
      "  Average training loss: 0.202278\n",
      "\n",
      "Running Validation...\n",
      "  Metric: 0.257090\n",
      "  Validation Loss: 0.076974\n"
     ]
    },
    {
     "name": "stderr",
     "output_type": "stream",
     "text": [
      "/home/krivas/anaconda3/lib/python3.7/site-packages/ipykernel_launcher.py:69: VisibleDeprecationWarning: Creating an ndarray from ragged nested sequences (which is a list-or-tuple of lists-or-tuples-or ndarrays with different lengths or shapes) is deprecated. If you meant to do this, you must specify 'dtype=object' when creating the ndarray\n"
     ]
    },
    {
     "name": "stdout",
     "output_type": "stream",
     "text": [
      "\n",
      "======== Epoch 4 / 43 ========\n",
      "Training...\n",
      "\n",
      "  Average training loss: 0.188331\n",
      "\n",
      "Running Validation...\n",
      "  Metric: 0.241829\n",
      "  Validation Loss: 0.068367\n"
     ]
    },
    {
     "name": "stderr",
     "output_type": "stream",
     "text": [
      "/home/krivas/anaconda3/lib/python3.7/site-packages/ipykernel_launcher.py:69: VisibleDeprecationWarning: Creating an ndarray from ragged nested sequences (which is a list-or-tuple of lists-or-tuples-or ndarrays with different lengths or shapes) is deprecated. If you meant to do this, you must specify 'dtype=object' when creating the ndarray\n"
     ]
    },
    {
     "name": "stdout",
     "output_type": "stream",
     "text": [
      "\n",
      "======== Epoch 5 / 43 ========\n",
      "Training...\n",
      "\n",
      "  Average training loss: 0.176897\n",
      "\n",
      "Running Validation...\n",
      "  Metric: 0.210901\n",
      "  Validation Loss: 0.053123\n"
     ]
    },
    {
     "name": "stderr",
     "output_type": "stream",
     "text": [
      "/home/krivas/anaconda3/lib/python3.7/site-packages/ipykernel_launcher.py:69: VisibleDeprecationWarning: Creating an ndarray from ragged nested sequences (which is a list-or-tuple of lists-or-tuples-or ndarrays with different lengths or shapes) is deprecated. If you meant to do this, you must specify 'dtype=object' when creating the ndarray\n"
     ]
    },
    {
     "name": "stdout",
     "output_type": "stream",
     "text": [
      "\n",
      "======== Epoch 6 / 43 ========\n",
      "Training...\n",
      "\n",
      "  Average training loss: 0.166270\n",
      "\n",
      "Running Validation...\n"
     ]
    }
   ],
   "source": [
    "import random\n",
    "import numpy as np\n",
    "from transformers import get_linear_schedule_with_warmup\n",
    "\n",
    "for window_x in [0, 1, 2]:\n",
    "    print('Window size of ', window_x)\n",
    "    data_texts, data_corpus, data_labels, sentence_raw, target_words, positions = read_lexical_corpus('data/raw/lcp_single_train.tsv',\n",
    "                                                                           return_complete_sent=False,\n",
    "                                                                           window_size=window_x + 1)\n",
    "    torch.cuda.manual_seed_all(seed_val)\n",
    "\n",
    "    kf = StratifiedKFold(8, shuffle=True, random_state=0)\n",
    "\n",
    "    history_preds = []\n",
    "    history_samples = []\n",
    "    history_input = []\n",
    "    history_target = []\n",
    "    history_index = []\n",
    "    history_labels = []\n",
    "    history_occur_text = []\n",
    "    history_occur_target = []\n",
    "    ix_fold = 0\n",
    "\n",
    "    for train_index, val_index in kf.split(data_texts, data_corpus):\n",
    "        print('Starting a new fold ...')\n",
    "\n",
    "        train_texts_lex, train_labels_lex, train_positions_lex, train_target_words_lex = data_texts[train_index], data_labels[train_index], positions[train_index], target_words[train_index]\n",
    "        val_texts_lex, val_labels_lex, val_positions_lex, val_target_words_lex = data_texts[val_index], data_labels[val_index], positions[val_index], target_words[val_index]\n",
    "\n",
    "        train_encodings_lex = tokenizer(list(train_texts_lex), truncation=True, padding=True)\n",
    "\n",
    "        val_encodings_lex = tokenizer(list(val_texts_lex), truncation=True, padding=True)\n",
    "        val_dataset_lex = LexDataset(val_encodings_lex, val_labels_lex, val_positions_lex)\n",
    "        val_loader_lex = DataLoader(val_dataset_lex, batch_size=1)\n",
    "        \n",
    "        all_text = ' '.join(train_texts_lex)\n",
    "        occurence_text = [all_text.count(w) for w in val_target_words_lex]\n",
    "        \n",
    "        occurence_target = [train_target_words_lex.tolist().count(w) for w in val_target_words_lex]\n",
    "        \n",
    "        device = torch.device(\"cuda:0\")\n",
    "        \n",
    "        model = BertForSharedTaskMultitask.from_pretrained(\n",
    "            \"bert-base-uncased\", \n",
    "            num_labels = len(tag2idx), \n",
    "            output_attentions = False, \n",
    "            output_hidden_states = False, \n",
    "        )\n",
    "        model.cuda(0)\n",
    "\n",
    "        optimizer = AdamW(model.parameters(),\n",
    "                          lr = 2e-5, \n",
    "                          eps = 1e-8\n",
    "                        )\n",
    "\n",
    "        random.seed(seed_val)\n",
    "        torch.manual_seed(seed_val)\n",
    "\n",
    "        tracking_metrics = []\n",
    "        tracking_logits = []\n",
    "        early_stopping = 0\n",
    "        best_metric = 1000000\n",
    "        \n",
    "        for epoch_i in range(0, epochs):\n",
    "            np.random.seed(epoch_i)\n",
    "            sample_data_sent = np.random.choice(data_sent_dis, len(train_texts_lex), replace=False)\n",
    "            \n",
    "            np.random.seed(epoch_i)\n",
    "            sample_data_sense = np.random.choice(data_senses_dis, len(train_texts_lex), replace=False)\n",
    "            \n",
    "            train_encodings_dis = tokenizer(list(sample_data_sent), truncation=True, padding=True, max_length=max_len)\n",
    "            data_tags_dis = pad_sequences([[tag2idx.get(l) for l in lab] for lab in sample_data_sense],\n",
    "                     maxlen=max_len, value=tag2idx[\"PAD\"], padding=\"post\",\n",
    "                     dtype=\"long\", truncating=\"post\")\n",
    "            \n",
    "            train_dataset_multi = MultiDataset(train_encodings_dis, data_tags_dis, train_encodings_lex, train_labels_lex, train_positions_lex)\n",
    "            train_loader_multi = DataLoader(train_dataset_multi, batch_size=16)\n",
    "            \n",
    "            total_steps = len(train_loader_multi) * epochs\n",
    "            scheduler = get_linear_schedule_with_warmup(optimizer, \n",
    "                                                    num_warmup_steps = 0, # Default value in run_glue.py\n",
    "                                                    num_training_steps = total_steps)           \n",
    "            print()\n",
    "            print('======== Epoch {:} / {:} ========'.format(epoch_i + 1, epochs))\n",
    "            train(device, model, train_loader_multi, forward_func_multitask_same_bert, optimizer, scheduler, {})\n",
    "            \n",
    "            training_stats, all_logits, val_metric = evaluate(device, model, val_loader_lex, forward_func_multitask_bert, {'task_id': 1})\n",
    "\n",
    "            tracking_metrics.append(val_metric)\n",
    "            tracking_logits.append(all_logits)\n",
    "            \n",
    "            if val_metric > best_metric:\n",
    "                early_stopping += 1\n",
    "            else:\n",
    "                best_metric = val_metric\n",
    "                \n",
    "            if early_stopping == stop_at:\n",
    "                break\n",
    "            \n",
    "        index_min = np.argmin(tracking_metrics)\n",
    "            \n",
    "        history_labels.extend(val_labels_lex)\n",
    "        history_preds.extend(tracking_logits[index_min])\n",
    "        history_samples.extend(val_texts_lex)\n",
    "        history_input.extend(sentence_raw[val_index])\n",
    "        history_target.extend(target_words[val_index])\n",
    "        history_index.extend(([ix_fold] * len(val_index)))\n",
    "        history_occur_text.extend(occurence_text)\n",
    "        history_occur_target.extend(occurence_target)\n",
    "        ix_fold += 1\n",
    "\n",
    "        print(\"\")\n",
    "        print(\"Training complete!\")\n",
    "        \n",
    "        del model\n",
    "        torch.cuda.empty_cache()\n",
    "        \n",
    "    results = pd.DataFrame()\n",
    "    results['samples'] = history_samples\n",
    "    results['preds'] = history_preds\n",
    "    results['true_val'] = history_labels\n",
    "    results['raw'] = history_input\n",
    "    results['raw'] = results['raw'].astype(str)\n",
    "    results['target'] = history_target\n",
    "    results['index'] = history_index\n",
    "    results['occur_text'] = history_occur_text\n",
    "    results['occur_target'] = history_occur_target\n",
    "    \n",
    "    results_window[window_x] = results"
   ]
  },
  {
   "cell_type": "code",
   "execution_count": null,
   "metadata": {},
   "outputs": [],
   "source": [
    "for window_ix in results_window:\n",
    "    results_window[window_ix]['mae'] = results_window[window_ix].apply(lambda x: mean_absolute_error([x.preds],[x.true_val]), axis=1)\n",
    "    results_window[window_ix]['mse'] = results_window[window_ix].apply(lambda x: mean_squared_error([x.preds],[x.true_val]), axis=1)\n",
    "    results_window[window_ix]['discrete_occur'] = results_window[window_ix].apply(lambda x: x.occur_target if (x.occur_target == 0 or x.occur_target == 1) else 2, axis=1)\n",
    "    "
   ]
  },
  {
   "cell_type": "code",
   "execution_count": null,
   "metadata": {
    "scrolled": true
   },
   "outputs": [],
   "source": [
    "for window_ix in results_window:\n",
    "    print('Window of', window_ix)\n",
    "\n",
    "    mae = results_window[window_ix].groupby(['index']).mae.mean()\n",
    "    mse = results_window[window_ix].groupby(['index']).mse.mean()\n",
    "    #r_2 = results_window[window_ix].groupby(['index']).\n",
    "    \n",
    "    print('MAE --- Mean:', round(np.mean(mae), 4), ' Std:', round(np.std(mae), 4))\n",
    "    print('MSE --- Mean:', round(np.mean(mse), 4), ' Std:', round(np.std(mse), 4))\n",
    "    #print('R2  --- Mean:', round(np.mean(r_2), 4), ' Std:', round(np.std(r_2), 4))\n",
    "    print()\n"
   ]
  },
  {
   "cell_type": "code",
   "execution_count": 18,
   "metadata": {
    "scrolled": true
   },
   "outputs": [
    {
     "name": "stdout",
     "output_type": "stream",
     "text": [
      "Window of 0\n",
      "   discrete_occur  mse_mean   mse_std  mae_mean   mae_std\n",
      "0               0  0.010052  0.001028  0.076575  0.003595\n",
      "1               1  0.009800  0.002017  0.077171  0.008028\n",
      "2               2  0.007632  0.000492  0.068762  0.002973\n",
      "\n",
      "Window of 1\n",
      "   discrete_occur  mse_mean   mse_std  mae_mean   mae_std\n",
      "0               0  0.010037  0.000888  0.077306  0.002410\n",
      "1               1  0.009374  0.001208  0.074351  0.003510\n",
      "2               2  0.008861  0.001095  0.072561  0.003643\n",
      "\n",
      "Window of 2\n",
      "   discrete_occur  mse_mean   mse_std  mae_mean   mae_std\n",
      "0               0  0.011796  0.001363  0.082510  0.003586\n",
      "1               1  0.010257  0.001518  0.078089  0.005823\n",
      "2               2  0.009620  0.001000  0.075000  0.003472\n",
      "\n"
     ]
    }
   ],
   "source": [
    "for window_ix in results_window:\n",
    "    df_temp = results_window[window_ix].groupby(['index', 'discrete_occur']).agg({'mse': 'mean',\n",
    "                                                                         'mae': 'mean'}).reset_index()\n",
    "    df_temp = df_temp.groupby('discrete_occur').agg({'mse': ['mean', 'std'],\n",
    "                                          'mae': ['mean', 'std']}).reset_index()\n",
    "    df_temp.columns = ['_'.join(col).strip('_') for col in df_temp.columns]\n",
    "    print('Window of', window_ix)\n",
    "    print(df_temp)\n",
    "    print()"
   ]
  },
  {
   "cell_type": "code",
   "execution_count": 19,
   "metadata": {},
   "outputs": [],
   "source": [
    "import spacy\n",
    "\n",
    "nlp = spacy.load(\"en_core_web_sm\")\n",
    "def find_pos(sentence, ref):\n",
    "    try:\n",
    "        doc = nlp(sentence)\n",
    "        for token in doc:\n",
    "            if token.text == ref:\n",
    "                return token.pos_\n",
    "        return np.nan            \n",
    "    except:\n",
    "        return np.nan"
   ]
  },
  {
   "cell_type": "code",
   "execution_count": 20,
   "metadata": {},
   "outputs": [
    {
     "name": "stdout",
     "output_type": "stream",
     "text": [
      "0\n",
      "1\n",
      "2\n"
     ]
    }
   ],
   "source": [
    "for window_ix in results_window:\n",
    "    print(window_ix)\n",
    "    results_window[window_ix]['pos_label'] =  results_window[window_ix].apply(lambda x: find_pos(x.raw, x.target), axis=1)\n",
    "    "
   ]
  },
  {
   "cell_type": "code",
   "execution_count": 21,
   "metadata": {
    "scrolled": true
   },
   "outputs": [
    {
     "name": "stdout",
     "output_type": "stream",
     "text": [
      "Window size of: 0\n"
     ]
    },
    {
     "data": {
      "image/png": "[encoded data removed]",
      "text/plain": [
       "<Figure size 432x288 with 1 Axes>"
      ]
     },
     "metadata": {
      "needs_background": "light"
     },
     "output_type": "display_data"
    },
    {
     "name": "stdout",
     "output_type": "stream",
     "text": [
      "Window size of: 1\n"
     ]
    },
    {
     "data": {
      "image/png": "[encoded data removed]",
      "text/plain": [
       "<Figure size 432x288 with 1 Axes>"
      ]
     },
     "metadata": {
      "needs_background": "light"
     },
     "output_type": "display_data"
    },
    {
     "name": "stdout",
     "output_type": "stream",
     "text": [
      "Window size of: 2\n"
     ]
    },
    {
     "data": {
      "image/png": "[encoded data removed]",
      "text/plain": [
       "<Figure size 432x288 with 1 Axes>"
      ]
     },
     "metadata": {
      "needs_background": "light"
     },
     "output_type": "display_data"
    }
   ],
   "source": [
    "import seaborn as sns\n",
    "import matplotlib.pyplot as plt\n",
    "\n",
    "%matplotlib inline\n",
    "\n",
    "for window_ix in results_window:\n",
    "    print('Window size of:', window_ix)\n",
    "    sns.lineplot(x='pos_label', y='mae', data=results_window[window_ix].loc[results_window[window_ix].pos_label.notnull()], ci=98, markers='o')\n",
    "    plt.show()"
   ]
  },
  {
   "cell_type": "code",
   "execution_count": 22,
   "metadata": {},
   "outputs": [
    {
     "name": "stdout",
     "output_type": "stream",
     "text": [
      "Window size of: 0\n"
     ]
    },
    {
     "data": {
      "image/png": "[encoded data removed]",
      "text/plain": [
       "<Figure size 432x288 with 1 Axes>"
      ]
     },
     "metadata": {
      "needs_background": "light"
     },
     "output_type": "display_data"
    },
    {
     "name": "stdout",
     "output_type": "stream",
     "text": [
      "Window size of: 1\n"
     ]
    },
    {
     "data": {
      "image/png": "[encoded data removed]",
      "text/plain": [
       "<Figure size 432x288 with 1 Axes>"
      ]
     },
     "metadata": {
      "needs_background": "light"
     },
     "output_type": "display_data"
    },
    {
     "name": "stdout",
     "output_type": "stream",
     "text": [
      "Window size of: 2\n"
     ]
    },
    {
     "data": {
      "image/png": "[encoded data removed]",
      "text/plain": [
       "<Figure size 432x288 with 1 Axes>"
      ]
     },
     "metadata": {
      "needs_background": "light"
     },
     "output_type": "display_data"
    }
   ],
   "source": [
    "for window_ix in results_window:\n",
    "    print('Window size of:', window_ix)\n",
    "    results_many = results_window[window_ix].loc[results_window[window_ix].discrete_occur > 1].reset_index(drop=True)\n",
    "    results_one = results_window[window_ix].loc[results_window[window_ix].discrete_occur == 1].reset_index(drop=True)\n",
    "    results_zero = results_window[window_ix].loc[results_window[window_ix].discrete_occur == 0].reset_index(drop=True)\n",
    "    \n",
    "    p1 = sns.lineplot(x='pos_label', y='mae', data=results_many.loc[results_many.pos_label.notnull()], ci=98, markers='o', color='blue')\n",
    "    p2 = sns.lineplot(x='pos_label', y='mae', data=results_one.loc[results_one.pos_label.notnull()], ci=98, markers='o', color='black')\n",
    "    p3 = sns.lineplot(x='pos_label', y='mae', data=results_zero.loc[results_zero.pos_label.notnull()], ci=98, markers='o', color='green')\n",
    "    plt.legend(['mas de uno', 'uno', 'cero'])\n",
    "    plt.show()"
   ]
  },
  {
   "cell_type": "code",
   "execution_count": null,
   "metadata": {},
   "outputs": [],
   "source": []
  }
 ],
 "metadata": {
  "kernelspec": {
   "display_name": "Python 3",
   "language": "python",
   "name": "python3"
  },
  "language_info": {
   "codemirror_mode": {
    "name": "ipython",
    "version": 3
   },
   "file_extension": ".py",
   "mimetype": "text/x-python",
   "name": "python",
   "nbconvert_exporter": "python",
   "pygments_lexer": "ipython3",
   "version": "3.7.3"
  }
 },
 "nbformat": 4,
 "nbformat_minor": 4
}
