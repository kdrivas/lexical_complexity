{
 "cells": [
  {
   "cell_type": "code",
   "execution_count": 1,
   "metadata": {
    "scrolled": true
   },
   "outputs": [],
   "source": [
    "from pathlib import Path\n",
    "import pandas as pd\n",
    "from torch.utils.data import DataLoader\n",
    "import torch\n",
    "from tqdm import tqdm\n",
    "import numpy as np\n",
    "\n",
    "from transformers import BertTokenizer\n",
    "from transformers import BertModel, AdamW, BertConfig\n",
    "from transformers import get_linear_schedule_with_warmup\n",
    "from transformers import DistilBertModel, AdamW\n",
    "from transformers import BertForSequenceClassification\n",
    "import random\n",
    "\n",
    "from sklearn.metrics import mean_absolute_error, r2_score, mean_squared_error\n",
    "from sklearn.linear_model import LinearRegression \n",
    "from sklearn.preprocessing import StandardScaler\n",
    "from sklearn.model_selection import StratifiedKFold\n",
    "\n",
    "import os\n",
    "os.chdir('..')\n",
    "\n",
    "from src.data import LexDataset, read_corpus_split"
   ]
  },
  {
   "cell_type": "code",
   "execution_count": 2,
   "metadata": {},
   "outputs": [
    {
     "name": "stdout",
     "output_type": "stream",
     "text": [
      "Loading BERT tokenizer...\n"
     ]
    }
   ],
   "source": [
    "# Load the BERT tokenizer.\n",
    "print('Loading BERT tokenizer...')\n",
    "tokenizer = BertTokenizer.from_pretrained('bert-base-uncased', do_lower_case=True)"
   ]
  },
  {
   "cell_type": "code",
   "execution_count": 3,
   "metadata": {},
   "outputs": [],
   "source": [
    "import numpy as np\n",
    "\n",
    "# Function to calculate the accuracy of our predictions vs labels\n",
    "def flat_metric(preds, labels):\n",
    "    pred_flat = preds.flatten()\n",
    "    labels_flat = labels.flatten()\n",
    "    return mean_absolute_error(pred_flat, labels_flat)"
   ]
  },
  {
   "cell_type": "code",
   "execution_count": 4,
   "metadata": {},
   "outputs": [],
   "source": [
    "\n",
    "def train(loader):\n",
    "\n",
    "    print(\"\")\n",
    "    print('======== Epoch {:} / {:} ========'.format(epoch_i + 1, epochs))\n",
    "    print('Training...')\n",
    "\n",
    "    total_train_loss = 0\n",
    "    model.train()\n",
    "\n",
    "    for step, batch in enumerate(loader):\n",
    "\n",
    "        # if step % 40 == 0 and not step == 0:\n",
    "        #     elapsed = format_time(time.time() - t0)\n",
    "        #     print('  Batch {:>5,}  of  {:>5,}.    Elapsed: {:}.'.format(step, len(train_loader), elapsed))\n",
    "\n",
    "        b_input_ids = batch['input_ids'].to(device)\n",
    "        b_input_mask = batch['attention_mask'].to(device)\n",
    "        b_labels = batch['labels'].to(device)\n",
    "\n",
    "        # Clear gradients\n",
    "        model.zero_grad()        \n",
    "\n",
    "        loss, logits = model(b_input_ids, \n",
    "                             token_type_ids=None, \n",
    "                             attention_mask=b_input_mask, \n",
    "                             labels=b_labels)\n",
    "        total_train_loss += loss.item()\n",
    "        loss.backward()\n",
    "        torch.nn.utils.clip_grad_norm_(model.parameters(), 1.0)\n",
    "\n",
    "        # Compute gradients\n",
    "        optimizer.step()\n",
    "        scheduler.step()\n",
    "\n",
    "    avg_train_loss = total_train_loss / len(train_loader)            \n",
    "\n",
    "    print(\"\")\n",
    "    print(\"  Average training loss: {0:.6f}\".format(avg_train_loss))\n",
    "    \n",
    "def evaluate(loader):\n",
    "    print(\"\")\n",
    "    print(\"Running Validation...\")\n",
    "    \n",
    "    model.eval()\n",
    "    \n",
    "    # Tracking variables \n",
    "    total_eval_accuracy = 0\n",
    "    total_eval_loss = 0\n",
    "    nb_eval_steps = 0\n",
    "    \n",
    "    all_logits = []\n",
    "    training_stats = []\n",
    "    # Evaluate data for one epoch\n",
    "    ix = 0\n",
    "    for batch in loader:\n",
    "        ix += 1\n",
    "        b_input_ids = batch['input_ids'].to(device)\n",
    "        b_input_mask = batch['attention_mask'].to(device)\n",
    "        b_labels = batch['labels'].to(device)\n",
    "        \n",
    "        with torch.no_grad():        \n",
    "\n",
    "            (loss, logits) = model(b_input_ids, \n",
    "                                   token_type_ids=None, \n",
    "                                   attention_mask=b_input_mask,\n",
    "                                   labels=b_labels)\n",
    "            \n",
    "        # Accumulate the validation loss.\n",
    "        total_eval_loss += loss.item()\n",
    "\n",
    "        # Move logits and labels to CPU\n",
    "        logits = logits.detach().cpu().numpy()\n",
    "        label_ids = b_labels.to('cpu').numpy()\n",
    "        \n",
    "        val_metric = flat_metric(logits, label_ids)\n",
    "        total_eval_accuracy += val_metric\n",
    "        all_logits.append(logits.flatten()[0])\n",
    "\n",
    "    # Report the final accuracy for this validation run.\n",
    "    avg_val_accuracy = total_eval_accuracy / len(val_loader)\n",
    "    print(\"  Metric: {0:.6f}\".format(avg_val_accuracy))\n",
    "    avg_val_loss = total_eval_loss / len(val_loader)\n",
    "    \n",
    "    print(\"  Validation Loss: {0:.6f}\".format(avg_val_loss))\n",
    "\n",
    "    # Record all statistics from this epoch.\n",
    "    training_stats.append(\n",
    "        {\n",
    "            'epoch': epoch_i + 1,\n",
    "            'Valid. Loss': avg_val_loss,\n",
    "            'Valid. Accur.': avg_val_accuracy,\n",
    "        }\n",
    "    )\n",
    "    \n",
    "    return training_stats, all_logits\n"
   ]
  },
  {
   "cell_type": "code",
   "execution_count": null,
   "metadata": {
    "scrolled": true
   },
   "outputs": [
    {
     "name": "stdout",
     "output_type": "stream",
     "text": [
      "Window size of  0\n",
      "Starting a new fold ...\n"
     ]
    },
    {
     "name": "stderr",
     "output_type": "stream",
     "text": [
      "Some weights of the model checkpoint at bert-base-uncased were not used when initializing BertForSequenceClassification: ['cls.predictions.bias', 'cls.predictions.transform.dense.weight', 'cls.predictions.transform.dense.bias', 'cls.predictions.decoder.weight', 'cls.seq_relationship.weight', 'cls.seq_relationship.bias', 'cls.predictions.transform.LayerNorm.weight', 'cls.predictions.transform.LayerNorm.bias']\n",
      "- This IS expected if you are initializing BertForSequenceClassification from the checkpoint of a model trained on another task or with another architecture (e.g. initializing a BertForSequenceClassification model from a BertForPretraining model).\n",
      "- This IS NOT expected if you are initializing BertForSequenceClassification from the checkpoint of a model that you expect to be exactly identical (initializing a BertForSequenceClassification model from a BertForSequenceClassification model).\n",
      "Some weights of BertForSequenceClassification were not initialized from the model checkpoint at bert-base-uncased and are newly initialized: ['classifier.weight', 'classifier.bias']\n",
      "You should probably TRAIN this model on a down-stream task to be able to use it for predictions and inference.\n"
     ]
    },
    {
     "name": "stdout",
     "output_type": "stream",
     "text": [
      "\n",
      "======== Epoch 1 / 20 ========\n",
      "Training...\n",
      "\n",
      "  Average training loss: 0.015953\n",
      "\n",
      "Running Validation...\n",
      "  Metric: 0.320346\n",
      "  Validation Loss: 0.117848\n",
      "\n",
      "======== Epoch 2 / 20 ========\n",
      "Training...\n",
      "\n",
      "  Average training loss: 0.022643\n",
      "\n",
      "Running Validation...\n",
      "  Metric: 0.266512\n",
      "  Validation Loss: 0.083798\n",
      "\n",
      "======== Epoch 3 / 20 ========\n",
      "Training...\n",
      "\n",
      "  Average training loss: 0.019224\n",
      "\n",
      "Running Validation...\n",
      "  Metric: 0.241277\n",
      "  Validation Loss: 0.069118\n",
      "\n",
      "======== Epoch 4 / 20 ========\n",
      "Training...\n",
      "\n",
      "  Average training loss: 0.014161\n",
      "\n",
      "Running Validation...\n",
      "  Metric: 0.214745\n",
      "  Validation Loss: 0.054145\n",
      "\n",
      "======== Epoch 5 / 20 ========\n",
      "Training...\n",
      "\n",
      "  Average training loss: 0.012617\n",
      "\n",
      "Running Validation...\n",
      "  Metric: 0.226894\n",
      "  Validation Loss: 0.060581\n",
      "\n",
      "======== Epoch 6 / 20 ========\n",
      "Training...\n",
      "\n",
      "  Average training loss: 0.011360\n",
      "\n",
      "Running Validation...\n",
      "  Metric: 0.197874\n",
      "  Validation Loss: 0.047161\n",
      "\n",
      "======== Epoch 7 / 20 ========\n",
      "Training...\n",
      "\n",
      "  Average training loss: 0.011052\n",
      "\n",
      "Running Validation...\n",
      "  Metric: 0.189316\n",
      "  Validation Loss: 0.043269\n",
      "\n",
      "======== Epoch 8 / 20 ========\n",
      "Training...\n"
     ]
    }
   ],
   "source": [
    "import random\n",
    "import numpy as np\n",
    "from transformers import get_linear_schedule_with_warmup\n",
    "\n",
    "epochs = 20\n",
    "seed_val = 42\n",
    "results_window = {}\n",
    "for window_x in [0, 1, 2, 3, 4, 5]:\n",
    "    print('Window size of ', window_x)\n",
    "    data_texts, data_corpus, data_labels, sentence_raw, target_words, positions = read_corpus_split('data/raw/lcp_single_train.tsv',\n",
    "                                                                           return_complete_sent=False,\n",
    "                                                                           window_size=window_x + 1)\n",
    "    torch.cuda.manual_seed_all(seed_val)\n",
    "\n",
    "    kf = StratifiedKFold(8, shuffle=True, random_state=0)\n",
    "\n",
    "    history_preds = []\n",
    "    history_samples = []\n",
    "    history_input = []\n",
    "    history_target = []\n",
    "    history_index = []\n",
    "    history_labels = []\n",
    "    history_occur_text = []\n",
    "    history_occur_target = []\n",
    "    ix_fold = 0\n",
    "\n",
    "    for train_index, val_index in kf.split(data_texts, data_corpus):\n",
    "        print('Starting a new fold ...')\n",
    "\n",
    "        train_texts, train_labels, train_positions, train_target_words = data_texts[train_index], data_labels[train_index], positions[train_index], target_words[train_index]\n",
    "        val_texts, val_labels, val_positions, val_target_words = data_texts[val_index], data_labels[val_index], positions[val_index], target_words[val_index]\n",
    "\n",
    "        train_encodings = tokenizer(list(train_texts), truncation=True, padding=True)\n",
    "        train_dataset = LexDataset(train_encodings, train_labels, train_positions)\n",
    "\n",
    "        val_encodings = tokenizer(list(val_texts), truncation=True, padding=True)\n",
    "        val_dataset = LexDataset(val_encodings, val_labels, val_positions)\n",
    "\n",
    "        train_loader = DataLoader(train_dataset, batch_size=16)\n",
    "        val_loader = DataLoader(val_dataset, batch_size=1)\n",
    "        \n",
    "        all_text = ' '.join(train_texts)\n",
    "        occurence_text = [all_text.count(w) for w in val_target_words]\n",
    "        \n",
    "        occurence_target = [train_target_words.tolist().count(w) for w in val_target_words]\n",
    "        \n",
    "        device = torch.device(\"cuda:1\")\n",
    "        \n",
    "        model = BertForSequenceClassification.from_pretrained(\n",
    "            \"bert-base-uncased\", \n",
    "            num_labels = 1, \n",
    "            output_attentions = False, \n",
    "            output_hidden_states = False, \n",
    "        )\n",
    "        model.cuda(1)\n",
    "\n",
    "        optimizer = AdamW(model.parameters(),\n",
    "                          lr = 2e-5, \n",
    "                          eps = 1e-8\n",
    "                        )\n",
    "        device = torch.device(\"cuda:1\")\n",
    "\n",
    "        total_steps = len(train_loader) * epochs\n",
    "        scheduler = get_linear_schedule_with_warmup(optimizer, \n",
    "                                                    num_warmup_steps = 0, # Default value in run_glue.py\n",
    "                                                    num_training_steps = total_steps)\n",
    "\n",
    "        random.seed(seed_val)\n",
    "        np.random.seed(seed_val)\n",
    "        torch.manual_seed(seed_val)\n",
    "\n",
    "        for epoch_i in range(0, epochs):\n",
    "            train(train_loader)\n",
    "            training_stats, all_logits = evaluate(val_loader)\n",
    "\n",
    "        history_labels.extend(val_labels)\n",
    "        history_preds.extend(all_logits)\n",
    "        history_samples.extend(val_texts)\n",
    "        history_input.extend(sentence_raw[val_index])\n",
    "        history_target.extend(target_words[val_index])\n",
    "        history_index.extend(([ix_fold] * len(val_index)))\n",
    "        history_occur_text.extend(occurence_text)\n",
    "        history_occur_target.extend(occurence_target)\n",
    "        ix_fold += 1\n",
    "\n",
    "        print(\"\")\n",
    "        print(\"Training complete!\")\n",
    "        \n",
    "    results = pd.DataFrame()\n",
    "    results['samples'] = history_samples\n",
    "    results['preds'] =history_preds\n",
    "    results['true_val'] =history_labels\n",
    "    results['raw'] = history_input\n",
    "    results['raw'] = results['raw'].astype(str)\n",
    "    results['target'] = history_target\n",
    "    results['index'] = history_index\n",
    "    results['occur_text'] = history_occur_text\n",
    "    results['occur_target'] = history_occur_target\n",
    "    \n",
    "    results_window[window_x] = results"
   ]
  },
  {
   "cell_type": "code",
   "execution_count": 11,
   "metadata": {},
   "outputs": [],
   "source": [
    "for window_ix in results_window:\n",
    "    results_window[window_ix]['mae'] = results_window[window_ix].apply(lambda x: mean_absolute_error([x.preds],[x.true_val]), axis=1)\n",
    "    results_window[window_ix]['mse'] = results_window[window_ix].apply(lambda x: mean_squared_error([x.preds],[x.true_val]), axis=1)\n",
    "    results_window[window_ix]['discrete_occur'] = results_window[window_ix].apply(lambda x: x.occur_target if (x.occur_target == 0 or x.occur_target == 1) else 2, axis=1)\n",
    "    "
   ]
  },
  {
   "cell_type": "code",
   "execution_count": 13,
   "metadata": {
    "scrolled": true
   },
   "outputs": [
    {
     "data": {
      "text/html": [
       "<div>\n",
       "<style scoped>\n",
       "    .dataframe tbody tr th:only-of-type {\n",
       "        vertical-align: middle;\n",
       "    }\n",
       "\n",
       "    .dataframe tbody tr th {\n",
       "        vertical-align: top;\n",
       "    }\n",
       "\n",
       "    .dataframe thead th {\n",
       "        text-align: right;\n",
       "    }\n",
       "</style>\n",
       "<table border=\"1\" class=\"dataframe\">\n",
       "  <thead>\n",
       "    <tr style=\"text-align: right;\">\n",
       "      <th></th>\n",
       "      <th>samples</th>\n",
       "      <th>preds</th>\n",
       "      <th>true_val</th>\n",
       "      <th>raw</th>\n",
       "      <th>target</th>\n",
       "      <th>index</th>\n",
       "      <th>occur_text</th>\n",
       "      <th>occur_target</th>\n",
       "      <th>mae</th>\n",
       "      <th>mse</th>\n",
       "      <th>discrete_occur</th>\n",
       "    </tr>\n",
       "  </thead>\n",
       "  <tbody>\n",
       "    <tr>\n",
       "      <th>0</th>\n",
       "      <td>and six daughters; but his brothers didn't hav...</td>\n",
       "      <td>0.088512</td>\n",
       "      <td>0.150000</td>\n",
       "      <td>Shimei had sixteen sons and six daughters; but...</td>\n",
       "      <td>brothers</td>\n",
       "      <td>0</td>\n",
       "      <td>7</td>\n",
       "      <td>2</td>\n",
       "      <td>0.061488</td>\n",
       "      <td>0.003781</td>\n",
       "      <td>2</td>\n",
       "    </tr>\n",
       "    <tr>\n",
       "      <th>1</th>\n",
       "      <td>the lake that burns with fire and sulfur, whic...</td>\n",
       "      <td>0.193253</td>\n",
       "      <td>0.133333</td>\n",
       "      <td>But for the cowardly, unbelieving, sinners, ab...</td>\n",
       "      <td>fire</td>\n",
       "      <td>0</td>\n",
       "      <td>25</td>\n",
       "      <td>4</td>\n",
       "      <td>0.059919</td>\n",
       "      <td>0.003590</td>\n",
       "      <td>2</td>\n",
       "    </tr>\n",
       "    <tr>\n",
       "      <th>2</th>\n",
       "      <td>of suffering, and acquainted with disease.</td>\n",
       "      <td>0.171035</td>\n",
       "      <td>0.125000</td>\n",
       "      <td>He was despised, and rejected by men; a man of...</td>\n",
       "      <td>disease</td>\n",
       "      <td>0</td>\n",
       "      <td>40</td>\n",
       "      <td>4</td>\n",
       "      <td>0.046035</td>\n",
       "      <td>0.002119</td>\n",
       "      <td>2</td>\n",
       "    </tr>\n",
       "    <tr>\n",
       "      <th>3</th>\n",
       "      <td>another comes in his own name, you will receiv...</td>\n",
       "      <td>0.164845</td>\n",
       "      <td>0.176471</td>\n",
       "      <td>If another comes in his own name, you will rec...</td>\n",
       "      <td>name</td>\n",
       "      <td>0</td>\n",
       "      <td>25</td>\n",
       "      <td>3</td>\n",
       "      <td>0.011626</td>\n",
       "      <td>0.000135</td>\n",
       "      <td>2</td>\n",
       "    </tr>\n",
       "    <tr>\n",
       "      <th>4</th>\n",
       "      <td>the earth; Yahweh is his name.</td>\n",
       "      <td>0.262728</td>\n",
       "      <td>0.208333</td>\n",
       "      <td>It is he who builds his rooms in the heavens, ...</td>\n",
       "      <td>name</td>\n",
       "      <td>0</td>\n",
       "      <td>25</td>\n",
       "      <td>3</td>\n",
       "      <td>0.054395</td>\n",
       "      <td>0.002959</td>\n",
       "      <td>2</td>\n",
       "    </tr>\n",
       "    <tr>\n",
       "      <th>...</th>\n",
       "      <td>...</td>\n",
       "      <td>...</td>\n",
       "      <td>...</td>\n",
       "      <td>...</td>\n",
       "      <td>...</td>\n",
       "      <td>...</td>\n",
       "      <td>...</td>\n",
       "      <td>...</td>\n",
       "      <td>...</td>\n",
       "      <td>...</td>\n",
       "      <td>...</td>\n",
       "    </tr>\n",
       "    <tr>\n",
       "      <th>7227</th>\n",
       "      <td>this most appalling form of totalitarianism, a...</td>\n",
       "      <td>0.280678</td>\n",
       "      <td>0.573529</td>\n",
       "      <td>Well, I believe that the main difficulty in th...</td>\n",
       "      <td>totalitarianism</td>\n",
       "      <td>7</td>\n",
       "      <td>0</td>\n",
       "      <td>0</td>\n",
       "      <td>0.292852</td>\n",
       "      <td>0.085762</td>\n",
       "      <td>0</td>\n",
       "    </tr>\n",
       "    <tr>\n",
       "      <th>7228</th>\n",
       "      <td>in the implementation of the Leonardo programm...</td>\n",
       "      <td>0.399483</td>\n",
       "      <td>0.593750</td>\n",
       "      <td>I need only remind the House of the occurrence...</td>\n",
       "      <td>Leonardo</td>\n",
       "      <td>7</td>\n",
       "      <td>1</td>\n",
       "      <td>0</td>\n",
       "      <td>0.194267</td>\n",
       "      <td>0.037740</td>\n",
       "      <td>0</td>\n",
       "    </tr>\n",
       "    <tr>\n",
       "      <th>7229</th>\n",
       "      <td>the chief engineer, to the boatswain, to the m...</td>\n",
       "      <td>0.275798</td>\n",
       "      <td>0.650000</td>\n",
       "      <td>I think it is very important to add that more ...</td>\n",
       "      <td>boatswain</td>\n",
       "      <td>7</td>\n",
       "      <td>0</td>\n",
       "      <td>0</td>\n",
       "      <td>0.374202</td>\n",
       "      <td>0.140027</td>\n",
       "      <td>0</td>\n",
       "    </tr>\n",
       "    <tr>\n",
       "      <th>7230</th>\n",
       "      <td>and unprecedented consequences, and new jurisp...</td>\n",
       "      <td>0.260539</td>\n",
       "      <td>0.671875</td>\n",
       "      <td>The struggle against global Islamic terrorism ...</td>\n",
       "      <td>jurisprudence</td>\n",
       "      <td>7</td>\n",
       "      <td>0</td>\n",
       "      <td>0</td>\n",
       "      <td>0.411336</td>\n",
       "      <td>0.169197</td>\n",
       "      <td>0</td>\n",
       "    </tr>\n",
       "    <tr>\n",
       "      <th>7231</th>\n",
       "      <td>at the airport receiving the Emir of Qatar, an...</td>\n",
       "      <td>0.268856</td>\n",
       "      <td>0.675000</td>\n",
       "      <td>The reason I was slightly late was that I was ...</td>\n",
       "      <td>Emir</td>\n",
       "      <td>7</td>\n",
       "      <td>0</td>\n",
       "      <td>0</td>\n",
       "      <td>0.406144</td>\n",
       "      <td>0.164953</td>\n",
       "      <td>0</td>\n",
       "    </tr>\n",
       "  </tbody>\n",
       "</table>\n",
       "<p>7232 rows × 11 columns</p>\n",
       "</div>"
      ],
      "text/plain": [
       "                                                samples     preds  true_val  \\\n",
       "0     and six daughters; but his brothers didn't hav...  0.088512  0.150000   \n",
       "1     the lake that burns with fire and sulfur, whic...  0.193253  0.133333   \n",
       "2            of suffering, and acquainted with disease.  0.171035  0.125000   \n",
       "3     another comes in his own name, you will receiv...  0.164845  0.176471   \n",
       "4                        the earth; Yahweh is his name.  0.262728  0.208333   \n",
       "...                                                 ...       ...       ...   \n",
       "7227  this most appalling form of totalitarianism, a...  0.280678  0.573529   \n",
       "7228  in the implementation of the Leonardo programm...  0.399483  0.593750   \n",
       "7229  the chief engineer, to the boatswain, to the m...  0.275798  0.650000   \n",
       "7230  and unprecedented consequences, and new jurisp...  0.260539  0.671875   \n",
       "7231  at the airport receiving the Emir of Qatar, an...  0.268856  0.675000   \n",
       "\n",
       "                                                    raw           target  \\\n",
       "0     Shimei had sixteen sons and six daughters; but...         brothers   \n",
       "1     But for the cowardly, unbelieving, sinners, ab...             fire   \n",
       "2     He was despised, and rejected by men; a man of...          disease   \n",
       "3     If another comes in his own name, you will rec...             name   \n",
       "4     It is he who builds his rooms in the heavens, ...             name   \n",
       "...                                                 ...              ...   \n",
       "7227  Well, I believe that the main difficulty in th...  totalitarianism   \n",
       "7228  I need only remind the House of the occurrence...         Leonardo   \n",
       "7229  I think it is very important to add that more ...        boatswain   \n",
       "7230  The struggle against global Islamic terrorism ...    jurisprudence   \n",
       "7231  The reason I was slightly late was that I was ...             Emir   \n",
       "\n",
       "      index  occur_text  occur_target       mae       mse  discrete_occur  \n",
       "0         0           7             2  0.061488  0.003781               2  \n",
       "1         0          25             4  0.059919  0.003590               2  \n",
       "2         0          40             4  0.046035  0.002119               2  \n",
       "3         0          25             3  0.011626  0.000135               2  \n",
       "4         0          25             3  0.054395  0.002959               2  \n",
       "...     ...         ...           ...       ...       ...             ...  \n",
       "7227      7           0             0  0.292852  0.085762               0  \n",
       "7228      7           1             0  0.194267  0.037740               0  \n",
       "7229      7           0             0  0.374202  0.140027               0  \n",
       "7230      7           0             0  0.411336  0.169197               0  \n",
       "7231      7           0             0  0.406144  0.164953               0  \n",
       "\n",
       "[7232 rows x 11 columns]"
      ]
     },
     "execution_count": 13,
     "metadata": {},
     "output_type": "execute_result"
    }
   ],
   "source": [
    "results_window[5]"
   ]
  },
  {
   "cell_type": "code",
   "execution_count": 14,
   "metadata": {
    "scrolled": true
   },
   "outputs": [
    {
     "name": "stdout",
     "output_type": "stream",
     "text": [
      "Window of 0\n",
      "MAE --- Mean: 0.0718  Std: 0.0027\n",
      "MSE --- Mean: 0.0085  Std: 0.0007\n",
      "\n",
      "Window of 1\n",
      "MAE --- Mean: 0.0756  Std: 0.0027\n",
      "MSE --- Mean: 0.0097  Std: 0.0009\n",
      "\n",
      "Window of 2\n",
      "MAE --- Mean: 0.0793  Std: 0.0032\n",
      "MSE --- Mean: 0.011  Std: 0.001\n",
      "\n",
      "Window of 3\n",
      "MAE --- Mean: 0.0905  Std: 0.0179\n",
      "MSE --- Mean: 0.0157  Std: 0.0087\n",
      "\n",
      "Window of 4\n",
      "MAE --- Mean: 0.0888  Std: 0.0055\n",
      "MSE --- Mean: 0.0137  Std: 0.0015\n",
      "\n",
      "Window of 5\n",
      "MAE --- Mean: 0.0914  Std: 0.005\n",
      "MSE --- Mean: 0.0143  Std: 0.0013\n",
      "\n"
     ]
    }
   ],
   "source": [
    "for window_ix in results_window:\n",
    "    print('Window of', window_ix)\n",
    "\n",
    "    mae = results_window[window_ix].groupby(['index']).mae.mean()\n",
    "    mse = results_window[window_ix].groupby(['index']).mse.mean()\n",
    "    #r_2 = results_window[window_ix].groupby(['index']).\n",
    "    \n",
    "    print('MAE --- Mean:', round(np.mean(mae), 4), ' Std:', round(np.std(mae), 4))\n",
    "    print('MSE --- Mean:', round(np.mean(mse), 4), ' Std:', round(np.std(mse), 4))\n",
    "    #print('R2  --- Mean:', round(np.mean(r_2), 4), ' Std:', round(np.std(r_2), 4))\n",
    "    print()\n"
   ]
  },
  {
   "cell_type": "code",
   "execution_count": 17,
   "metadata": {
    "scrolled": true
   },
   "outputs": [
    {
     "name": "stdout",
     "output_type": "stream",
     "text": [
      "Window of 0\n",
      "   discrete_occur  mse_mean   mse_std  mae_mean   mae_std\n",
      "0               0  0.008812  0.000606  0.072836  0.002404\n",
      "1               1  0.010205  0.001394  0.077206  0.005709\n",
      "2               2  0.007905  0.000990  0.069754  0.004057\n",
      "\n",
      "Window of 1\n",
      "   discrete_occur  mse_mean   mse_std  mae_mean   mae_std\n",
      "0               0  0.009973  0.001016  0.075946  0.001757\n",
      "1               1  0.010327  0.001293  0.077419  0.004650\n",
      "2               2  0.009393  0.001491  0.074841  0.005250\n",
      "\n",
      "Window of 2\n",
      "   discrete_occur  mse_mean   mse_std  mae_mean   mae_std\n",
      "0               0  0.012257  0.001628  0.082450  0.003309\n",
      "1               1  0.011527  0.001732  0.081327  0.005620\n",
      "2               2  0.010255  0.001343  0.077231  0.005096\n",
      "\n",
      "Window of 3\n",
      "   discrete_occur  mse_mean   mse_std  mae_mean   mae_std\n",
      "0               0  0.016371  0.004985  0.094101  0.010960\n",
      "1               1  0.016060  0.009485  0.091190  0.019704\n",
      "2               2  0.015287  0.011311  0.088595  0.023052\n",
      "\n",
      "Window of 4\n",
      "   discrete_occur  mse_mean   mse_std  mae_mean   mae_std\n",
      "0               0  0.015122  0.002032  0.092893  0.006417\n",
      "1               1  0.013995  0.001862  0.089151  0.005855\n",
      "2               2  0.012859  0.002264  0.086739  0.008334\n",
      "\n",
      "Window of 5\n",
      "   discrete_occur  mse_mean   mse_std  mae_mean   mae_std\n",
      "0               0  0.015783  0.001955  0.095786  0.005529\n",
      "1               1  0.014290  0.002267  0.090551  0.006010\n",
      "2               2  0.013606  0.001928  0.089647  0.008364\n",
      "\n"
     ]
    }
   ],
   "source": [
    "for window_ix in results_window:\n",
    "    df_temp = results_window[window_ix].groupby(['index', 'discrete_occur']).agg({'mse': 'mean',\n",
    "                                                                         'mae': 'mean'}).reset_index()\n",
    "    df_temp = df_temp.groupby('discrete_occur').agg({'mse': ['mean', 'std'],\n",
    "                                          'mae': ['mean', 'std']}).reset_index()\n",
    "    df_temp.columns = ['_'.join(col).strip('_') for col in df_temp.columns]\n",
    "    print('Window of', window_ix)\n",
    "    print(df_temp)\n",
    "    print()"
   ]
  },
  {
   "cell_type": "code",
   "execution_count": 16,
   "metadata": {},
   "outputs": [],
   "source": [
    "import spacy\n",
    "\n",
    "nlp = spacy.load(\"en_core_web_sm\")\n",
    "def find_pos(sentence, ref):\n",
    "    doc = nlp(sentence)\n",
    "    for token in doc:\n",
    "        if token.text == ref:\n",
    "            return token.pos_"
   ]
  },
  {
   "cell_type": "code",
   "execution_count": 13,
   "metadata": {},
   "outputs": [],
   "source": [
    "results = pd.DataFrame()\n",
    "results['samples'] = history_samples\n",
    "results['metrics'] = history_logits\n",
    "results['raw'] = history_input\n",
    "results['raw'] = results['raw'].astype(str)\n",
    "results['target'] = history_target"
   ]
  },
  {
   "cell_type": "code",
   "execution_count": 59,
   "metadata": {},
   "outputs": [],
   "source": [
    "results['index'] = history_index"
   ]
  },
  {
   "cell_type": "code",
   "execution_count": 14,
   "metadata": {},
   "outputs": [
    {
     "name": "stdout",
     "output_type": "stream",
     "text": [
      "INFO: Pandarallel will run on 12 workers.\n",
      "INFO: Pandarallel will use Memory file system to transfer data between the main process and workers.\n"
     ]
    }
   ],
   "source": [
    "from pandarallel import pandarallel\n",
    "pandarallel.initixalize()\n"
   ]
  },
  {
   "cell_type": "code",
   "execution_count": 15,
   "metadata": {},
   "outputs": [],
   "source": [
    "results['pos_label'] =  results.parallel_apply(lambda x: find_pos(x.raw, x.target), axis=1)"
   ]
  },
  {
   "cell_type": "code",
   "execution_count": 51,
   "metadata": {},
   "outputs": [
    {
     "data": {
      "text/html": [
       "<div>\n",
       "<style scoped>\n",
       "    .dataframe tbody tr th:only-of-type {\n",
       "        vertical-align: middle;\n",
       "    }\n",
       "\n",
       "    .dataframe tbody tr th {\n",
       "        vertical-align: top;\n",
       "    }\n",
       "\n",
       "    .dataframe thead th {\n",
       "        text-align: right;\n",
       "    }\n",
       "</style>\n",
       "<table border=\"1\" class=\"dataframe\">\n",
       "  <thead>\n",
       "    <tr style=\"text-align: right;\">\n",
       "      <th></th>\n",
       "      <th>samples</th>\n",
       "      <th>metrics</th>\n",
       "      <th>raw</th>\n",
       "      <th>target</th>\n",
       "      <th>pos_label</th>\n",
       "      <th>index</th>\n",
       "    </tr>\n",
       "  </thead>\n",
       "  <tbody>\n",
       "    <tr>\n",
       "      <th>0</th>\n",
       "      <td>with your brothers, the prophets,</td>\n",
       "      <td>0.235160</td>\n",
       "      <td>I am a fellow bondservant with you and with yo...</td>\n",
       "      <td>brothers</td>\n",
       "      <td>NOUN</td>\n",
       "      <td>0</td>\n",
       "    </tr>\n",
       "    <tr>\n",
       "      <th>1</th>\n",
       "      <td>The sons of Perez:</td>\n",
       "      <td>0.095476</td>\n",
       "      <td>The sons of Perez: Hezron, and Hamul.</td>\n",
       "      <td>sons</td>\n",
       "      <td>NOUN</td>\n",
       "      <td>0</td>\n",
       "    </tr>\n",
       "    <tr>\n",
       "      <th>2</th>\n",
       "      <td>The days of our</td>\n",
       "      <td>0.188235</td>\n",
       "      <td>The days of our years are seventy, or even by ...</td>\n",
       "      <td>days</td>\n",
       "      <td>NOUN</td>\n",
       "      <td>0</td>\n",
       "    </tr>\n",
       "  </tbody>\n",
       "</table>\n",
       "</div>"
      ],
      "text/plain": [
       "                             samples   metrics  \\\n",
       "0  with your brothers, the prophets,  0.235160   \n",
       "1                 The sons of Perez:  0.095476   \n",
       "2                    The days of our  0.188235   \n",
       "\n",
       "                                                 raw    target pos_label  \\\n",
       "0  I am a fellow bondservant with you and with yo...  brothers      NOUN   \n",
       "1              The sons of Perez: Hezron, and Hamul.      sons      NOUN   \n",
       "2  The days of our years are seventy, or even by ...      days      NOUN   \n",
       "\n",
       "   index  \n",
       "0      0  \n",
       "1      0  \n",
       "2      0  "
      ]
     },
     "execution_count": 51,
     "metadata": {},
     "output_type": "execute_result"
    }
   ],
   "source": [
    "results.head(3)"
   ]
  },
  {
   "cell_type": "code",
   "execution_count": 24,
   "metadata": {},
   "outputs": [
    {
     "name": "stderr",
     "output_type": "stream",
     "text": [
      "/home/krivas/anaconda3/lib/python3.7/site-packages/seaborn/_decorators.py:43: FutureWarning: Pass the following variable as a keyword arg: x. From version 0.12, the only valid positional argument will be `data`, and passing other arguments without an explicit keyword will result in an error or misinterpretation.\n",
      "  FutureWarning\n"
     ]
    },
    {
     "data": {
      "image/png": "[encoded data removed]",
      "text/plain": [
       "<Figure size 432x288 with 1 Axes>"
      ]
     },
     "metadata": {
      "needs_background": "light"
     },
     "output_type": "display_data"
    }
   ],
   "source": [
    "import seaborn as sns\n",
    "import matplotlib.pyplot as plt\n",
    "\n",
    "%matplotlib inline\n",
    "sns.boxplot(results.metrics)\n",
    "plt.show()"
   ]
  },
  {
   "cell_type": "code",
   "execution_count": 19,
   "metadata": {},
   "outputs": [
    {
     "data": {
      "text/plain": [
       "0.07860309877731128"
      ]
     },
     "execution_count": 19,
     "metadata": {},
     "output_type": "execute_result"
    }
   ],
   "source": [
    "np.mean(results.metrics)"
   ]
  },
  {
   "cell_type": "markdown",
   "metadata": {},
   "source": [
    "## Results"
   ]
  },
  {
   "cell_type": "markdown",
   "metadata": {},
   "source": [
    "- mean and std with 5 Folds"
   ]
  },
  {
   "cell_type": "code",
   "execution_count": 20,
   "metadata": {},
   "outputs": [
    {
     "data": {
      "text/plain": [
       "(0.07860287763834664, 0.0013531799355138525)"
      ]
     },
     "execution_count": 20,
     "metadata": {},
     "output_type": "execute_result"
    }
   ],
   "source": [
    "np.mean([metric['Valid. Accur.'] for metric in history_metrics if metric['epoch'] == epochs]), np.std([metric['Valid. Accur.'] for metric in history_metrics if metric['epoch'] == epochs])\n"
   ]
  },
  {
   "cell_type": "markdown",
   "metadata": {},
   "source": [
    "- Evaluate on 1 occurence"
   ]
  },
  {
   "cell_type": "code",
   "execution_count": 72,
   "metadata": {},
   "outputs": [
    {
     "name": "stdout",
     "output_type": "stream",
     "text": [
      "With shape of  (1704, 7)\n"
     ]
    },
    {
     "data": {
      "text/plain": [
       "(0.08478344947012915, 0.003118498473680763)"
      ]
     },
     "execution_count": 72,
     "metadata": {},
     "output_type": "execute_result"
    }
   ],
   "source": [
    "df_temp = results.groupby('target')[['metrics']].count().reset_index()\n",
    "df_temp.columns = ['target', 'count']\n",
    "results_one = pd.merge(results, df_temp.loc[df_temp['count'] == 1], on='target')\n",
    "df_temp = results_one.groupby(['index'])[['metrics']].mean()\n",
    "print('With shape of ', results_one.shape)\n",
    "np.mean(df_temp['metrics']), np.std(df_temp['metrics'])"
   ]
  },
  {
   "cell_type": "code",
   "execution_count": 73,
   "metadata": {},
   "outputs": [
    {
     "name": "stdout",
     "output_type": "stream",
     "text": [
      "With shape of  (5525, 7)\n"
     ]
    },
    {
     "data": {
      "text/plain": [
       "(0.07665920874978771, 0.0021418881362506303)"
      ]
     },
     "execution_count": 73,
     "metadata": {},
     "output_type": "execute_result"
    }
   ],
   "source": [
    "df_temp = results.groupby('target')[['metrics']].count().reset_index()\n",
    "df_temp.columns = ['target', 'count']\n",
    "results_many = pd.merge(results, df_temp.loc[df_temp['count'] > 1], on='target')\n",
    "df_temp = results_many.groupby(['index'])[['metrics']].mean()\n",
    "print('With shape of ', results_many.shape)\n",
    "np.mean(df_temp['metrics']), np.std(df_temp['metrics'])"
   ]
  },
  {
   "cell_type": "code",
   "execution_count": 78,
   "metadata": {},
   "outputs": [
    {
     "data": {
      "image/png": "[encoded data removed]",
      "text/plain": [
       "<Figure size 432x288 with 1 Axes>"
      ]
     },
     "metadata": {
      "needs_background": "light"
     },
     "output_type": "display_data"
    }
   ],
   "source": [
    "p1 = sns.lineplot(x='pos_label', y='metrics', data=results_many.loc[results_many.pos_label.notnull()], ci=98, markers='o', color='blue')\n",
    "p2 = sns.lineplot(x='pos_label', y='metrics', data=results_one.loc[results_one.pos_label.notnull()], ci=98, markers='o', color='black')\n",
    "plt.legend(['mas de uno', 'uno'])\n",
    "plt.show()"
   ]
  },
  {
   "cell_type": "markdown",
   "metadata": {},
   "source": [
    "- Eval on pos tag"
   ]
  },
  {
   "cell_type": "code",
   "execution_count": 25,
   "metadata": {},
   "outputs": [
    {
     "data": {
      "image/png": "[encoded data removed]",
      "text/plain": [
       "<Figure size 432x288 with 1 Axes>"
      ]
     },
     "metadata": {
      "needs_background": "light"
     },
     "output_type": "display_data"
    }
   ],
   "source": [
    "sns.lineplot(x='pos_label', y='metrics', data=results.loc[results.pos_label.notnull()], ci=98, markers='o')\n",
    "plt.show()"
   ]
  },
  {
   "cell_type": "code",
   "execution_count": null,
   "metadata": {},
   "outputs": [],
   "source": []
  }
 ],
 "metadata": {
  "kernelspec": {
   "display_name": "Python 3",
   "language": "python",
   "name": "python3"
  },
  "language_info": {
   "codemirror_mode": {
    "name": "ipython",
    "version": 3
   },
   "file_extension": ".py",
   "mimetype": "text/x-python",
   "name": "python",
   "nbconvert_exporter": "python",
   "pygments_lexer": "ipython3",
   "version": "3.7.3"
  }
 },
 "nbformat": 4,
 "nbformat_minor": 4
}
